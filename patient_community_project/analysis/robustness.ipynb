{
 "cells": [
  {
   "cell_type": "code",
   "execution_count": 6,
   "id": "1d563178",
   "metadata": {},
   "outputs": [
    {
     "name": "stdout",
     "output_type": "stream",
     "text": [
      "✅ Summary saved to 'robustness_summary.csv'\n",
      "✅ LaTeX table saved to 'robustness_metrics_table.txt'\n"
     ]
    }
   ],
   "source": [
    "import os\n",
    "import pandas as pd\n",
    "\n",
    "# Define paths to your CSV files\n",
    "DATA_PATH = os.path.join(\"../data/\", \"full\")\n",
    "csv_files = {\n",
    "    \"Baseline\": os.path.join(DATA_PATH, \"normal\", \"robustness_metrics.csv\"),\n",
    "    \"10% Edges Removed\": os.path.join(DATA_PATH, \"edge\", \"robustness_metrics.csv\"),\n",
    "    \"10% Nodes Removed\": os.path.join(DATA_PATH, \"node\", \"robustness_metrics.csv\"),\n",
    "    \"Survival Perturbed\": os.path.join(DATA_PATH, \"noise\", \"robustness_metrics.csv\"),\n",
    "}\n",
    "\n",
    "# Metrics to summarize\n",
    "metrics = [\n",
    "    \"adjusted_rand_index\",\n",
    "    \"normalized_mutual_info\",\n",
    "    \"omega_index\",\n",
    "    \"onmi\",\n",
    "]\n",
    "\n",
    "# Collect summary\n",
    "summary = []\n",
    "for name, path in csv_files.items():\n",
    "    df = pd.read_csv(path)\n",
    "    row = {\"Experiment\": name}\n",
    "    for metric in metrics:\n",
    "        mean = round(df[metric].mean(), 4)\n",
    "        std = round(df[metric].std(), 4)\n",
    "        row[metric] = f\"{mean} ± {std}\"\n",
    "    summary.append(row)\n",
    "\n",
    "# Create DataFrame\n",
    "summary_df = pd.DataFrame(summary)\n",
    "summary_df.to_csv(os.path.join(DATA_PATH, \"normal\",\"robustness_summary.csv\"), index=False)\n",
    "\n",
    "# Generate LaTeX table\n",
    "latex_lines = [\n",
    "    \"\\\\begin{table}[htpp]\",\n",
    "    \"\\\\begin{center}\",\n",
    "    \"\\\\begin{tabular}{|l|\" + \"c|\" * len(metrics) + \"}\",\n",
    "    \"\\\\hline\",\n",
    "    \"\\\\textbf{Experiment} & \" + \" & \".join([f\"\\\\textbf{{{metric.replace('_', ' ').title()}}}\" for metric in metrics]) + \" \\\\\\\\ \\\\hline\"\n",
    "]\n",
    "\n",
    "for _, row in summary_df.iterrows():\n",
    "    line = row[\"Experiment\"] + \" & \" + \" & \".join([row[metric] for metric in metrics]) + \" \\\\\\\\ \\\\hline\"\n",
    "    latex_lines.append(line)\n",
    "\n",
    "latex_lines += [\n",
    "    \"\\\\end{tabular}\",\n",
    "    \"\\\\end{center}\",\n",
    "    \"\\\\caption{Robustness Metrics Across Perturbation Experiments}\",\n",
    "    \"\\\\label{robustness_metrics}\",\n",
    "    \"\\\\end{table}\"\n",
    "]\n",
    "\n",
    "# Save LaTeX table\n",
    "os.path.join(DATA_PATH, \"normal\", \"robustness_metrics_table.txt\")\n",
    "os.makedirs(os.path.join(DATA_PATH, \"normal\"), exist_ok=True)\n",
    "with open(os.path.join(DATA_PATH, \"normal\", \"robustness_metrics_table.txt\"), \"w\") as f:\n",
    "    f.write(\"\\n\".join(latex_lines))\n",
    "\n",
    "print(\"✅ Summary saved to 'robustness_summary.csv'\")\n",
    "print(\"✅ LaTeX table saved to 'robustness_metrics_table.txt'\")\n"
   ]
  },
  {
   "cell_type": "code",
   "execution_count": 7,
   "id": "a070112d",
   "metadata": {},
   "outputs": [
    {
     "name": "stdout",
     "output_type": "stream",
     "text": [
      "✅ Transposed summary saved to 'robustness_summary.csv'\n",
      "✅ Transposed LaTeX table saved to 'robustness_metrics_table.txt'\n"
     ]
    }
   ],
   "source": [
    "# Transpose summary table and save, then generate LaTeX for transposed table\n",
    "transposed_df = summary_df.set_index('Experiment').T.reset_index()\n",
    "transposed_df.rename(columns={'index': 'Metric'}, inplace=True)\n",
    "transposed_df.to_csv(os.path.join(DATA_PATH, \"normal\", \"robustness_summary.csv\"), index=False)\n",
    "\n",
    "# Generate LaTeX table for transposed table\n",
    "latex_lines_t = [\n",
    "    \"\\\\begin{table}[htpp]\",\n",
    "    \"\\\\begin{center}\",\n",
    "    \"\\\\begin{tabular}{|l|\" + \"c|\" * (transposed_df.shape[1] - 1) + \"}\",\n",
    "    \"\\\\hline\",\n",
    "    \"\\\\textbf{Metric} & \" + \" & \".join([f\"\\\\textbf{{{col}}}\" for col in transposed_df.columns if col != 'Metric']) + \" \\\\\\\\ \\\\hline\"\n",
    "]\n",
    "for _, row in transposed_df.iterrows():\n",
    "    line = row['Metric'] + \" & \" + \" & \".join([str(row[col]) for col in transposed_df.columns if col != 'Metric']) + \" \\\\\\\\ \\\\hline\"\n",
    "    latex_lines_t.append(line)\n",
    "latex_lines_t += [\n",
    "    \"\\\\end{tabular}\",\n",
    "    \"\\\\end{center}\",\n",
    "    \"\\\\caption{Robustness Metrics Across Perturbation Experiments}\",\n",
    "    \"\\\\label{robustness_metrics_transposed}\",\n",
    "    \"\\\\end{table}\"\n",
    "]\n",
    "with open(os.path.join(DATA_PATH, \"normal\", \"robustness_metrics_table.txt\"), \"w\") as f:\n",
    "    f.write(\"\\n\".join(latex_lines_t))\n",
    "print(\"✅ Transposed summary saved to 'robustness_summary.csv'\")\n",
    "print(\"✅ Transposed LaTeX table saved to 'robustness_metrics_table.txt'\")"
   ]
  }
 ],
 "metadata": {
  "kernelspec": {
   "display_name": "mscthesis",
   "language": "python",
   "name": "python3"
  },
  "language_info": {
   "codemirror_mode": {
    "name": "ipython",
    "version": 3
   },
   "file_extension": ".py",
   "mimetype": "text/x-python",
   "name": "python",
   "nbconvert_exporter": "python",
   "pygments_lexer": "ipython3",
   "version": "3.9.21"
  }
 },
 "nbformat": 4,
 "nbformat_minor": 5
}
