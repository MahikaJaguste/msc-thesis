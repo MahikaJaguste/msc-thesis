{
 "cells": [
  {
   "cell_type": "code",
   "execution_count": 219,
   "id": "b6b3009f",
   "metadata": {},
   "outputs": [],
   "source": [
    "import pandas as pd\n",
    "import numpy as np\n",
    "import seaborn as sns\n",
    "import matplotlib.pyplot as plt\n",
    "from lifelines import KaplanMeierFitter\n",
    "from scipy.stats import chi2_contingency, kruskal\n",
    "import os\n",
    "import networkx as nx\n",
    "import warnings\n",
    "warnings.filterwarnings(\"ignore\")"
   ]
  },
  {
   "cell_type": "markdown",
   "id": "3badc8d5",
   "metadata": {},
   "source": [
    "## Statistical tests"
   ]
  },
  {
   "cell_type": "code",
   "execution_count": 220,
   "id": "091b0e1b",
   "metadata": {},
   "outputs": [],
   "source": [
    "import scipy.stats as stats\n",
    "\n",
    "def compare_communities(\n",
    "    df, community_col, feature, comm1, comm2, feature_type=\"auto\", positive_value=None\n",
    "):\n",
    "    \"\"\"\n",
    "    Compare a feature between two communities.\n",
    "    - df: DataFrame\n",
    "    - community_col: column with community assignment\n",
    "    - feature: feature to compare\n",
    "    - comm1, comm2: community IDs to compare\n",
    "    - feature_type: 'auto', 'numerical', or 'categorical'\n",
    "    - positive_value: for binary/categorical, value to count as 'positive' (e.g., 'n-CLL')\n",
    "    \"\"\"\n",
    "    # Subset data\n",
    "    # group1 = df[df[community_col] == comm1][feature].dropna()\n",
    "    # group2 = df[df[community_col] == comm2][feature].dropna()\n",
    "    group1 = df[df[community_col] == comm1][feature]\n",
    "    group2 = df[df[community_col] == comm2][feature]\n",
    "\n",
    "\n",
    "    # Auto-detect feature type if needed\n",
    "    if feature_type == \"auto\":\n",
    "        if pd.api.types.is_numeric_dtype(group1) and pd.api.types.is_numeric_dtype(group2):\n",
    "            feature_type = \"numerical\"\n",
    "        else:\n",
    "            feature_type = \"categorical\"\n",
    "\n",
    "    print(f\"\\nComparing '{feature}' between communities {comm1} and {comm2} ({feature_type})\")\n",
    "\n",
    "    if feature_type == \"numerical\":\n",
    "        # Mann-Whitney U test (non-parametric, robust for medians)\n",
    "        group1 = group1.dropna()\n",
    "        group2 = group2.dropna()\n",
    "        stat, p = stats.mannwhitneyu(group1, group2, alternative='two-sided')\n",
    "        med1, med2 = group1.median(), group2.median()\n",
    "        print(f\"Median (Comm {comm1}): {med1:.2f}, Median (Comm {comm2}): {med2:.2f}\")\n",
    "        print(f\"Mann-Whitney U statistic: {stat:.3f}, p-value: {p:.3f}\")\n",
    "    else:\n",
    "        # Categorical: compare proportions of positive_value\n",
    "        if positive_value is None:\n",
    "            # Use the most frequent value in both groups\n",
    "            positive_value = pd.concat([group1, group2]).value_counts().idxmax()\n",
    "        count1 = (group1 == positive_value).sum()\n",
    "        count2 = (group2 == positive_value).sum()\n",
    "        n1, n2 = len(group1), len(group2)\n",
    "        pct1 = 100 * count1 / n1 if n1 else 0\n",
    "        pct2 = 100 * count2 / n2 if n2 else 0\n",
    "        print(f\"% {positive_value} (Comm {comm1}): {pct1:.2f}% ({count1}/{n1}), (Comm {comm2}): {pct2:.2f}% ({count2}/{n2})\")\n",
    "        table = np.array([[count1, n1 - count1], [count2, n2 - count2]])\n",
    "        # Use Fisher's exact if any cell < 5, else Chi-squared\n",
    "        if (table < 5).any():\n",
    "            stat, p = stats.fisher_exact(table)\n",
    "            print(f\"Fisher's exact test odds ratio: {stat:.3f}, p-value: {p:.3f}\")\n",
    "        else:\n",
    "            stat, p, _, _ = stats.chi2_contingency(table)\n",
    "            print(f\"Chi-squared statistic: {stat:.3f}, p-value: {p:.3f}\")\n",
    "\n",
    "    if p < 0.05:\n",
    "        print(\"Result: Significant difference (p < 0.05)\")\n",
    "    else:\n",
    "        print(\"Result: No significant difference (p >= 0.05)\")"
   ]
  },
  {
   "cell_type": "markdown",
   "id": "19681810",
   "metadata": {},
   "source": [
    "## Load SLPA data"
   ]
  },
  {
   "cell_type": "code",
   "execution_count": 221,
   "id": "6806d8de",
   "metadata": {},
   "outputs": [],
   "source": [
    "base_path = \"../data/full\"\n",
    "algo = \"w_slpa\"\n",
    "patient_df = pd.read_csv(\"../../data/thesis/cll_broad_2022_clinical_data_thesis.csv\")\n",
    "mutation_df = pd.read_csv(\"../../data/thesis/cll_broad_2022_mutations_thesis.csv\")\n",
    "community_df = pd.read_csv(os.path.join(base_path, algo, \"community_assignments.csv\"))"
   ]
  },
  {
   "cell_type": "code",
   "execution_count": 222,
   "id": "5425b6b4",
   "metadata": {},
   "outputs": [
    {
     "data": {
      "text/plain": [
       "(1062, 30)"
      ]
     },
     "execution_count": 222,
     "metadata": {},
     "output_type": "execute_result"
    }
   ],
   "source": [
    "merged_df = pd.merge(patient_df, community_df, on='patientId', how='inner')\n",
    "merged_df.shape"
   ]
  },
  {
   "cell_type": "code",
   "execution_count": 223,
   "id": "4dc7fe52",
   "metadata": {},
   "outputs": [],
   "source": [
    "# Convert FFS_STATUS and OS_STATUS to binary event columns\n",
    "merged_df['FFS_STATUS_EVENT'] = merged_df['FFS_STATUS'].str.startswith('1:').astype(int)\n",
    "merged_df['OS_STATUS_EVENT'] = merged_df['OS_STATUS'].str.startswith('1:').astype(int)"
   ]
  },
  {
   "cell_type": "code",
   "execution_count": 224,
   "id": "164fb319",
   "metadata": {},
   "outputs": [
    {
     "name": "stdout",
     "output_type": "stream",
     "text": [
      "\n",
      "Comparing 'MUTATION_COUNT' between communities 0 and 1 (numerical)\n",
      "Median (Comm 0): 29.00, Median (Comm 1): 26.00\n",
      "Mann-Whitney U statistic: 8787.000, p-value: 0.248\n",
      "Result: No significant difference (p >= 0.05)\n",
      "\n",
      "Comparing 'AGE_SAMPLING' between communities 0 and 1 (numerical)\n",
      "Median (Comm 0): 66.00, Median (Comm 1): 60.50\n",
      "Mann-Whitney U statistic: 12338.500, p-value: 0.000\n",
      "Result: Significant difference (p < 0.05)\n",
      "\n",
      "Comparing 'CLL_EPITYPE' between communities 0 and 1 (categorical)\n",
      "% n-CLL (Comm 0): 58.04% (166/286), (Comm 1): 28.79% (19/66)\n",
      "Chi-squared statistic: 17.251, p-value: 0.000\n",
      "Result: Significant difference (p < 0.05)\n",
      "\n",
      "Comparing 'TUMOR_MOLECULAR_SUBTYPE' between communities 0 and 1 (categorical)\n",
      "% U-CLL (Comm 0): 45.80% (131/286), (Comm 1): 27.27% (18/66)\n",
      "Chi-squared statistic: 6.804, p-value: 0.009\n",
      "Result: Significant difference (p < 0.05)\n"
     ]
    }
   ],
   "source": [
    "compare_communities(merged_df, 'communityId', 'MUTATION_COUNT', 0, 1)\n",
    "compare_communities(merged_df, 'communityId', 'AGE_SAMPLING', 0, 1)\n",
    "compare_communities(merged_df, 'communityId', 'CLL_EPITYPE', 0, 1, feature_type='categorical', positive_value='n-CLL')\n",
    "compare_communities(merged_df, 'communityId', 'TUMOR_MOLECULAR_SUBTYPE', 0, 1, feature_type='categorical', positive_value='U-CLL')"
   ]
  },
  {
   "cell_type": "code",
   "execution_count": 225,
   "id": "50e6b241",
   "metadata": {},
   "outputs": [
    {
     "name": "stdout",
     "output_type": "stream",
     "text": [
      "\n",
      "Comparing 'AGE_SAMPLING' between communities 1 and 2 (numerical)\n",
      "Median (Comm 1): 60.50, Median (Comm 2): 62.00\n",
      "Mann-Whitney U statistic: 10205.500, p-value: 0.399\n",
      "Result: No significant difference (p >= 0.05)\n",
      "\n",
      "Comparing 'MUTATION_COUNT' between communities 1 and 2 (numerical)\n",
      "Median (Comm 1): 26.00, Median (Comm 2): 25.00\n",
      "Mann-Whitney U statistic: 10296.000, p-value: 0.551\n",
      "Result: No significant difference (p >= 0.05)\n",
      "\n",
      "Comparing 'TREATMENT_AFTER_SAMPLING' between communities 1 and 2 (categorical)\n",
      "% Chemo + Ab (Comm 1): 69.70% (46/66), (Comm 2): 32.02% (106/331)\n",
      "Chi-squared statistic: 31.478, p-value: 0.000\n",
      "Result: Significant difference (p < 0.05)\n"
     ]
    }
   ],
   "source": [
    "compare_communities(merged_df, 'communityId', 'AGE_SAMPLING', 1, 2)\n",
    "compare_communities(merged_df, 'communityId', 'MUTATION_COUNT', 1, 2)\n",
    "compare_communities(merged_df, 'communityId', 'TREATMENT_AFTER_SAMPLING', 1, 2, feature_type='categorical', positive_value='Chemo + Ab')"
   ]
  },
  {
   "cell_type": "code",
   "execution_count": 226,
   "id": "7ebed91e",
   "metadata": {},
   "outputs": [
    {
     "name": "stdout",
     "output_type": "stream",
     "text": [
      "\n",
      "Comparing 'AGE_SAMPLING' between communities 2 and 3 (numerical)\n",
      "Median (Comm 2): 62.00, Median (Comm 3): 64.00\n",
      "Mann-Whitney U statistic: 57882.500, p-value: 0.076\n",
      "Result: No significant difference (p >= 0.05)\n",
      "\n",
      "Comparing 'MUTATION_COUNT' between communities 2 and 3 (numerical)\n",
      "Median (Comm 2): 25.00, Median (Comm 3): 23.00\n",
      "Mann-Whitney U statistic: 60326.500, p-value: 0.006\n",
      "Result: Significant difference (p < 0.05)\n",
      "\n",
      "Comparing 'CLL_EPITYPE' between communities 2 and 3 (categorical)\n",
      "% m-CLL (Comm 2): 23.26% (77/331), (Comm 3): 52.51% (199/379)\n",
      "Chi-squared statistic: 62.366, p-value: 0.000\n",
      "Result: Significant difference (p < 0.05)\n",
      "\n",
      "Comparing 'IGHV_MUTATION_STATUS' between communities 2 and 3 (categorical)\n",
      "% mutated (Comm 2): 40.48% (134/331), (Comm 3): 75.20% (285/379)\n",
      "Chi-squared statistic: 86.603, p-value: 0.000\n",
      "Result: Significant difference (p < 0.05)\n"
     ]
    }
   ],
   "source": [
    "compare_communities(merged_df, 'communityId', 'AGE_SAMPLING', 2, 3)\n",
    "compare_communities(merged_df, 'communityId', 'MUTATION_COUNT', 2, 3)\n",
    "compare_communities(merged_df, 'communityId', 'CLL_EPITYPE', 2, 3, feature_type='categorical', positive_value='m-CLL')\n",
    "compare_communities(merged_df, 'communityId', 'IGHV_MUTATION_STATUS', 2, 3, feature_type='categorical', positive_value='mutated')"
   ]
  },
  {
   "cell_type": "markdown",
   "id": "9c7a508c",
   "metadata": {},
   "source": [
    "## Overlapping analysis"
   ]
  },
  {
   "cell_type": "code",
   "execution_count": 227,
   "id": "9865602b",
   "metadata": {},
   "outputs": [],
   "source": [
    "import scipy.stats as stats\n",
    "\n",
    "def compare_overlap_groups(\n",
    "    merged, community_df, overlap_pairs, comm_id_1, comm_id_2, feature, feature_type=\"auto\", positive_value=None\n",
    "):\n",
    "    \"\"\"\n",
    "    Compare a feature between:\n",
    "      - patients in both comm_id_1 and comm_id_2 (overlap group)\n",
    "      - patients only in comm_id_1\n",
    "      - patients only in comm_id_2\n",
    "\n",
    "    Prints stats for:\n",
    "      - overlap vs only comm_id_1\n",
    "      - overlap vs only comm_id_2\n",
    "\n",
    "    Parameters:\n",
    "      - merged: DataFrame with patient info\n",
    "      - community_df: DataFrame with community assignments and is_overlap\n",
    "      - overlap_pairs: DataFrame with patientId and comm_pair\n",
    "      - comm_id_1, comm_id_2: community IDs\n",
    "      - feature: feature to compare\n",
    "      - feature_type: 'auto', 'numerical', or 'categorical'\n",
    "      - positive_value: for categorical, value to count as 'positive'\n",
    "    \"\"\"\n",
    "    comm_pair_str = f'[{comm_id_1}, {comm_id_2}]'\n",
    "    # Find patient ids for each group\n",
    "    overlap_ids = set(overlap_pairs[overlap_pairs['comm_pair'] == comm_pair_str]['patientId'])\n",
    "    only_1_ids = set(community_df[(community_df['communityId'] == comm_id_1) & (~community_df['is_overlap'])]['patientId'])\n",
    "    only_2_ids = set(community_df[(community_df['communityId'] == comm_id_2) & (~community_df['is_overlap'])]['patientId'])\n",
    "\n",
    "    # Subset merged for each group\n",
    "    df_overlap = merged[merged['patientId'].isin(overlap_ids)]\n",
    "    df_only1 = merged[merged['patientId'].isin(only_1_ids)]\n",
    "    df_only2 = merged[merged['patientId'].isin(only_2_ids)]\n",
    "\n",
    "    def do_compare(groupA, groupB, labelA, labelB):\n",
    "        gA = groupA[feature].dropna()\n",
    "        gB = groupB[feature].dropna()\n",
    "        # Auto-detect feature type\n",
    "        ftype = feature_type\n",
    "        if ftype == \"auto\":\n",
    "            if pd.api.types.is_numeric_dtype(gA) and pd.api.types.is_numeric_dtype(gB):\n",
    "                ftype = \"numerical\"\n",
    "            else:\n",
    "                ftype = \"categorical\"\n",
    "        print(f\"\\nComparing '{feature}' between {labelA} and {labelB} ({ftype})\")\n",
    "        if ftype == \"numerical\":\n",
    "            stat, p = stats.mannwhitneyu(gA, gB, alternative='two-sided')\n",
    "            medA, medB = gA.median(), gB.median()\n",
    "            print(f\"Median ({labelA}): {medA:.2f}, Median ({labelB}): {medB:.2f}\")\n",
    "            print(f\"Mann-Whitney U statistic: {stat:.3f}, p-value: {p:.4f}\")\n",
    "        else:\n",
    "            pos_val = positive_value\n",
    "            if pos_val is None:\n",
    "                pos_val = pd.concat([gA, gB]).value_counts().idxmax()\n",
    "            countA = (gA == pos_val).sum()\n",
    "            countB = (gB == pos_val).sum()\n",
    "            nA, nB = len(gA), len(gB)\n",
    "            pctA = 100 * countA / nA if nA else 0\n",
    "            pctB = 100 * countB / nB if nB else 0\n",
    "            print(f\"% {pos_val} ({labelA}): {pctA:.1f}% ({countA}/{nA}), ({labelB}): {pctB:.1f}% ({countB}/{nB})\")\n",
    "            table = np.array([[countA, nA - countA], [countB, nB - countB]])\n",
    "            if (table < 5).any():\n",
    "                stat, p = stats.fisher_exact(table)\n",
    "                print(f\"Fisher's exact test odds ratio: {stat:.3f}, p-value: {p:.4f}\")\n",
    "            else:\n",
    "                stat, p, _, _ = stats.chi2_contingency(table)\n",
    "                print(f\"Chi-squared statistic: {stat:.3f}, p-value: {p:.4f}\")\n",
    "        if p < 0.05:\n",
    "            print(\"Result: Significant difference (p < 0.05)\")\n",
    "        else:\n",
    "            print(\"Result: No significant difference (p >= 0.05)\")\n",
    "\n",
    "    do_compare(df_overlap, df_only1, f\"Overlap [{comm_id_1},{comm_id_2}]\", f\"Only [{comm_id_1}]\")\n",
    "    do_compare(df_overlap, df_only2, f\"Overlap [{comm_id_1},{comm_id_2}]\", f\"Only [{comm_id_2}]\")"
   ]
  },
  {
   "cell_type": "code",
   "execution_count": 228,
   "id": "8d96b8ec",
   "metadata": {},
   "outputs": [],
   "source": [
    "# generate overlap pairs DataFrame\n",
    "comm_count = community_df.groupby('patientId').size().reset_index(name='comm_count')\n",
    "overlapping = comm_count[comm_count['comm_count'] > 1]['patientId']\n",
    "community_df['is_overlap'] = community_df['patientId'].isin(overlapping)\n",
    "\n",
    "overlap_pairs = community_df[community_df['is_overlap']].groupby('patientId')['communityId'].apply(sorted).reset_index()\n",
    "overlap_pairs['comm_pair'] = overlap_pairs['communityId'].apply(lambda x: str(x))"
   ]
  },
  {
   "cell_type": "code",
   "execution_count": 229,
   "id": "156d8175",
   "metadata": {},
   "outputs": [
    {
     "name": "stdout",
     "output_type": "stream",
     "text": [
      "\n",
      "Comparing 'AGE_SAMPLING' between Overlap [1,2] and Only [1] (numerical)\n",
      "Median (Overlap [1,2]): 62.00, Median (Only [1]): 55.00\n",
      "Mann-Whitney U statistic: 1001.000, p-value: 0.1864\n",
      "Result: No significant difference (p >= 0.05)\n",
      "\n",
      "Comparing 'AGE_SAMPLING' between Overlap [1,2] and Only [2] (numerical)\n",
      "Median (Overlap [1,2]): 62.00, Median (Only [2]): 62.00\n",
      "Mann-Whitney U statistic: 13176.000, p-value: 0.6671\n",
      "Result: No significant difference (p >= 0.05)\n",
      "\n",
      "Comparing 'MUTATION_COUNT' between Overlap [1,2] and Only [1] (numerical)\n",
      "Median (Overlap [1,2]): 25.00, Median (Only [1]): 28.00\n",
      "Mann-Whitney U statistic: 653.000, p-value: 0.2829\n",
      "Result: No significant difference (p >= 0.05)\n",
      "\n",
      "Comparing 'MUTATION_COUNT' between Overlap [1,2] and Only [2] (numerical)\n",
      "Median (Overlap [1,2]): 25.00, Median (Only [2]): 25.00\n",
      "Mann-Whitney U statistic: 12069.000, p-value: 0.9844\n",
      "Result: No significant difference (p >= 0.05)\n",
      "\n",
      "Comparing 'CLL_EPITYPE' between Overlap [1,2] and Only [1] (categorical)\n",
      "% n-CLL (Overlap [1,2]): 26.5% (26/98), (Only [1]): 35.3% (6/17)\n",
      "Chi-squared statistic: 0.204, p-value: 0.6519\n",
      "Result: No significant difference (p >= 0.05)\n",
      "\n",
      "Comparing 'CLL_EPITYPE' between Overlap [1,2] and Only [2] (categorical)\n",
      "% n-CLL (Overlap [1,2]): 26.5% (26/98), (Only [2]): 50.9% (141/277)\n",
      "Chi-squared statistic: 16.435, p-value: 0.0001\n",
      "Result: Significant difference (p < 0.05)\n",
      "\n",
      "Comparing 'IGHV_MUTATION_STATUS' between Overlap [1,2] and Only [1] (categorical)\n",
      "% mutated (Overlap [1,2]): 49.0% (48/98), (Only [1]): 52.9% (9/17)\n",
      "Chi-squared statistic: 0.002, p-value: 0.9690\n",
      "Result: No significant difference (p >= 0.05)\n",
      "\n",
      "Comparing 'IGHV_MUTATION_STATUS' between Overlap [1,2] and Only [2] (categorical)\n",
      "% mutated (Overlap [1,2]): 49.0% (48/98), (Only [2]): 39.1% (106/271)\n",
      "Chi-squared statistic: 2.489, p-value: 0.1146\n",
      "Result: No significant difference (p >= 0.05)\n",
      "\n",
      "Comparing 'TUMOR_MOLECULAR_SUBTYPE' between Overlap [1,2] and Only [1] (categorical)\n",
      "% U-CLL (Overlap [1,2]): 31.2% (30/96), (Only [1]): 23.1% (3/13)\n",
      "Fisher's exact test odds ratio: 1.515, p-value: 0.7507\n",
      "Result: No significant difference (p >= 0.05)\n",
      "\n",
      "Comparing 'TUMOR_MOLECULAR_SUBTYPE' between Overlap [1,2] and Only [2] (categorical)\n",
      "% U-CLL (Overlap [1,2]): 31.2% (30/96), (Only [2]): 47.9% (116/242)\n",
      "Chi-squared statistic: 7.132, p-value: 0.0076\n",
      "Result: Significant difference (p < 0.05)\n"
     ]
    }
   ],
   "source": [
    "# Example usage:\n",
    "compare_overlap_groups(merged_df, community_df, overlap_pairs, 1, 2, 'AGE_SAMPLING')\n",
    "compare_overlap_groups(merged_df, community_df, overlap_pairs, 1, 2, 'MUTATION_COUNT')\n",
    "compare_overlap_groups(merged_df, community_df, overlap_pairs, 1, 2, 'CLL_EPITYPE', feature_type='categorical', positive_value='n-CLL')\n",
    "compare_overlap_groups(merged_df, community_df, overlap_pairs, 1, 2, 'IGHV_MUTATION_STATUS', feature_type='categorical', positive_value='mutated')\n",
    "compare_overlap_groups(merged_df, community_df, overlap_pairs, 1, 2, 'TUMOR_MOLECULAR_SUBTYPE', feature_type='categorical', positive_value='U-CLL')"
   ]
  },
  {
   "cell_type": "code",
   "execution_count": 230,
   "id": "45184987",
   "metadata": {},
   "outputs": [
    {
     "name": "stdout",
     "output_type": "stream",
     "text": [
      "\n",
      "Comparing 'AGE_SAMPLING' between Overlap [2,3] and Only [2] (numerical)\n",
      "Median (Overlap [2,3]): 57.00, Median (Only [2]): 62.00\n",
      "Mann-Whitney U statistic: 665.000, p-value: 0.0052\n",
      "Result: Significant difference (p < 0.05)\n",
      "\n",
      "Comparing 'AGE_SAMPLING' between Overlap [2,3] and Only [3] (numerical)\n",
      "Median (Overlap [2,3]): 57.00, Median (Only [3]): 64.00\n",
      "Mann-Whitney U statistic: 840.000, p-value: 0.0029\n",
      "Result: Significant difference (p < 0.05)\n",
      "\n",
      "Comparing 'MUTATION_COUNT' between Overlap [2,3] and Only [2] (numerical)\n",
      "Median (Overlap [2,3]): 33.00, Median (Only [2]): 25.00\n",
      "Mann-Whitney U statistic: 1541.000, p-value: 0.0235\n",
      "Result: Significant difference (p < 0.05)\n",
      "\n",
      "Comparing 'MUTATION_COUNT' between Overlap [2,3] and Only [3] (numerical)\n",
      "Median (Overlap [2,3]): 33.00, Median (Only [3]): 23.00\n",
      "Mann-Whitney U statistic: 2128.000, p-value: 0.0063\n",
      "Result: Significant difference (p < 0.05)\n",
      "\n",
      "Comparing 'CLL_EPITYPE' between Overlap [2,3] and Only [2] (categorical)\n",
      "% n-CLL (Overlap [2,3]): 0.0% (0/10), (Only [2]): 50.9% (141/277)\n",
      "Fisher's exact test odds ratio: 0.000, p-value: 0.0017\n",
      "Result: Significant difference (p < 0.05)\n",
      "\n",
      "Comparing 'CLL_EPITYPE' between Overlap [2,3] and Only [3] (categorical)\n",
      "% n-CLL (Overlap [2,3]): 0.0% (0/10), (Only [3]): 17.4% (65/374)\n",
      "Fisher's exact test odds ratio: 0.000, p-value: 0.2233\n",
      "Result: No significant difference (p >= 0.05)\n",
      "\n",
      "Comparing 'IGHV_MUTATION_STATUS' between Overlap [2,3] and Only [2] (categorical)\n",
      "% mutated (Overlap [2,3]): 80.0% (8/10), (Only [2]): 39.1% (106/271)\n",
      "Fisher's exact test odds ratio: 6.226, p-value: 0.0171\n",
      "Result: Significant difference (p < 0.05)\n",
      "\n",
      "Comparing 'IGHV_MUTATION_STATUS' between Overlap [2,3] and Only [3] (categorical)\n",
      "% mutated (Overlap [2,3]): 80.0% (8/10), (Only [3]): 76.2% (281/369)\n",
      "Fisher's exact test odds ratio: 1.253, p-value: 1.0000\n",
      "Result: No significant difference (p >= 0.05)\n",
      "\n",
      "Comparing 'TUMOR_MOLECULAR_SUBTYPE' between Overlap [2,3] and Only [2] (categorical)\n",
      "% U-CLL (Overlap [2,3]): 20.0% (2/10), (Only [2]): 47.9% (116/242)\n",
      "Fisher's exact test odds ratio: 0.272, p-value: 0.1095\n",
      "Result: No significant difference (p >= 0.05)\n",
      "\n",
      "Comparing 'TUMOR_MOLECULAR_SUBTYPE' between Overlap [2,3] and Only [3] (categorical)\n",
      "% U-CLL (Overlap [2,3]): 20.0% (2/10), (Only [3]): 45.2% (138/305)\n",
      "Fisher's exact test odds ratio: 0.303, p-value: 0.1943\n",
      "Result: No significant difference (p >= 0.05)\n"
     ]
    }
   ],
   "source": [
    "compare_overlap_groups(merged_df, community_df, overlap_pairs, 2, 3, 'AGE_SAMPLING')\n",
    "compare_overlap_groups(merged_df, community_df, overlap_pairs, 2, 3, 'MUTATION_COUNT')\n",
    "compare_overlap_groups(merged_df, community_df, overlap_pairs, 2, 3, 'CLL_EPITYPE', feature_type='categorical', positive_value='n-CLL')\n",
    "compare_overlap_groups(merged_df, community_df, overlap_pairs, 2, 3, 'IGHV_MUTATION_STATUS', feature_type='categorical', positive_value='mutated')\n",
    "compare_overlap_groups(merged_df, community_df, overlap_pairs, 2, 3, 'TUMOR_MOLECULAR_SUBTYPE', feature_type='categorical', positive_value='U-CLL')"
   ]
  },
  {
   "cell_type": "markdown",
   "id": "a8f302ee",
   "metadata": {},
   "source": [
    "## Load Leiden data"
   ]
  },
  {
   "cell_type": "code",
   "execution_count": 231,
   "id": "0bd727ee",
   "metadata": {},
   "outputs": [],
   "source": [
    "base_path = \"../data/full\"\n",
    "algo = \"reverse_hybrid\"\n",
    "patient_df = pd.read_csv(\"../../data/thesis/cll_broad_2022_clinical_data_thesis.csv\")\n",
    "mutation_df = pd.read_csv(\"../../data/thesis/cll_broad_2022_mutations_thesis.csv\")\n",
    "community_df = pd.read_csv(os.path.join(base_path, algo, \"community_assignments.csv\"))"
   ]
  },
  {
   "cell_type": "code",
   "execution_count": 232,
   "id": "51c5c265",
   "metadata": {},
   "outputs": [
    {
     "data": {
      "text/plain": [
       "(1062, 30)"
      ]
     },
     "execution_count": 232,
     "metadata": {},
     "output_type": "execute_result"
    }
   ],
   "source": [
    "merged_df = pd.merge(patient_df, community_df, on='patientId', how='inner')\n",
    "merged_df.shape"
   ]
  },
  {
   "cell_type": "code",
   "execution_count": 233,
   "id": "ffe2a30b",
   "metadata": {},
   "outputs": [],
   "source": [
    "# Convert FFS_STATUS and OS_STATUS to binary event columns\n",
    "merged_df['FFS_STATUS_EVENT'] = merged_df['FFS_STATUS'].str.startswith('1:').astype(int)\n",
    "merged_df['OS_STATUS_EVENT'] = merged_df['OS_STATUS'].str.startswith('1:').astype(int)"
   ]
  },
  {
   "cell_type": "code",
   "execution_count": 234,
   "id": "f2b6875f",
   "metadata": {},
   "outputs": [
    {
     "name": "stdout",
     "output_type": "stream",
     "text": [
      "\n",
      "Comparing 'AGE_SAMPLING' between communities 3 and 4 (numerical)\n",
      "Median (Comm 3): 57.00, Median (Comm 4): 62.00\n",
      "Mann-Whitney U statistic: 400.000, p-value: 0.079\n",
      "Result: No significant difference (p >= 0.05)\n",
      "\n",
      "Comparing 'IGHV_MUTATION_STATUS' between communities 3 and 4 (categorical)\n",
      "% unmutated (Comm 3): 41.38% (12/29), (Comm 4): 56.76% (21/37)\n",
      "Chi-squared statistic: 0.984, p-value: 0.321\n",
      "Result: No significant difference (p >= 0.05)\n",
      "\n",
      "Comparing 'CLL_EPITYPE' between communities 3 and 4 (categorical)\n",
      "% i-CLL (Comm 3): 10.34% (3/29), (Comm 4): 10.81% (4/37)\n",
      "Fisher's exact test odds ratio: 0.952, p-value: 1.000\n",
      "Result: No significant difference (p >= 0.05)\n",
      "\n",
      "Comparing 'TUMOR_MOLECULAR_SUBTYPE' between communities 3 and 4 (categorical)\n",
      "% U-CLL (Comm 3): 24.14% (7/29), (Comm 4): 29.73% (11/37)\n",
      "Chi-squared statistic: 0.052, p-value: 0.820\n",
      "Result: No significant difference (p >= 0.05)\n",
      "\n",
      "Comparing 'TREATMENT_AFTER_SAMPLING' between communities 3 and 4 (categorical)\n",
      "% Chemo + Ab (Comm 3): 75.86% (22/29), (Comm 4): 64.86% (24/37)\n",
      "Chi-squared statistic: 0.483, p-value: 0.487\n",
      "Result: No significant difference (p >= 0.05)\n"
     ]
    }
   ],
   "source": [
    "compare_communities(merged_df, 'communityId', 'AGE_SAMPLING', 3, 4)\n",
    "compare_communities(merged_df, 'communityId', 'IGHV_MUTATION_STATUS', 3, 4, feature_type='categorical', positive_value='unmutated')\n",
    "compare_communities(merged_df, 'communityId', 'CLL_EPITYPE', 3, 4, feature_type='categorical', positive_value='i-CLL')\n",
    "compare_communities(merged_df, 'communityId', 'TUMOR_MOLECULAR_SUBTYPE', 3, 4, feature_type='categorical', positive_value='U-CLL')\n",
    "compare_communities(merged_df, 'communityId', 'TREATMENT_AFTER_SAMPLING', 3, 4, feature_type='categorical', positive_value='Chemo + Ab')"
   ]
  },
  {
   "cell_type": "code",
   "execution_count": 235,
   "id": "9dfc924c",
   "metadata": {},
   "outputs": [
    {
     "name": "stdout",
     "output_type": "stream",
     "text": [
      "\n",
      "Comparing 'AGE_SAMPLING' between communities 5 and 6 (numerical)\n",
      "Median (Comm 5): 62.00, Median (Comm 6): 62.00\n",
      "Mann-Whitney U statistic: 6153.500, p-value: 0.884\n",
      "Result: No significant difference (p >= 0.05)\n",
      "\n",
      "Comparing 'MUTATION_COUNT' between communities 5 and 6 (numerical)\n",
      "Median (Comm 5): 25.50, Median (Comm 6): 24.00\n",
      "Mann-Whitney U statistic: 5924.000, p-value: 0.160\n",
      "Result: No significant difference (p >= 0.05)\n",
      "\n",
      "Comparing 'CLL_EPITYPE' between communities 5 and 6 (categorical)\n",
      "% n-CLL (Comm 5): 55.56% (65/117), (Comm 6): 30.77% (32/104)\n",
      "Chi-squared statistic: 12.747, p-value: 0.000\n",
      "Result: Significant difference (p < 0.05)\n",
      "\n",
      "Comparing 'TUMOR_MOLECULAR_SUBTYPE' between communities 5 and 6 (categorical)\n",
      "% U-CLL (Comm 5): 40.17% (47/117), (Comm 6): 35.58% (37/104)\n",
      "Chi-squared statistic: 0.317, p-value: 0.573\n",
      "Result: No significant difference (p >= 0.05)\n",
      "\n",
      "Comparing 'IGHV_MUTATION_STATUS' between communities 5 and 6 (categorical)\n",
      "% mutated (Comm 5): 39.32% (46/117), (Comm 6): 50.00% (52/104)\n",
      "Chi-squared statistic: 2.132, p-value: 0.144\n",
      "Result: No significant difference (p >= 0.05)\n",
      "\n",
      "Comparing 'TREATMENT_AFTER_SAMPLING' between communities 5 and 6 (categorical)\n",
      "% Chemo + Ab (Comm 5): 18.80% (22/117), (Comm 6): 57.69% (60/104)\n",
      "Chi-squared statistic: 34.034, p-value: 0.000\n",
      "Result: Significant difference (p < 0.05)\n"
     ]
    }
   ],
   "source": [
    "compare_communities(merged_df, 'communityId', 'AGE_SAMPLING', 5, 6)\n",
    "compare_communities(merged_df, 'communityId', 'MUTATION_COUNT', 5, 6)\n",
    "compare_communities(merged_df, 'communityId', 'CLL_EPITYPE', 5, 6, feature_type='categorical', positive_value='n-CLL')\n",
    "compare_communities(merged_df, 'communityId', 'TUMOR_MOLECULAR_SUBTYPE', 5, 6, feature_type='categorical', positive_value='U-CLL')\n",
    "compare_communities(merged_df, 'communityId', 'IGHV_MUTATION_STATUS', 5, 6, feature_type='categorical', positive_value='mutated')\n",
    "compare_communities(merged_df, 'communityId', 'TREATMENT_AFTER_SAMPLING', 5, 6, feature_type='categorical', positive_value='Chemo + Ab')"
   ]
  }
 ],
 "metadata": {
  "kernelspec": {
   "display_name": "mscthesis",
   "language": "python",
   "name": "python3"
  },
  "language_info": {
   "codemirror_mode": {
    "name": "ipython",
    "version": 3
   },
   "file_extension": ".py",
   "mimetype": "text/x-python",
   "name": "python",
   "nbconvert_exporter": "python",
   "pygments_lexer": "ipython3",
   "version": "3.9.21"
  }
 },
 "nbformat": 4,
 "nbformat_minor": 5
}
