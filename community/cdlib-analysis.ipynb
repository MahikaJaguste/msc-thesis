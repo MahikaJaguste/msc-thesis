{
 "cells": [
  {
   "cell_type": "markdown",
   "id": "06359d2f",
   "metadata": {},
   "source": [
    "## Loading metrics"
   ]
  },
  {
   "cell_type": "code",
   "execution_count": 632,
   "id": "4276364f",
   "metadata": {},
   "outputs": [],
   "source": [
    "import pandas as pd\n",
    "import numpy as np\n",
    "import plotly.express as px\n",
    "import plotly.graph_objects as go\n",
    "import seaborn as sns\n",
    "import matplotlib.pyplot as plt\n",
    "from scipy import stats\n",
    "# import geopandas as gpd\n",
    "import json\n",
    "from concurrent.futures import ThreadPoolExecutor\n",
    "import os\n",
    "\n",
    "from sklearn.preprocessing import MinMaxScaler, OneHotEncoder\n",
    "from sklearn.metrics.pairwise import cosine_similarity\n",
    "from sklearn.metrics import adjusted_rand_score, normalized_mutual_info_score\n",
    "import networkx as nx\n",
    "from cdlib import algorithms, evaluation\n",
    "from cdlib import readwrite\n",
    "\n",
    "\n",
    "# Consistent theme\n",
    "import plotly.io as pio\n",
    "pio.templates.default = \"plotly_white\""
   ]
  },
  {
   "cell_type": "code",
   "execution_count": 633,
   "id": "0d3db139",
   "metadata": {},
   "outputs": [],
   "source": [
    "def merge_all_metrics_for_triplet_key(triplet_key, data_dir=\"../cdlib-trial/data\"):\n",
    "    \"\"\"\n",
    "    Reads all metrics.csv files in ../data/{triplet-key}/**/metrics.csv,\n",
    "    merges them on column headers (outer join), fills missing with NaN,\n",
    "    and returns the merged DataFrame.\n",
    "    \"\"\"\n",
    "    base_path = os.path.join(data_dir, triplet_key)\n",
    "    metrics_files = []\n",
    "    for root, dirs, files in os.walk(base_path):\n",
    "        for file in files:\n",
    "            if file == \"metrics.csv\":\n",
    "                metrics_files.append(os.path.join(root, file))\n",
    "    if not metrics_files:\n",
    "        print(f\"No metrics.csv files found for triplet key: {triplet_key}\")\n",
    "        return pd.DataFrame()\n",
    "    dfs = []\n",
    "    for f in metrics_files:\n",
    "        df = pd.read_csv(f)\n",
    "        dfs.append(df)\n",
    "    merged = pd.concat(dfs, axis=0, join=\"outer\", ignore_index=True, sort=False)\n",
    "    # make algo column first\n",
    "    if 'algo' in merged.columns:\n",
    "        cols = ['algo'] + [col for col in merged.columns if col != 'algo']\n",
    "        merged = merged[cols]\n",
    "    \n",
    "    # make algo column the headers in transposed format\n",
    "    if 'algo' in merged.columns:\n",
    "        merged = merged.set_index('algo').T\n",
    "        merged.index.name = 'metric'\n",
    "\n",
    "    # save to ../data/thesis/triplet_key/metrics.csv\n",
    "    output_path = os.path.join(\"../data/thesis\", triplet_key, \"merged_metrics.csv\")\n",
    "    os.makedirs(os.path.dirname(output_path), exist_ok=True)\n",
    "    merged.to_csv(output_path)\n",
    "    print(f\"Merged metrics saved to {output_path}\")\n",
    "    # Return the merged DataFrame\n",
    "    return merged"
   ]
  },
  {
   "cell_type": "code",
   "execution_count": 634,
   "id": "cf63bb9f",
   "metadata": {},
   "outputs": [
    {
     "name": "stdout",
     "output_type": "stream",
     "text": [
      "Merged metrics saved to ../data/thesis/neo4j/merged_metrics.csv\n"
     ]
    },
    {
     "data": {
      "text/html": [
       "<div>\n",
       "<style scoped>\n",
       "    .dataframe tbody tr th:only-of-type {\n",
       "        vertical-align: middle;\n",
       "    }\n",
       "\n",
       "    .dataframe tbody tr th {\n",
       "        vertical-align: top;\n",
       "    }\n",
       "\n",
       "    .dataframe thead th {\n",
       "        text-align: right;\n",
       "    }\n",
       "</style>\n",
       "<table border=\"1\" class=\"dataframe\">\n",
       "  <thead>\n",
       "    <tr style=\"text-align: right;\">\n",
       "      <th>algo</th>\n",
       "      <th>slpa_on_leiden_level0</th>\n",
       "      <th>hierarchical_leiden_level0</th>\n",
       "      <th>hierarchical_leiden_level1</th>\n",
       "      <th>hierarchical_leiden_level2</th>\n",
       "      <th>slpa</th>\n",
       "    </tr>\n",
       "    <tr>\n",
       "      <th>metric</th>\n",
       "      <th></th>\n",
       "      <th></th>\n",
       "      <th></th>\n",
       "      <th></th>\n",
       "      <th></th>\n",
       "    </tr>\n",
       "  </thead>\n",
       "  <tbody>\n",
       "    <tr>\n",
       "      <th>newman_girvan_modularity</th>\n",
       "      <td>NaN</td>\n",
       "      <td>0.418266</td>\n",
       "      <td>0.405701</td>\n",
       "      <td>0.001521</td>\n",
       "      <td>NaN</td>\n",
       "    </tr>\n",
       "    <tr>\n",
       "      <th>erdos_renyi_modularity</th>\n",
       "      <td>NaN</td>\n",
       "      <td>0.419091</td>\n",
       "      <td>0.405649</td>\n",
       "      <td>0.003968</td>\n",
       "      <td>NaN</td>\n",
       "    </tr>\n",
       "    <tr>\n",
       "      <th>overlapping_modularity</th>\n",
       "      <td>0.011855</td>\n",
       "      <td>NaN</td>\n",
       "      <td>NaN</td>\n",
       "      <td>NaN</td>\n",
       "      <td>0.002199</td>\n",
       "    </tr>\n",
       "    <tr>\n",
       "      <th>conductance</th>\n",
       "      <td>0.579832</td>\n",
       "      <td>0.555146</td>\n",
       "      <td>0.582412</td>\n",
       "      <td>0.859689</td>\n",
       "      <td>0.414822</td>\n",
       "    </tr>\n",
       "    <tr>\n",
       "      <th>num_communities</th>\n",
       "      <td>985.000000</td>\n",
       "      <td>112.000000</td>\n",
       "      <td>984.000000</td>\n",
       "      <td>23.000000</td>\n",
       "      <td>44.000000</td>\n",
       "    </tr>\n",
       "    <tr>\n",
       "      <th>avg_size</th>\n",
       "      <td>148.870051</td>\n",
       "      <td>1309.250000</td>\n",
       "      <td>149.020325</td>\n",
       "      <td>38.652174</td>\n",
       "      <td>3541.681818</td>\n",
       "    </tr>\n",
       "    <tr>\n",
       "      <th>max_size</th>\n",
       "      <td>2376.000000</td>\n",
       "      <td>4682.000000</td>\n",
       "      <td>2290.000000</td>\n",
       "      <td>88.000000</td>\n",
       "      <td>129175.000000</td>\n",
       "    </tr>\n",
       "    <tr>\n",
       "      <th>min_size</th>\n",
       "      <td>21.000000</td>\n",
       "      <td>368.000000</td>\n",
       "      <td>6.000000</td>\n",
       "      <td>2.000000</td>\n",
       "      <td>162.000000</td>\n",
       "    </tr>\n",
       "    <tr>\n",
       "      <th>num_nodes_in_communities</th>\n",
       "      <td>146636.000000</td>\n",
       "      <td>146636.000000</td>\n",
       "      <td>146636.000000</td>\n",
       "      <td>889.000000</td>\n",
       "      <td>146636.000000</td>\n",
       "    </tr>\n",
       "    <tr>\n",
       "      <th>CLL_EPITYPE_NMI</th>\n",
       "      <td>NaN</td>\n",
       "      <td>0.095150</td>\n",
       "      <td>0.319125</td>\n",
       "      <td>0.133750</td>\n",
       "      <td>NaN</td>\n",
       "    </tr>\n",
       "    <tr>\n",
       "      <th>CLL_EPITYPE_ARI</th>\n",
       "      <td>NaN</td>\n",
       "      <td>0.030876</td>\n",
       "      <td>0.021571</td>\n",
       "      <td>0.026933</td>\n",
       "      <td>NaN</td>\n",
       "    </tr>\n",
       "    <tr>\n",
       "      <th>TUMOR_MOLECULAR_SUBTYPE_NMI</th>\n",
       "      <td>NaN</td>\n",
       "      <td>0.047876</td>\n",
       "      <td>0.235132</td>\n",
       "      <td>0.042350</td>\n",
       "      <td>NaN</td>\n",
       "    </tr>\n",
       "    <tr>\n",
       "      <th>TUMOR_MOLECULAR_SUBTYPE_ARI</th>\n",
       "      <td>NaN</td>\n",
       "      <td>0.003149</td>\n",
       "      <td>0.002437</td>\n",
       "      <td>-0.009965</td>\n",
       "      <td>NaN</td>\n",
       "    </tr>\n",
       "  </tbody>\n",
       "</table>\n",
       "</div>"
      ],
      "text/plain": [
       "algo                         slpa_on_leiden_level0  \\\n",
       "metric                                               \n",
       "newman_girvan_modularity                       NaN   \n",
       "erdos_renyi_modularity                         NaN   \n",
       "overlapping_modularity                    0.011855   \n",
       "conductance                               0.579832   \n",
       "num_communities                         985.000000   \n",
       "avg_size                                148.870051   \n",
       "max_size                               2376.000000   \n",
       "min_size                                 21.000000   \n",
       "num_nodes_in_communities             146636.000000   \n",
       "CLL_EPITYPE_NMI                                NaN   \n",
       "CLL_EPITYPE_ARI                                NaN   \n",
       "TUMOR_MOLECULAR_SUBTYPE_NMI                    NaN   \n",
       "TUMOR_MOLECULAR_SUBTYPE_ARI                    NaN   \n",
       "\n",
       "algo                         hierarchical_leiden_level0  \\\n",
       "metric                                                    \n",
       "newman_girvan_modularity                       0.418266   \n",
       "erdos_renyi_modularity                         0.419091   \n",
       "overlapping_modularity                              NaN   \n",
       "conductance                                    0.555146   \n",
       "num_communities                              112.000000   \n",
       "avg_size                                    1309.250000   \n",
       "max_size                                    4682.000000   \n",
       "min_size                                     368.000000   \n",
       "num_nodes_in_communities                  146636.000000   \n",
       "CLL_EPITYPE_NMI                                0.095150   \n",
       "CLL_EPITYPE_ARI                                0.030876   \n",
       "TUMOR_MOLECULAR_SUBTYPE_NMI                    0.047876   \n",
       "TUMOR_MOLECULAR_SUBTYPE_ARI                    0.003149   \n",
       "\n",
       "algo                         hierarchical_leiden_level1  \\\n",
       "metric                                                    \n",
       "newman_girvan_modularity                       0.405701   \n",
       "erdos_renyi_modularity                         0.405649   \n",
       "overlapping_modularity                              NaN   \n",
       "conductance                                    0.582412   \n",
       "num_communities                              984.000000   \n",
       "avg_size                                     149.020325   \n",
       "max_size                                    2290.000000   \n",
       "min_size                                       6.000000   \n",
       "num_nodes_in_communities                  146636.000000   \n",
       "CLL_EPITYPE_NMI                                0.319125   \n",
       "CLL_EPITYPE_ARI                                0.021571   \n",
       "TUMOR_MOLECULAR_SUBTYPE_NMI                    0.235132   \n",
       "TUMOR_MOLECULAR_SUBTYPE_ARI                    0.002437   \n",
       "\n",
       "algo                         hierarchical_leiden_level2           slpa  \n",
       "metric                                                                  \n",
       "newman_girvan_modularity                       0.001521            NaN  \n",
       "erdos_renyi_modularity                         0.003968            NaN  \n",
       "overlapping_modularity                              NaN       0.002199  \n",
       "conductance                                    0.859689       0.414822  \n",
       "num_communities                               23.000000      44.000000  \n",
       "avg_size                                      38.652174    3541.681818  \n",
       "max_size                                      88.000000  129175.000000  \n",
       "min_size                                       2.000000     162.000000  \n",
       "num_nodes_in_communities                     889.000000  146636.000000  \n",
       "CLL_EPITYPE_NMI                                0.133750            NaN  \n",
       "CLL_EPITYPE_ARI                                0.026933            NaN  \n",
       "TUMOR_MOLECULAR_SUBTYPE_NMI                    0.042350            NaN  \n",
       "TUMOR_MOLECULAR_SUBTYPE_ARI                   -0.009965            NaN  "
      ]
     },
     "execution_count": 634,
     "metadata": {},
     "output_type": "execute_result"
    }
   ],
   "source": [
    "merge_all_metrics_for_triplet_key(\"neo4j\")"
   ]
  },
  {
   "cell_type": "code",
   "execution_count": 635,
   "id": "bbdf1cce",
   "metadata": {},
   "outputs": [
    {
     "name": "stdout",
     "output_type": "stream",
     "text": [
      "Merged metrics saved to ../data/thesis/pub/merged_metrics.csv\n"
     ]
    },
    {
     "data": {
      "text/html": [
       "<div>\n",
       "<style scoped>\n",
       "    .dataframe tbody tr th:only-of-type {\n",
       "        vertical-align: middle;\n",
       "    }\n",
       "\n",
       "    .dataframe tbody tr th {\n",
       "        vertical-align: top;\n",
       "    }\n",
       "\n",
       "    .dataframe thead th {\n",
       "        text-align: right;\n",
       "    }\n",
       "</style>\n",
       "<table border=\"1\" class=\"dataframe\">\n",
       "  <thead>\n",
       "    <tr style=\"text-align: right;\">\n",
       "      <th>algo</th>\n",
       "      <th>slpa_on_leiden_level0</th>\n",
       "      <th>hierarchical_leiden_level0</th>\n",
       "      <th>hierarchical_leiden_level1</th>\n",
       "      <th>hierarchical_leiden_level2</th>\n",
       "      <th>slpa</th>\n",
       "    </tr>\n",
       "    <tr>\n",
       "      <th>metric</th>\n",
       "      <th></th>\n",
       "      <th></th>\n",
       "      <th></th>\n",
       "      <th></th>\n",
       "      <th></th>\n",
       "    </tr>\n",
       "  </thead>\n",
       "  <tbody>\n",
       "    <tr>\n",
       "      <th>newman_girvan_modularity</th>\n",
       "      <td>NaN</td>\n",
       "      <td>0.450578</td>\n",
       "      <td>0.414672</td>\n",
       "      <td>0.000204</td>\n",
       "      <td>NaN</td>\n",
       "    </tr>\n",
       "    <tr>\n",
       "      <th>erdos_renyi_modularity</th>\n",
       "      <td>NaN</td>\n",
       "      <td>0.451210</td>\n",
       "      <td>0.422181</td>\n",
       "      <td>0.000600</td>\n",
       "      <td>NaN</td>\n",
       "    </tr>\n",
       "    <tr>\n",
       "      <th>overlapping_modularity</th>\n",
       "      <td>0.011102</td>\n",
       "      <td>NaN</td>\n",
       "      <td>NaN</td>\n",
       "      <td>NaN</td>\n",
       "      <td>0.003816</td>\n",
       "    </tr>\n",
       "    <tr>\n",
       "      <th>conductance</th>\n",
       "      <td>0.554861</td>\n",
       "      <td>0.524232</td>\n",
       "      <td>0.561995</td>\n",
       "      <td>0.800331</td>\n",
       "      <td>0.429308</td>\n",
       "    </tr>\n",
       "    <tr>\n",
       "      <th>num_communities</th>\n",
       "      <td>631.000000</td>\n",
       "      <td>105.000000</td>\n",
       "      <td>635.000000</td>\n",
       "      <td>2.000000</td>\n",
       "      <td>99.000000</td>\n",
       "    </tr>\n",
       "    <tr>\n",
       "      <th>avg_size</th>\n",
       "      <td>164.890650</td>\n",
       "      <td>990.914286</td>\n",
       "      <td>158.434646</td>\n",
       "      <td>72.000000</td>\n",
       "      <td>1184.626263</td>\n",
       "    </tr>\n",
       "    <tr>\n",
       "      <th>max_size</th>\n",
       "      <td>2438.000000</td>\n",
       "      <td>2438.000000</td>\n",
       "      <td>1676.000000</td>\n",
       "      <td>73.000000</td>\n",
       "      <td>80262.000000</td>\n",
       "    </tr>\n",
       "    <tr>\n",
       "      <th>min_size</th>\n",
       "      <td>24.000000</td>\n",
       "      <td>314.000000</td>\n",
       "      <td>10.000000</td>\n",
       "      <td>71.000000</td>\n",
       "      <td>118.000000</td>\n",
       "    </tr>\n",
       "    <tr>\n",
       "      <th>num_nodes_in_communities</th>\n",
       "      <td>104046.000000</td>\n",
       "      <td>104046.000000</td>\n",
       "      <td>100606.000000</td>\n",
       "      <td>144.000000</td>\n",
       "      <td>104046.000000</td>\n",
       "    </tr>\n",
       "    <tr>\n",
       "      <th>CLL_EPITYPE_NMI</th>\n",
       "      <td>NaN</td>\n",
       "      <td>0.093039</td>\n",
       "      <td>0.270503</td>\n",
       "      <td>0.003290</td>\n",
       "      <td>NaN</td>\n",
       "    </tr>\n",
       "    <tr>\n",
       "      <th>CLL_EPITYPE_ARI</th>\n",
       "      <td>NaN</td>\n",
       "      <td>0.035256</td>\n",
       "      <td>0.033912</td>\n",
       "      <td>-0.000113</td>\n",
       "      <td>NaN</td>\n",
       "    </tr>\n",
       "    <tr>\n",
       "      <th>TUMOR_MOLECULAR_SUBTYPE_NMI</th>\n",
       "      <td>NaN</td>\n",
       "      <td>0.074597</td>\n",
       "      <td>0.232110</td>\n",
       "      <td>0.002755</td>\n",
       "      <td>NaN</td>\n",
       "    </tr>\n",
       "    <tr>\n",
       "      <th>TUMOR_MOLECULAR_SUBTYPE_ARI</th>\n",
       "      <td>NaN</td>\n",
       "      <td>0.068182</td>\n",
       "      <td>0.070038</td>\n",
       "      <td>-0.000690</td>\n",
       "      <td>NaN</td>\n",
       "    </tr>\n",
       "  </tbody>\n",
       "</table>\n",
       "</div>"
      ],
      "text/plain": [
       "algo                         slpa_on_leiden_level0  \\\n",
       "metric                                               \n",
       "newman_girvan_modularity                       NaN   \n",
       "erdos_renyi_modularity                         NaN   \n",
       "overlapping_modularity                    0.011102   \n",
       "conductance                               0.554861   \n",
       "num_communities                         631.000000   \n",
       "avg_size                                164.890650   \n",
       "max_size                               2438.000000   \n",
       "min_size                                 24.000000   \n",
       "num_nodes_in_communities             104046.000000   \n",
       "CLL_EPITYPE_NMI                                NaN   \n",
       "CLL_EPITYPE_ARI                                NaN   \n",
       "TUMOR_MOLECULAR_SUBTYPE_NMI                    NaN   \n",
       "TUMOR_MOLECULAR_SUBTYPE_ARI                    NaN   \n",
       "\n",
       "algo                         hierarchical_leiden_level0  \\\n",
       "metric                                                    \n",
       "newman_girvan_modularity                       0.450578   \n",
       "erdos_renyi_modularity                         0.451210   \n",
       "overlapping_modularity                              NaN   \n",
       "conductance                                    0.524232   \n",
       "num_communities                              105.000000   \n",
       "avg_size                                     990.914286   \n",
       "max_size                                    2438.000000   \n",
       "min_size                                     314.000000   \n",
       "num_nodes_in_communities                  104046.000000   \n",
       "CLL_EPITYPE_NMI                                0.093039   \n",
       "CLL_EPITYPE_ARI                                0.035256   \n",
       "TUMOR_MOLECULAR_SUBTYPE_NMI                    0.074597   \n",
       "TUMOR_MOLECULAR_SUBTYPE_ARI                    0.068182   \n",
       "\n",
       "algo                         hierarchical_leiden_level1  \\\n",
       "metric                                                    \n",
       "newman_girvan_modularity                       0.414672   \n",
       "erdos_renyi_modularity                         0.422181   \n",
       "overlapping_modularity                              NaN   \n",
       "conductance                                    0.561995   \n",
       "num_communities                              635.000000   \n",
       "avg_size                                     158.434646   \n",
       "max_size                                    1676.000000   \n",
       "min_size                                      10.000000   \n",
       "num_nodes_in_communities                  100606.000000   \n",
       "CLL_EPITYPE_NMI                                0.270503   \n",
       "CLL_EPITYPE_ARI                                0.033912   \n",
       "TUMOR_MOLECULAR_SUBTYPE_NMI                    0.232110   \n",
       "TUMOR_MOLECULAR_SUBTYPE_ARI                    0.070038   \n",
       "\n",
       "algo                         hierarchical_leiden_level2           slpa  \n",
       "metric                                                                  \n",
       "newman_girvan_modularity                       0.000204            NaN  \n",
       "erdos_renyi_modularity                         0.000600            NaN  \n",
       "overlapping_modularity                              NaN       0.003816  \n",
       "conductance                                    0.800331       0.429308  \n",
       "num_communities                                2.000000      99.000000  \n",
       "avg_size                                      72.000000    1184.626263  \n",
       "max_size                                      73.000000   80262.000000  \n",
       "min_size                                      71.000000     118.000000  \n",
       "num_nodes_in_communities                     144.000000  104046.000000  \n",
       "CLL_EPITYPE_NMI                                0.003290            NaN  \n",
       "CLL_EPITYPE_ARI                               -0.000113            NaN  \n",
       "TUMOR_MOLECULAR_SUBTYPE_NMI                    0.002755            NaN  \n",
       "TUMOR_MOLECULAR_SUBTYPE_ARI                   -0.000690            NaN  "
      ]
     },
     "execution_count": 635,
     "metadata": {},
     "output_type": "execute_result"
    }
   ],
   "source": [
    "merge_all_metrics_for_triplet_key(\"pub\")"
   ]
  },
  {
   "cell_type": "code",
   "execution_count": 636,
   "id": "02e5de9e",
   "metadata": {},
   "outputs": [
    {
     "name": "stdout",
     "output_type": "stream",
     "text": [
      "Merged metrics saved to ../data/thesis/trial/merged_metrics.csv\n"
     ]
    },
    {
     "data": {
      "text/html": [
       "<div>\n",
       "<style scoped>\n",
       "    .dataframe tbody tr th:only-of-type {\n",
       "        vertical-align: middle;\n",
       "    }\n",
       "\n",
       "    .dataframe tbody tr th {\n",
       "        vertical-align: top;\n",
       "    }\n",
       "\n",
       "    .dataframe thead th {\n",
       "        text-align: right;\n",
       "    }\n",
       "</style>\n",
       "<table border=\"1\" class=\"dataframe\">\n",
       "  <thead>\n",
       "    <tr style=\"text-align: right;\">\n",
       "      <th>algo</th>\n",
       "      <th>slpa_on_leiden_level0</th>\n",
       "      <th>hierarchical_leiden_level0</th>\n",
       "      <th>hierarchical_leiden_level1</th>\n",
       "      <th>slpa</th>\n",
       "    </tr>\n",
       "    <tr>\n",
       "      <th>metric</th>\n",
       "      <th></th>\n",
       "      <th></th>\n",
       "      <th></th>\n",
       "      <th></th>\n",
       "    </tr>\n",
       "  </thead>\n",
       "  <tbody>\n",
       "    <tr>\n",
       "      <th>newman_girvan_modularity</th>\n",
       "      <td>NaN</td>\n",
       "      <td>0.473877</td>\n",
       "      <td>0.409699</td>\n",
       "      <td>NaN</td>\n",
       "    </tr>\n",
       "    <tr>\n",
       "      <th>erdos_renyi_modularity</th>\n",
       "      <td>NaN</td>\n",
       "      <td>0.474540</td>\n",
       "      <td>0.431786</td>\n",
       "      <td>NaN</td>\n",
       "    </tr>\n",
       "    <tr>\n",
       "      <th>overlapping_modularity</th>\n",
       "      <td>0.010569</td>\n",
       "      <td>NaN</td>\n",
       "      <td>NaN</td>\n",
       "      <td>0.008435</td>\n",
       "    </tr>\n",
       "    <tr>\n",
       "      <th>conductance</th>\n",
       "      <td>0.527990</td>\n",
       "      <td>0.493741</td>\n",
       "      <td>0.535929</td>\n",
       "      <td>0.449553</td>\n",
       "    </tr>\n",
       "    <tr>\n",
       "      <th>num_communities</th>\n",
       "      <td>354.000000</td>\n",
       "      <td>84.000000</td>\n",
       "      <td>350.000000</td>\n",
       "      <td>225.000000</td>\n",
       "    </tr>\n",
       "    <tr>\n",
       "      <th>avg_size</th>\n",
       "      <td>164.042373</td>\n",
       "      <td>691.321429</td>\n",
       "      <td>154.705714</td>\n",
       "      <td>287.568889</td>\n",
       "    </tr>\n",
       "    <tr>\n",
       "      <th>max_size</th>\n",
       "      <td>1575.000000</td>\n",
       "      <td>1593.000000</td>\n",
       "      <td>645.000000</td>\n",
       "      <td>21039.000000</td>\n",
       "    </tr>\n",
       "    <tr>\n",
       "      <th>min_size</th>\n",
       "      <td>38.000000</td>\n",
       "      <td>106.000000</td>\n",
       "      <td>6.000000</td>\n",
       "      <td>84.000000</td>\n",
       "    </tr>\n",
       "    <tr>\n",
       "      <th>num_nodes_in_communities</th>\n",
       "      <td>58071.000000</td>\n",
       "      <td>58071.000000</td>\n",
       "      <td>54147.000000</td>\n",
       "      <td>58071.000000</td>\n",
       "    </tr>\n",
       "    <tr>\n",
       "      <th>CLL_EPITYPE_NMI</th>\n",
       "      <td>NaN</td>\n",
       "      <td>0.155564</td>\n",
       "      <td>0.247726</td>\n",
       "      <td>NaN</td>\n",
       "    </tr>\n",
       "    <tr>\n",
       "      <th>CLL_EPITYPE_ARI</th>\n",
       "      <td>NaN</td>\n",
       "      <td>0.028239</td>\n",
       "      <td>0.021598</td>\n",
       "      <td>NaN</td>\n",
       "    </tr>\n",
       "    <tr>\n",
       "      <th>TUMOR_MOLECULAR_SUBTYPE_NMI</th>\n",
       "      <td>NaN</td>\n",
       "      <td>0.078260</td>\n",
       "      <td>0.165802</td>\n",
       "      <td>NaN</td>\n",
       "    </tr>\n",
       "    <tr>\n",
       "      <th>TUMOR_MOLECULAR_SUBTYPE_ARI</th>\n",
       "      <td>NaN</td>\n",
       "      <td>-0.018608</td>\n",
       "      <td>-0.019907</td>\n",
       "      <td>NaN</td>\n",
       "    </tr>\n",
       "  </tbody>\n",
       "</table>\n",
       "</div>"
      ],
      "text/plain": [
       "algo                         slpa_on_leiden_level0  \\\n",
       "metric                                               \n",
       "newman_girvan_modularity                       NaN   \n",
       "erdos_renyi_modularity                         NaN   \n",
       "overlapping_modularity                    0.010569   \n",
       "conductance                               0.527990   \n",
       "num_communities                         354.000000   \n",
       "avg_size                                164.042373   \n",
       "max_size                               1575.000000   \n",
       "min_size                                 38.000000   \n",
       "num_nodes_in_communities              58071.000000   \n",
       "CLL_EPITYPE_NMI                                NaN   \n",
       "CLL_EPITYPE_ARI                                NaN   \n",
       "TUMOR_MOLECULAR_SUBTYPE_NMI                    NaN   \n",
       "TUMOR_MOLECULAR_SUBTYPE_ARI                    NaN   \n",
       "\n",
       "algo                         hierarchical_leiden_level0  \\\n",
       "metric                                                    \n",
       "newman_girvan_modularity                       0.473877   \n",
       "erdos_renyi_modularity                         0.474540   \n",
       "overlapping_modularity                              NaN   \n",
       "conductance                                    0.493741   \n",
       "num_communities                               84.000000   \n",
       "avg_size                                     691.321429   \n",
       "max_size                                    1593.000000   \n",
       "min_size                                     106.000000   \n",
       "num_nodes_in_communities                   58071.000000   \n",
       "CLL_EPITYPE_NMI                                0.155564   \n",
       "CLL_EPITYPE_ARI                                0.028239   \n",
       "TUMOR_MOLECULAR_SUBTYPE_NMI                    0.078260   \n",
       "TUMOR_MOLECULAR_SUBTYPE_ARI                   -0.018608   \n",
       "\n",
       "algo                         hierarchical_leiden_level1          slpa  \n",
       "metric                                                                 \n",
       "newman_girvan_modularity                       0.409699           NaN  \n",
       "erdos_renyi_modularity                         0.431786           NaN  \n",
       "overlapping_modularity                              NaN      0.008435  \n",
       "conductance                                    0.535929      0.449553  \n",
       "num_communities                              350.000000    225.000000  \n",
       "avg_size                                     154.705714    287.568889  \n",
       "max_size                                     645.000000  21039.000000  \n",
       "min_size                                       6.000000     84.000000  \n",
       "num_nodes_in_communities                   54147.000000  58071.000000  \n",
       "CLL_EPITYPE_NMI                                0.247726           NaN  \n",
       "CLL_EPITYPE_ARI                                0.021598           NaN  \n",
       "TUMOR_MOLECULAR_SUBTYPE_NMI                    0.165802           NaN  \n",
       "TUMOR_MOLECULAR_SUBTYPE_ARI                   -0.019907           NaN  "
      ]
     },
     "execution_count": 636,
     "metadata": {},
     "output_type": "execute_result"
    }
   ],
   "source": [
    "merge_all_metrics_for_triplet_key('trial')"
   ]
  },
  {
   "cell_type": "markdown",
   "id": "2fa4d47d",
   "metadata": {},
   "source": [
    "## Loading communities"
   ]
  },
  {
   "cell_type": "code",
   "execution_count": 637,
   "id": "cf75cb7c",
   "metadata": {},
   "outputs": [],
   "source": [
    "comm_path = os.path.join(\"../cdlib-trial/data\", \"neo4j\", \"slpa\", \"communities.csv\")\n",
    "slpa_communities = readwrite.read_community_csv(comm_path, nodetype=int)\n",
    "\n",
    "comm_path = os.path.join(\"../cdlib-trial/data\", \"neo4j\", \"hierarchical_leiden\", \"communities_level0.csv\")\n",
    "heirarchical_leiden_level0 = readwrite.read_community_csv(comm_path, nodetype=int)\n",
    "\n",
    "comm_path = os.path.join(\"../cdlib-trial/data\", \"neo4j\", \"hierarchical_leiden\", \"communities_level1.csv\")\n",
    "heirarchical_leiden_level1 = readwrite.read_community_csv(comm_path, nodetype=int)\n",
    "\n",
    "comm_path = os.path.join(\"../cdlib-trial/data\", \"neo4j\", \"hierarchical_leiden\", \"communities_level2.csv\")\n",
    "heirarchical_leiden_level2 = readwrite.read_community_csv(comm_path, nodetype=int)\n",
    "\n",
    "comm_path = os.path.join(\"../cdlib-trial/data\", \"neo4j\", \"slpa_on_leiden_level0\", \"communities.csv\")\n",
    "slpa_on_leiden_level0 = readwrite.read_community_csv(comm_path, nodetype=int)\n",
    "\n",
    "parents_path = os.path.join(\"../cdlib-trial/data\", \"neo4j\", \"hierarchical_leiden\", \"parents.csv\")\n",
    "parents_df = pd.read_csv(parents_path)\n",
    "parents_df = parents_df.drop_duplicates()"
   ]
  },
  {
   "cell_type": "code",
   "execution_count": 638,
   "id": "21857184",
   "metadata": {},
   "outputs": [],
   "source": [
    "def getGraphCharacteristics(triplet_key):\n",
    "    # from triplets file and mapping file, get number of nodes and edges\n",
    "    triplets_path = os.path.join(\"../cdlib-trial/data\", triplet_key, f\"kg_triplets_for_{triplet_key}.csv\")\n",
    "    triplets_df = pd.read_csv(triplets_path)\n",
    "    triplets_df = triplets_df.drop_duplicates()\n",
    "    edgesCount = triplets_df.shape[0]\n",
    "    mapping_path = os.path.join(\"../cdlib-trial/data\", triplet_key, \"mapping.csv\")\n",
    "    mapping_df = pd.read_csv(mapping_path)\n",
    "    mapping_df = mapping_df.drop_duplicates()\n",
    "    nodesCount = mapping_df.shape[0]\n",
    "    print(f\"Triplet key: {triplet_key}, Nodes: {nodesCount}, Edges: {edgesCount}\")\n",
    "    # return nodesCount, edgesCount"
   ]
  },
  {
   "cell_type": "code",
   "execution_count": 639,
   "id": "81cb114d",
   "metadata": {},
   "outputs": [
    {
     "name": "stdout",
     "output_type": "stream",
     "text": [
      "Triplet key: trial, Nodes: 58071, Edges: 126079\n"
     ]
    }
   ],
   "source": [
    "getGraphCharacteristics(\"trial\")"
   ]
  },
  {
   "cell_type": "markdown",
   "id": "93c4ca1c",
   "metadata": {},
   "source": [
    "## Understanding Leiden splits (max_cluster_size=100)"
   ]
  },
  {
   "cell_type": "code",
   "execution_count": 640,
   "id": "e9ba8ec1",
   "metadata": {},
   "outputs": [
    {
     "name": "stdout",
     "output_type": "stream",
     "text": [
      "Level 0 Hierarchical Leiden Communities\n",
      "Number of communities with size > 100: 112\n",
      "Total number of nodes in communities with size > 100: 146636\n",
      "Level 1 Hierarchical Leiden Communities\n",
      "Number of communities with size > 100: 784\n",
      "Total number of nodes in communities with size > 100: 131230\n",
      "Maximum community size: 2290\n"
     ]
    },
    {
     "data": {
      "text/plain": [
       "'\\nLevel 0 Hierarchical Leiden Communities\\nNumber of communities with size > 100: 112\\nTotal number of nodes in communities with size > 100: 146636\\nLevel 1 Hierarchical Leiden Communities\\nNumber of communities with size > 100: 784\\nTotal number of nodes in communities with size > 100: 131230\\n\\nsince 131230 is much large than 889, many nodes not close enough are left out of the communities.\\n'"
      ]
     },
     "execution_count": 640,
     "metadata": {},
     "output_type": "execute_result"
    }
   ],
   "source": [
    "print(\"Level 0 Hierarchical Leiden Communities\")\n",
    "# find the number of nodes belonging to communities whose size is greater than 100\n",
    "comm_sizes = [len(c) for c in heirarchical_leiden_level0.communities]\n",
    "large_comm_count = sum(1 for size in comm_sizes if size > 100)\n",
    "print(f\"Number of communities with size > 100: {large_comm_count}\")\n",
    "num_nodes_in_large_comms = sum(size for size in comm_sizes if size > 100)\n",
    "print(f\"Total number of nodes in communities with size > 100: {num_nodes_in_large_comms}\")\n",
    "\n",
    "\n",
    "print(\"Level 1 Hierarchical Leiden Communities\")\n",
    "# find the number of nodes belonging to communities whose size is greater than 100\n",
    "comm_sizes = [len(c) for c in heirarchical_leiden_level1.communities]\n",
    "large_comm_count = sum(1 for size in comm_sizes if size > 100)\n",
    "print(f\"Number of communities with size > 100: {large_comm_count}\")\n",
    "num_nodes_in_large_comms = sum(size for size in comm_sizes if size > 100)\n",
    "print(f\"Total number of nodes in communities with size > 100: {num_nodes_in_large_comms}\")\n",
    "max_comm_size = max(comm_sizes)\n",
    "print(f\"Maximum community size: {max_comm_size}\")\n",
    "\n",
    "'''\n",
    "Level 0 Hierarchical Leiden Communities\n",
    "Number of communities with size > 100: 112\n",
    "Total number of nodes in communities with size > 100: 146636\n",
    "Level 1 Hierarchical Leiden Communities\n",
    "Number of communities with size > 100: 784\n",
    "Total number of nodes in communities with size > 100: 131230\n",
    "\n",
    "since 131230 is much large than 889, many nodes not close enough are left out of the communities.\n",
    "'''\n"
   ]
  },
  {
   "cell_type": "code",
   "execution_count": 641,
   "id": "da62d5bf",
   "metadata": {},
   "outputs": [
    {
     "data": {
      "text/plain": [
       "984"
      ]
     },
     "execution_count": 641,
     "metadata": {},
     "output_type": "execute_result"
    }
   ],
   "source": [
    "len(heirarchical_leiden_level1.communities)"
   ]
  },
  {
   "cell_type": "code",
   "execution_count": 642,
   "id": "730130a2",
   "metadata": {},
   "outputs": [
    {
     "data": {
      "text/html": [
       "<div>\n",
       "<style scoped>\n",
       "    .dataframe tbody tr th:only-of-type {\n",
       "        vertical-align: middle;\n",
       "    }\n",
       "\n",
       "    .dataframe tbody tr th {\n",
       "        vertical-align: top;\n",
       "    }\n",
       "\n",
       "    .dataframe thead th {\n",
       "        text-align: right;\n",
       "    }\n",
       "</style>\n",
       "<table border=\"1\" class=\"dataframe\">\n",
       "  <thead>\n",
       "    <tr style=\"text-align: right;\">\n",
       "      <th></th>\n",
       "      <th>community_id</th>\n",
       "      <th>parent_community_id</th>\n",
       "      <th>level</th>\n",
       "    </tr>\n",
       "  </thead>\n",
       "  <tbody>\n",
       "    <tr>\n",
       "      <th>146636</th>\n",
       "      <td>112</td>\n",
       "      <td>0</td>\n",
       "      <td>1</td>\n",
       "    </tr>\n",
       "    <tr>\n",
       "      <th>146745</th>\n",
       "      <td>113</td>\n",
       "      <td>0</td>\n",
       "      <td>1</td>\n",
       "    </tr>\n",
       "    <tr>\n",
       "      <th>146888</th>\n",
       "      <td>114</td>\n",
       "      <td>0</td>\n",
       "      <td>1</td>\n",
       "    </tr>\n",
       "    <tr>\n",
       "      <th>147035</th>\n",
       "      <td>115</td>\n",
       "      <td>0</td>\n",
       "      <td>1</td>\n",
       "    </tr>\n",
       "    <tr>\n",
       "      <th>147157</th>\n",
       "      <td>116</td>\n",
       "      <td>0</td>\n",
       "      <td>1</td>\n",
       "    </tr>\n",
       "    <tr>\n",
       "      <th>...</th>\n",
       "      <td>...</td>\n",
       "      <td>...</td>\n",
       "      <td>...</td>\n",
       "    </tr>\n",
       "    <tr>\n",
       "      <th>292448</th>\n",
       "      <td>1091</td>\n",
       "      <td>111</td>\n",
       "      <td>1</td>\n",
       "    </tr>\n",
       "    <tr>\n",
       "      <th>292595</th>\n",
       "      <td>1092</td>\n",
       "      <td>111</td>\n",
       "      <td>1</td>\n",
       "    </tr>\n",
       "    <tr>\n",
       "      <th>292693</th>\n",
       "      <td>1093</td>\n",
       "      <td>111</td>\n",
       "      <td>1</td>\n",
       "    </tr>\n",
       "    <tr>\n",
       "      <th>292825</th>\n",
       "      <td>1094</td>\n",
       "      <td>111</td>\n",
       "      <td>1</td>\n",
       "    </tr>\n",
       "    <tr>\n",
       "      <th>292975</th>\n",
       "      <td>1095</td>\n",
       "      <td>111</td>\n",
       "      <td>1</td>\n",
       "    </tr>\n",
       "  </tbody>\n",
       "</table>\n",
       "<p>984 rows × 3 columns</p>\n",
       "</div>"
      ],
      "text/plain": [
       "        community_id  parent_community_id  level\n",
       "146636           112                    0      1\n",
       "146745           113                    0      1\n",
       "146888           114                    0      1\n",
       "147035           115                    0      1\n",
       "147157           116                    0      1\n",
       "...              ...                  ...    ...\n",
       "292448          1091                  111      1\n",
       "292595          1092                  111      1\n",
       "292693          1093                  111      1\n",
       "292825          1094                  111      1\n",
       "292975          1095                  111      1\n",
       "\n",
       "[984 rows x 3 columns]"
      ]
     },
     "execution_count": 642,
     "metadata": {},
     "output_type": "execute_result"
    }
   ],
   "source": [
    "parents_df[parents_df['level'] == 1]"
   ]
  },
  {
   "cell_type": "code",
   "execution_count": 643,
   "id": "f59ca925",
   "metadata": {},
   "outputs": [
    {
     "data": {
      "text/html": [
       "<div>\n",
       "<style scoped>\n",
       "    .dataframe tbody tr th:only-of-type {\n",
       "        vertical-align: middle;\n",
       "    }\n",
       "\n",
       "    .dataframe tbody tr th {\n",
       "        vertical-align: top;\n",
       "    }\n",
       "\n",
       "    .dataframe thead th {\n",
       "        text-align: right;\n",
       "    }\n",
       "</style>\n",
       "<table border=\"1\" class=\"dataframe\">\n",
       "  <thead>\n",
       "    <tr style=\"text-align: right;\">\n",
       "      <th></th>\n",
       "      <th>community_id</th>\n",
       "      <th>parent_community_id</th>\n",
       "      <th>level</th>\n",
       "      <th>size</th>\n",
       "    </tr>\n",
       "  </thead>\n",
       "  <tbody>\n",
       "    <tr>\n",
       "      <th>146636</th>\n",
       "      <td>112</td>\n",
       "      <td>0</td>\n",
       "      <td>1</td>\n",
       "      <td>2290</td>\n",
       "    </tr>\n",
       "    <tr>\n",
       "      <th>146745</th>\n",
       "      <td>113</td>\n",
       "      <td>0</td>\n",
       "      <td>1</td>\n",
       "      <td>1561</td>\n",
       "    </tr>\n",
       "    <tr>\n",
       "      <th>146888</th>\n",
       "      <td>114</td>\n",
       "      <td>0</td>\n",
       "      <td>1</td>\n",
       "      <td>1402</td>\n",
       "    </tr>\n",
       "    <tr>\n",
       "      <th>147035</th>\n",
       "      <td>115</td>\n",
       "      <td>0</td>\n",
       "      <td>1</td>\n",
       "      <td>1327</td>\n",
       "    </tr>\n",
       "    <tr>\n",
       "      <th>147157</th>\n",
       "      <td>116</td>\n",
       "      <td>0</td>\n",
       "      <td>1</td>\n",
       "      <td>1268</td>\n",
       "    </tr>\n",
       "    <tr>\n",
       "      <th>...</th>\n",
       "      <td>...</td>\n",
       "      <td>...</td>\n",
       "      <td>...</td>\n",
       "      <td>...</td>\n",
       "    </tr>\n",
       "    <tr>\n",
       "      <th>262683</th>\n",
       "      <td>891</td>\n",
       "      <td>86</td>\n",
       "      <td>1</td>\n",
       "      <td>101</td>\n",
       "    </tr>\n",
       "    <tr>\n",
       "      <th>262820</th>\n",
       "      <td>892</td>\n",
       "      <td>86</td>\n",
       "      <td>1</td>\n",
       "      <td>101</td>\n",
       "    </tr>\n",
       "    <tr>\n",
       "      <th>262899</th>\n",
       "      <td>893</td>\n",
       "      <td>86</td>\n",
       "      <td>1</td>\n",
       "      <td>101</td>\n",
       "    </tr>\n",
       "    <tr>\n",
       "      <th>263018</th>\n",
       "      <td>894</td>\n",
       "      <td>86</td>\n",
       "      <td>1</td>\n",
       "      <td>101</td>\n",
       "    </tr>\n",
       "    <tr>\n",
       "      <th>263125</th>\n",
       "      <td>895</td>\n",
       "      <td>86</td>\n",
       "      <td>1</td>\n",
       "      <td>101</td>\n",
       "    </tr>\n",
       "  </tbody>\n",
       "</table>\n",
       "<p>784 rows × 4 columns</p>\n",
       "</div>"
      ],
      "text/plain": [
       "        community_id  parent_community_id  level  size\n",
       "146636           112                    0      1  2290\n",
       "146745           113                    0      1  1561\n",
       "146888           114                    0      1  1402\n",
       "147035           115                    0      1  1327\n",
       "147157           116                    0      1  1268\n",
       "...              ...                  ...    ...   ...\n",
       "262683           891                   86      1   101\n",
       "262820           892                   86      1   101\n",
       "262899           893                   86      1   101\n",
       "263018           894                   86      1   101\n",
       "263125           895                   86      1   101\n",
       "\n",
       "[784 rows x 4 columns]"
      ]
     },
     "execution_count": 643,
     "metadata": {},
     "output_type": "execute_result"
    }
   ],
   "source": [
    "level1_parents = parents_df[parents_df['level'] == 1]\n",
    "# append size using heirarchical_leiden_level1.communities\n",
    "level1_parents['size'] = level1_parents['community_id'].apply(\n",
    "    lambda x: len(heirarchical_leiden_level1.communities[x-112])\n",
    ")\n",
    "level1_parents[level1_parents['size'] > 100].sort_values(by='size', ascending=False)"
   ]
  },
  {
   "cell_type": "code",
   "execution_count": 644,
   "id": "867f65ec",
   "metadata": {},
   "outputs": [
    {
     "data": {
      "text/plain": [
       "community_id\n",
       "112    1\n",
       "113    1\n",
       "114    1\n",
       "115    1\n",
       "116    1\n",
       "      ..\n",
       "897    1\n",
       "898    1\n",
       "899    1\n",
       "900    1\n",
       "901    1\n",
       "Name: count, Length: 790, dtype: int64"
      ]
     },
     "execution_count": 644,
     "metadata": {},
     "output_type": "execute_result"
    }
   ],
   "source": [
    "level1_parents[level1_parents['size'] >= 100]['community_id'].value_counts().sort_index()"
   ]
  },
  {
   "cell_type": "code",
   "execution_count": 645,
   "id": "ea146714",
   "metadata": {},
   "outputs": [
    {
     "data": {
      "text/html": [
       "<div>\n",
       "<style scoped>\n",
       "    .dataframe tbody tr th:only-of-type {\n",
       "        vertical-align: middle;\n",
       "    }\n",
       "\n",
       "    .dataframe tbody tr th {\n",
       "        vertical-align: top;\n",
       "    }\n",
       "\n",
       "    .dataframe thead th {\n",
       "        text-align: right;\n",
       "    }\n",
       "</style>\n",
       "<table border=\"1\" class=\"dataframe\">\n",
       "  <thead>\n",
       "    <tr style=\"text-align: right;\">\n",
       "      <th></th>\n",
       "      <th>community_id</th>\n",
       "      <th>parent_community_id</th>\n",
       "      <th>level</th>\n",
       "      <th>size</th>\n",
       "    </tr>\n",
       "  </thead>\n",
       "  <tbody>\n",
       "    <tr>\n",
       "      <th>293272</th>\n",
       "      <td>1096</td>\n",
       "      <td>416</td>\n",
       "      <td>2</td>\n",
       "      <td>88</td>\n",
       "    </tr>\n",
       "    <tr>\n",
       "      <th>293354</th>\n",
       "      <td>1097</td>\n",
       "      <td>416</td>\n",
       "      <td>2</td>\n",
       "      <td>85</td>\n",
       "    </tr>\n",
       "    <tr>\n",
       "      <th>293415</th>\n",
       "      <td>1098</td>\n",
       "      <td>449</td>\n",
       "      <td>2</td>\n",
       "      <td>82</td>\n",
       "    </tr>\n",
       "    <tr>\n",
       "      <th>293476</th>\n",
       "      <td>1099</td>\n",
       "      <td>449</td>\n",
       "      <td>2</td>\n",
       "      <td>61</td>\n",
       "    </tr>\n",
       "    <tr>\n",
       "      <th>293536</th>\n",
       "      <td>1100</td>\n",
       "      <td>815</td>\n",
       "      <td>2</td>\n",
       "      <td>61</td>\n",
       "    </tr>\n",
       "    <tr>\n",
       "      <th>293587</th>\n",
       "      <td>1101</td>\n",
       "      <td>815</td>\n",
       "      <td>2</td>\n",
       "      <td>60</td>\n",
       "    </tr>\n",
       "    <tr>\n",
       "      <th>293638</th>\n",
       "      <td>1102</td>\n",
       "      <td>945</td>\n",
       "      <td>2</td>\n",
       "      <td>58</td>\n",
       "    </tr>\n",
       "    <tr>\n",
       "      <th>293656</th>\n",
       "      <td>1103</td>\n",
       "      <td>945</td>\n",
       "      <td>2</td>\n",
       "      <td>51</td>\n",
       "    </tr>\n",
       "    <tr>\n",
       "      <th>293664</th>\n",
       "      <td>1104</td>\n",
       "      <td>945</td>\n",
       "      <td>2</td>\n",
       "      <td>51</td>\n",
       "    </tr>\n",
       "    <tr>\n",
       "      <th>293706</th>\n",
       "      <td>1105</td>\n",
       "      <td>945</td>\n",
       "      <td>2</td>\n",
       "      <td>45</td>\n",
       "    </tr>\n",
       "    <tr>\n",
       "      <th>293711</th>\n",
       "      <td>1106</td>\n",
       "      <td>945</td>\n",
       "      <td>2</td>\n",
       "      <td>42</td>\n",
       "    </tr>\n",
       "    <tr>\n",
       "      <th>293750</th>\n",
       "      <td>1107</td>\n",
       "      <td>945</td>\n",
       "      <td>2</td>\n",
       "      <td>40</td>\n",
       "    </tr>\n",
       "    <tr>\n",
       "      <th>293752</th>\n",
       "      <td>1108</td>\n",
       "      <td>947</td>\n",
       "      <td>2</td>\n",
       "      <td>39</td>\n",
       "    </tr>\n",
       "    <tr>\n",
       "      <th>293764</th>\n",
       "      <td>1109</td>\n",
       "      <td>947</td>\n",
       "      <td>2</td>\n",
       "      <td>27</td>\n",
       "    </tr>\n",
       "    <tr>\n",
       "      <th>293772</th>\n",
       "      <td>1110</td>\n",
       "      <td>947</td>\n",
       "      <td>2</td>\n",
       "      <td>23</td>\n",
       "    </tr>\n",
       "    <tr>\n",
       "      <th>293790</th>\n",
       "      <td>1111</td>\n",
       "      <td>947</td>\n",
       "      <td>2</td>\n",
       "      <td>18</td>\n",
       "    </tr>\n",
       "    <tr>\n",
       "      <th>293848</th>\n",
       "      <td>1112</td>\n",
       "      <td>947</td>\n",
       "      <td>2</td>\n",
       "      <td>18</td>\n",
       "    </tr>\n",
       "    <tr>\n",
       "      <th>293871</th>\n",
       "      <td>1113</td>\n",
       "      <td>947</td>\n",
       "      <td>2</td>\n",
       "      <td>12</td>\n",
       "    </tr>\n",
       "    <tr>\n",
       "      <th>293911</th>\n",
       "      <td>1114</td>\n",
       "      <td>947</td>\n",
       "      <td>2</td>\n",
       "      <td>8</td>\n",
       "    </tr>\n",
       "    <tr>\n",
       "      <th>293916</th>\n",
       "      <td>1115</td>\n",
       "      <td>947</td>\n",
       "      <td>2</td>\n",
       "      <td>8</td>\n",
       "    </tr>\n",
       "    <tr>\n",
       "      <th>293961</th>\n",
       "      <td>1116</td>\n",
       "      <td>947</td>\n",
       "      <td>2</td>\n",
       "      <td>5</td>\n",
       "    </tr>\n",
       "    <tr>\n",
       "      <th>293988</th>\n",
       "      <td>1117</td>\n",
       "      <td>1037</td>\n",
       "      <td>2</td>\n",
       "      <td>5</td>\n",
       "    </tr>\n",
       "    <tr>\n",
       "      <th>294076</th>\n",
       "      <td>1118</td>\n",
       "      <td>1037</td>\n",
       "      <td>2</td>\n",
       "      <td>2</td>\n",
       "    </tr>\n",
       "  </tbody>\n",
       "</table>\n",
       "</div>"
      ],
      "text/plain": [
       "        community_id  parent_community_id  level  size\n",
       "293272          1096                  416      2    88\n",
       "293354          1097                  416      2    85\n",
       "293415          1098                  449      2    82\n",
       "293476          1099                  449      2    61\n",
       "293536          1100                  815      2    61\n",
       "293587          1101                  815      2    60\n",
       "293638          1102                  945      2    58\n",
       "293656          1103                  945      2    51\n",
       "293664          1104                  945      2    51\n",
       "293706          1105                  945      2    45\n",
       "293711          1106                  945      2    42\n",
       "293750          1107                  945      2    40\n",
       "293752          1108                  947      2    39\n",
       "293764          1109                  947      2    27\n",
       "293772          1110                  947      2    23\n",
       "293790          1111                  947      2    18\n",
       "293848          1112                  947      2    18\n",
       "293871          1113                  947      2    12\n",
       "293911          1114                  947      2     8\n",
       "293916          1115                  947      2     8\n",
       "293961          1116                  947      2     5\n",
       "293988          1117                 1037      2     5\n",
       "294076          1118                 1037      2     2"
      ]
     },
     "execution_count": 645,
     "metadata": {},
     "output_type": "execute_result"
    }
   ],
   "source": [
    "level2_parents = parents_df[parents_df['level'] == 2]\n",
    "level2_parents['size'] = level2_parents['community_id'].apply(\n",
    "    lambda x: len(heirarchical_leiden_level2.communities[x-1096])\n",
    ")\n",
    "level2_parents"
   ]
  },
  {
   "cell_type": "code",
   "execution_count": 646,
   "id": "5ea0bef3",
   "metadata": {},
   "outputs": [
    {
     "data": {
      "text/html": [
       "<div>\n",
       "<style scoped>\n",
       "    .dataframe tbody tr th:only-of-type {\n",
       "        vertical-align: middle;\n",
       "    }\n",
       "\n",
       "    .dataframe tbody tr th {\n",
       "        vertical-align: top;\n",
       "    }\n",
       "\n",
       "    .dataframe thead th {\n",
       "        text-align: right;\n",
       "    }\n",
       "</style>\n",
       "<table border=\"1\" class=\"dataframe\">\n",
       "  <thead>\n",
       "    <tr style=\"text-align: right;\">\n",
       "      <th></th>\n",
       "      <th>community_id</th>\n",
       "      <th>parent_community_id</th>\n",
       "      <th>level</th>\n",
       "      <th>size</th>\n",
       "    </tr>\n",
       "  </thead>\n",
       "  <tbody>\n",
       "    <tr>\n",
       "      <th>188211</th>\n",
       "      <td>416</td>\n",
       "      <td>33</td>\n",
       "      <td>1</td>\n",
       "      <td>148</td>\n",
       "    </tr>\n",
       "    <tr>\n",
       "      <th>192385</th>\n",
       "      <td>449</td>\n",
       "      <td>36</td>\n",
       "      <td>1</td>\n",
       "      <td>146</td>\n",
       "    </tr>\n",
       "    <tr>\n",
       "      <th>248748</th>\n",
       "      <td>815</td>\n",
       "      <td>79</td>\n",
       "      <td>1</td>\n",
       "      <td>109</td>\n",
       "    </tr>\n",
       "    <tr>\n",
       "      <th>269995</th>\n",
       "      <td>945</td>\n",
       "      <td>92</td>\n",
       "      <td>1</td>\n",
       "      <td>91</td>\n",
       "    </tr>\n",
       "    <tr>\n",
       "      <th>270189</th>\n",
       "      <td>947</td>\n",
       "      <td>92</td>\n",
       "      <td>1</td>\n",
       "      <td>91</td>\n",
       "    </tr>\n",
       "    <tr>\n",
       "      <th>284489</th>\n",
       "      <td>1037</td>\n",
       "      <td>104</td>\n",
       "      <td>1</td>\n",
       "      <td>69</td>\n",
       "    </tr>\n",
       "  </tbody>\n",
       "</table>\n",
       "</div>"
      ],
      "text/plain": [
       "        community_id  parent_community_id  level  size\n",
       "188211           416                   33      1   148\n",
       "192385           449                   36      1   146\n",
       "248748           815                   79      1   109\n",
       "269995           945                   92      1    91\n",
       "270189           947                   92      1    91\n",
       "284489          1037                  104      1    69"
      ]
     },
     "execution_count": 646,
     "metadata": {},
     "output_type": "execute_result"
    }
   ],
   "source": [
    "# print level1_parents where community_id is in level2_parents['parent_id']\n",
    "level1_parents[level1_parents['community_id'].isin(level2_parents['parent_community_id'])].sort_values(by='size', ascending=False)"
   ]
  },
  {
   "cell_type": "markdown",
   "id": "de58d518",
   "metadata": {},
   "source": [
    "## Adding node_id to patient df"
   ]
  },
  {
   "cell_type": "code",
   "execution_count": 647,
   "id": "227f75e9",
   "metadata": {},
   "outputs": [],
   "source": [
    "triplet_key = \"neo4j\"\n",
    "data_dir = \"../cdlib-trial/data\"\n",
    "\n",
    "# Load mapping.csv (int_id -> node_name)\n",
    "mapping = pd.read_csv(os.path.join(data_dir, triplet_key, \"mapping.csv\"))\n",
    "# Convert mapping DataFrame to dictionary\n",
    "mapping = mapping.set_index('node')['original_label'].to_dict()\n",
    "rev_mapping = {v: k for k, v in mapping.items()}\n",
    "\n",
    "# Load patient and mutation data\n",
    "patient_df = pd.read_csv(\"../data/thesis/cll_broad_2022_clinical_data_thesis.csv\")\n",
    "mutation_df = pd.read_csv(\"../data/thesis/cll_broad_2022_mutations_thesis.csv\")"
   ]
  },
  {
   "cell_type": "code",
   "execution_count": 648,
   "id": "4306ffbf",
   "metadata": {},
   "outputs": [],
   "source": [
    "# Add nodeId to patient_df\n",
    "patient_df['Patient'] = patient_df['patientId'].apply(lambda x: f\"Patient_{x}\")\n",
    "patient_df['nodeId'] = patient_df['Patient'].apply(lambda x: rev_mapping.get(x, None))\n",
    "\n",
    "# Add nodeId to mutation_df\n",
    "mutation_df['Patient'] = mutation_df['patientId'].apply(lambda x: f\"Patient_{x}\")\n",
    "mutation_df['nodeId'] = mutation_df['Patient'].apply(lambda x: rev_mapping.get(x, None))"
   ]
  },
  {
   "cell_type": "code",
   "execution_count": 649,
   "id": "4a9094db",
   "metadata": {},
   "outputs": [
    {
     "data": {
      "text/html": [
       "<div>\n",
       "<style scoped>\n",
       "    .dataframe tbody tr th:only-of-type {\n",
       "        vertical-align: middle;\n",
       "    }\n",
       "\n",
       "    .dataframe tbody tr th {\n",
       "        vertical-align: top;\n",
       "    }\n",
       "\n",
       "    .dataframe thead th {\n",
       "        text-align: right;\n",
       "    }\n",
       "</style>\n",
       "<table border=\"1\" class=\"dataframe\">\n",
       "  <thead>\n",
       "    <tr style=\"text-align: right;\">\n",
       "      <th></th>\n",
       "      <th>nodeId</th>\n",
       "      <th>patientId</th>\n",
       "    </tr>\n",
       "  </thead>\n",
       "  <tbody>\n",
       "    <tr>\n",
       "      <th>0</th>\n",
       "      <td>0</td>\n",
       "      <td>P-CRC-0001</td>\n",
       "    </tr>\n",
       "    <tr>\n",
       "      <th>1</th>\n",
       "      <td>27</td>\n",
       "      <td>P-CRC-0002</td>\n",
       "    </tr>\n",
       "    <tr>\n",
       "      <th>2</th>\n",
       "      <td>36</td>\n",
       "      <td>P-CRC-0003</td>\n",
       "    </tr>\n",
       "    <tr>\n",
       "      <th>3</th>\n",
       "      <td>45</td>\n",
       "      <td>P-CRC-0004</td>\n",
       "    </tr>\n",
       "    <tr>\n",
       "      <th>4</th>\n",
       "      <td>59</td>\n",
       "      <td>P-CRC-0005</td>\n",
       "    </tr>\n",
       "  </tbody>\n",
       "</table>\n",
       "</div>"
      ],
      "text/plain": [
       "   nodeId   patientId\n",
       "0       0  P-CRC-0001\n",
       "1      27  P-CRC-0002\n",
       "2      36  P-CRC-0003\n",
       "3      45  P-CRC-0004\n",
       "4      59  P-CRC-0005"
      ]
     },
     "metadata": {},
     "output_type": "display_data"
    },
    {
     "data": {
      "text/html": [
       "<div>\n",
       "<style scoped>\n",
       "    .dataframe tbody tr th:only-of-type {\n",
       "        vertical-align: middle;\n",
       "    }\n",
       "\n",
       "    .dataframe tbody tr th {\n",
       "        vertical-align: top;\n",
       "    }\n",
       "\n",
       "    .dataframe thead th {\n",
       "        text-align: right;\n",
       "    }\n",
       "</style>\n",
       "<table border=\"1\" class=\"dataframe\">\n",
       "  <thead>\n",
       "    <tr style=\"text-align: right;\">\n",
       "      <th></th>\n",
       "      <th>nodeId</th>\n",
       "      <th>patientId</th>\n",
       "    </tr>\n",
       "  </thead>\n",
       "  <tbody>\n",
       "    <tr>\n",
       "      <th>0</th>\n",
       "      <td>0</td>\n",
       "      <td>P-CRC-0001</td>\n",
       "    </tr>\n",
       "    <tr>\n",
       "      <th>1</th>\n",
       "      <td>0</td>\n",
       "      <td>P-CRC-0001</td>\n",
       "    </tr>\n",
       "    <tr>\n",
       "      <th>2</th>\n",
       "      <td>0</td>\n",
       "      <td>P-CRC-0001</td>\n",
       "    </tr>\n",
       "    <tr>\n",
       "      <th>3</th>\n",
       "      <td>0</td>\n",
       "      <td>P-CRC-0001</td>\n",
       "    </tr>\n",
       "    <tr>\n",
       "      <th>4</th>\n",
       "      <td>0</td>\n",
       "      <td>P-CRC-0001</td>\n",
       "    </tr>\n",
       "  </tbody>\n",
       "</table>\n",
       "</div>"
      ],
      "text/plain": [
       "   nodeId   patientId\n",
       "0       0  P-CRC-0001\n",
       "1       0  P-CRC-0001\n",
       "2       0  P-CRC-0001\n",
       "3       0  P-CRC-0001\n",
       "4       0  P-CRC-0001"
      ]
     },
     "metadata": {},
     "output_type": "display_data"
    }
   ],
   "source": [
    "display(patient_df.head()[['nodeId', 'patientId']])\n",
    "display(mutation_df.head()[['nodeId', 'patientId']])"
   ]
  },
  {
   "cell_type": "markdown",
   "id": "b466932e",
   "metadata": {},
   "source": [
    "## Add comm_id to patient_df from Leiden level 0"
   ]
  },
  {
   "cell_type": "code",
   "execution_count": 650,
   "id": "bcc4c4e6",
   "metadata": {},
   "outputs": [],
   "source": [
    "# join based on nodeId\n",
    "def join_communities_with_patient_data(community, patient_df):\n",
    "    \"\"\"\n",
    "    Joins communities with patient data based on nodeId.\n",
    "    \"\"\"\n",
    "    communities = community.communities\n",
    "    communities_df = pd.DataFrame({\n",
    "        'nodeId': [node for comm in communities for node in comm],\n",
    "        'community': [idx for idx, comm in enumerate(communities) for node in comm]\n",
    "    })\n",
    "    \n",
    "    merged_df = pd.merge(patient_df, communities_df, on='nodeId', how='left')\n",
    "    return merged_df"
   ]
  },
  {
   "cell_type": "code",
   "execution_count": 651,
   "id": "04ad6687",
   "metadata": {},
   "outputs": [
    {
     "data": {
      "text/html": [
       "<div>\n",
       "<style scoped>\n",
       "    .dataframe tbody tr th:only-of-type {\n",
       "        vertical-align: middle;\n",
       "    }\n",
       "\n",
       "    .dataframe tbody tr th {\n",
       "        vertical-align: top;\n",
       "    }\n",
       "\n",
       "    .dataframe thead th {\n",
       "        text-align: right;\n",
       "    }\n",
       "</style>\n",
       "<table border=\"1\" class=\"dataframe\">\n",
       "  <thead>\n",
       "    <tr style=\"text-align: right;\">\n",
       "      <th></th>\n",
       "      <th>nodeId</th>\n",
       "      <th>community</th>\n",
       "      <th>Patient</th>\n",
       "      <th>patientId</th>\n",
       "    </tr>\n",
       "  </thead>\n",
       "  <tbody>\n",
       "    <tr>\n",
       "      <th>0</th>\n",
       "      <td>0</td>\n",
       "      <td>88</td>\n",
       "      <td>Patient_P-CRC-0001</td>\n",
       "      <td>P-CRC-0001</td>\n",
       "    </tr>\n",
       "    <tr>\n",
       "      <th>1</th>\n",
       "      <td>27</td>\n",
       "      <td>8</td>\n",
       "      <td>Patient_P-CRC-0002</td>\n",
       "      <td>P-CRC-0002</td>\n",
       "    </tr>\n",
       "    <tr>\n",
       "      <th>2</th>\n",
       "      <td>36</td>\n",
       "      <td>26</td>\n",
       "      <td>Patient_P-CRC-0003</td>\n",
       "      <td>P-CRC-0003</td>\n",
       "    </tr>\n",
       "    <tr>\n",
       "      <th>3</th>\n",
       "      <td>45</td>\n",
       "      <td>76</td>\n",
       "      <td>Patient_P-CRC-0004</td>\n",
       "      <td>P-CRC-0004</td>\n",
       "    </tr>\n",
       "    <tr>\n",
       "      <th>4</th>\n",
       "      <td>59</td>\n",
       "      <td>72</td>\n",
       "      <td>Patient_P-CRC-0005</td>\n",
       "      <td>P-CRC-0005</td>\n",
       "    </tr>\n",
       "    <tr>\n",
       "      <th>5</th>\n",
       "      <td>64</td>\n",
       "      <td>56</td>\n",
       "      <td>Patient_P-CRC-0006</td>\n",
       "      <td>P-CRC-0006</td>\n",
       "    </tr>\n",
       "    <tr>\n",
       "      <th>6</th>\n",
       "      <td>72</td>\n",
       "      <td>9</td>\n",
       "      <td>Patient_P-CRC-0007</td>\n",
       "      <td>P-CRC-0007</td>\n",
       "    </tr>\n",
       "    <tr>\n",
       "      <th>7</th>\n",
       "      <td>82</td>\n",
       "      <td>39</td>\n",
       "      <td>Patient_P-CRC-0008</td>\n",
       "      <td>P-CRC-0008</td>\n",
       "    </tr>\n",
       "    <tr>\n",
       "      <th>8</th>\n",
       "      <td>89</td>\n",
       "      <td>72</td>\n",
       "      <td>Patient_P-CRC-0009</td>\n",
       "      <td>P-CRC-0009</td>\n",
       "    </tr>\n",
       "    <tr>\n",
       "      <th>9</th>\n",
       "      <td>99</td>\n",
       "      <td>19</td>\n",
       "      <td>Patient_P-CRC-0010</td>\n",
       "      <td>P-CRC-0010</td>\n",
       "    </tr>\n",
       "  </tbody>\n",
       "</table>\n",
       "</div>"
      ],
      "text/plain": [
       "   nodeId  community             Patient   patientId\n",
       "0       0         88  Patient_P-CRC-0001  P-CRC-0001\n",
       "1      27          8  Patient_P-CRC-0002  P-CRC-0002\n",
       "2      36         26  Patient_P-CRC-0003  P-CRC-0003\n",
       "3      45         76  Patient_P-CRC-0004  P-CRC-0004\n",
       "4      59         72  Patient_P-CRC-0005  P-CRC-0005\n",
       "5      64         56  Patient_P-CRC-0006  P-CRC-0006\n",
       "6      72          9  Patient_P-CRC-0007  P-CRC-0007\n",
       "7      82         39  Patient_P-CRC-0008  P-CRC-0008\n",
       "8      89         72  Patient_P-CRC-0009  P-CRC-0009\n",
       "9      99         19  Patient_P-CRC-0010  P-CRC-0010"
      ]
     },
     "execution_count": 651,
     "metadata": {},
     "output_type": "execute_result"
    }
   ],
   "source": [
    "leiden0_patient_df = join_communities_with_patient_data(heirarchical_leiden_level0, patient_df)\n",
    "leiden0_patient_df.head(10)[['nodeId', 'community', 'Patient', 'patientId']]"
   ]
  },
  {
   "cell_type": "code",
   "execution_count": 652,
   "id": "ad9f5875",
   "metadata": {},
   "outputs": [
    {
     "data": {
      "image/png": "[encoded data removed]",
      "text/plain": [
       "<Figure size 1200x600 with 1 Axes>"
      ]
     },
     "metadata": {},
     "output_type": "display_data"
    }
   ],
   "source": [
    "leiden0_patient_df['community'].value_counts().sort_index().plot(kind='bar', figsize=(12, 6), title='Community Size Distribution')\n",
    "plt.xlabel('Community')\n",
    "plt.ylabel('Number of Patients')\n",
    "plt.show()"
   ]
  },
  {
   "cell_type": "code",
   "execution_count": 653,
   "id": "29ac7a4f",
   "metadata": {},
   "outputs": [
    {
     "name": "stdout",
     "output_type": "stream",
     "text": [
      "Total patients with non-null community in level 0: 1143\n"
     ]
    }
   ],
   "source": [
    "# get patient count with non null community\n",
    "print(f\"Total patients with non-null community in level 0: {leiden0_patient_df['community'].notnull().sum()}\")"
   ]
  },
  {
   "cell_type": "code",
   "execution_count": 654,
   "id": "090cfc39",
   "metadata": {},
   "outputs": [
    {
     "data": {
      "text/plain": [
       "163"
      ]
     },
     "execution_count": 654,
     "metadata": {},
     "output_type": "execute_result"
    }
   ],
   "source": [
    "big_group = leiden0_patient_df[leiden0_patient_df['community'] == 100]\n",
    "len(big_group)"
   ]
  },
  {
   "cell_type": "code",
   "execution_count": 655,
   "id": "ceac1838",
   "metadata": {},
   "outputs": [
    {
     "data": {
      "text/plain": [
       "COHORT\n",
       "ICGC      67\n",
       "GCLLSG    61\n",
       "DFCI      32\n",
       "MDACC      2\n",
       "NHLBI      1\n",
       "Name: count, dtype: int64"
      ]
     },
     "execution_count": 655,
     "metadata": {},
     "output_type": "execute_result"
    }
   ],
   "source": [
    "big_group['COHORT'].value_counts()"
   ]
  },
  {
   "cell_type": "code",
   "execution_count": 656,
   "id": "4f9736de",
   "metadata": {},
   "outputs": [
    {
     "data": {
      "text/plain": [
       "originId\n",
       "1    67\n",
       "7    31\n",
       "6    30\n",
       "3    25\n",
       "5     7\n",
       "9     2\n",
       "8     1\n",
       "Name: count, dtype: int64"
      ]
     },
     "execution_count": 656,
     "metadata": {},
     "output_type": "execute_result"
    }
   ],
   "source": [
    "big_group['originId'].value_counts()"
   ]
  },
  {
   "cell_type": "code",
   "execution_count": 657,
   "id": "288caa1a",
   "metadata": {},
   "outputs": [
    {
     "data": {
      "text/plain": [
       "CLL_EPITYPE\n",
       "unclassified    108\n",
       "m-CLL            25\n",
       "n-CLL            24\n",
       "i-CLL             6\n",
       "Name: count, dtype: int64"
      ]
     },
     "execution_count": 657,
     "metadata": {},
     "output_type": "execute_result"
    }
   ],
   "source": [
    "big_group['CLL_EPITYPE'].value_counts()"
   ]
  },
  {
   "cell_type": "code",
   "execution_count": 658,
   "id": "4e5ab496",
   "metadata": {},
   "outputs": [
    {
     "data": {
      "text/plain": [
       "TUMOR_MOLECULAR_SUBTYPE\n",
       "U-CLL    80\n",
       "M-CLL    67\n",
       "Name: count, dtype: int64"
      ]
     },
     "execution_count": 658,
     "metadata": {},
     "output_type": "execute_result"
    }
   ],
   "source": [
    "big_group['TUMOR_MOLECULAR_SUBTYPE'].value_counts()"
   ]
  },
  {
   "cell_type": "markdown",
   "id": "76083e28",
   "metadata": {},
   "source": [
    "## Add comm_id to patient_df from Leiden level 1"
   ]
  },
  {
   "cell_type": "code",
   "execution_count": 659,
   "id": "6b9cdadc",
   "metadata": {},
   "outputs": [
    {
     "name": "stdout",
     "output_type": "stream",
     "text": [
      "Total patients with non-null community in level 1: 1143\n"
     ]
    }
   ],
   "source": [
    "leiden1_patient_df = join_communities_with_patient_data(heirarchical_leiden_level1, patient_df)\n",
    "leiden1_patient_df.head(10)[['nodeId', 'community', 'Patient', 'patientId']]\n",
    "print(f\"Total patients with non-null community in level 1: {leiden1_patient_df['community'].notnull().sum()}\")"
   ]
  },
  {
   "cell_type": "markdown",
   "id": "a38fd2e1",
   "metadata": {},
   "source": [
    "## Add comm_id to patient_df from Leiden level 2"
   ]
  },
  {
   "cell_type": "code",
   "execution_count": 660,
   "id": "735b25dd",
   "metadata": {},
   "outputs": [
    {
     "name": "stdout",
     "output_type": "stream",
     "text": [
      "Total patients with non-null community in level 2: 144\n"
     ]
    }
   ],
   "source": [
    "leiden2_patient_df = join_communities_with_patient_data(heirarchical_leiden_level2, patient_df)\n",
    "leiden2_patient_df.head(10)[['nodeId', 'community', 'Patient', 'patientId']]\n",
    "print(f\"Total patients with non-null community in level 2: {leiden2_patient_df['community'].notnull().sum()}\")"
   ]
  },
  {
   "cell_type": "markdown",
   "id": "eaef51ba",
   "metadata": {},
   "source": [
    "## Add comm_id to patient_df from hybrid"
   ]
  },
  {
   "cell_type": "code",
   "execution_count": 661,
   "id": "abff4e12",
   "metadata": {},
   "outputs": [],
   "source": [
    "def join_communities_with_patient_data_slpa(community, patient_df):\n",
    "    \"\"\"\n",
    "    Joins SLPA communities with patient data based on nodeId.\n",
    "    \"\"\"\n",
    "    communities = community.communities\n",
    "    communities_df = pd.DataFrame({\n",
    "        'nodeId': [node for comm in communities for node in comm],\n",
    "        'community': [idx for idx, comm in enumerate(communities) for node in comm]\n",
    "    })\n",
    "    \n",
    "    merged_df = pd.merge(patient_df, communities_df, on='nodeId', how='left')\n",
    "    return merged_df"
   ]
  },
  {
   "cell_type": "code",
   "execution_count": 662,
   "id": "485d5f07",
   "metadata": {},
   "outputs": [
    {
     "data": {
      "text/html": [
       "<div>\n",
       "<style scoped>\n",
       "    .dataframe tbody tr th:only-of-type {\n",
       "        vertical-align: middle;\n",
       "    }\n",
       "\n",
       "    .dataframe tbody tr th {\n",
       "        vertical-align: top;\n",
       "    }\n",
       "\n",
       "    .dataframe thead th {\n",
       "        text-align: right;\n",
       "    }\n",
       "</style>\n",
       "<table border=\"1\" class=\"dataframe\">\n",
       "  <thead>\n",
       "    <tr style=\"text-align: right;\">\n",
       "      <th></th>\n",
       "      <th>nodeId</th>\n",
       "      <th>community</th>\n",
       "      <th>Patient</th>\n",
       "      <th>patientId</th>\n",
       "    </tr>\n",
       "  </thead>\n",
       "  <tbody>\n",
       "    <tr>\n",
       "      <th>0</th>\n",
       "      <td>0</td>\n",
       "      <td>466</td>\n",
       "      <td>Patient_P-CRC-0001</td>\n",
       "      <td>P-CRC-0001</td>\n",
       "    </tr>\n",
       "    <tr>\n",
       "      <th>1</th>\n",
       "      <td>27</td>\n",
       "      <td>529</td>\n",
       "      <td>Patient_P-CRC-0002</td>\n",
       "      <td>P-CRC-0002</td>\n",
       "    </tr>\n",
       "    <tr>\n",
       "      <th>2</th>\n",
       "      <td>36</td>\n",
       "      <td>972</td>\n",
       "      <td>Patient_P-CRC-0003</td>\n",
       "      <td>P-CRC-0003</td>\n",
       "    </tr>\n",
       "    <tr>\n",
       "      <th>3</th>\n",
       "      <td>45</td>\n",
       "      <td>231</td>\n",
       "      <td>Patient_P-CRC-0004</td>\n",
       "      <td>P-CRC-0004</td>\n",
       "    </tr>\n",
       "    <tr>\n",
       "      <th>4</th>\n",
       "      <td>59</td>\n",
       "      <td>555</td>\n",
       "      <td>Patient_P-CRC-0005</td>\n",
       "      <td>P-CRC-0005</td>\n",
       "    </tr>\n",
       "    <tr>\n",
       "      <th>5</th>\n",
       "      <td>64</td>\n",
       "      <td>488</td>\n",
       "      <td>Patient_P-CRC-0006</td>\n",
       "      <td>P-CRC-0006</td>\n",
       "    </tr>\n",
       "    <tr>\n",
       "      <th>6</th>\n",
       "      <td>72</td>\n",
       "      <td>342</td>\n",
       "      <td>Patient_P-CRC-0007</td>\n",
       "      <td>P-CRC-0007</td>\n",
       "    </tr>\n",
       "    <tr>\n",
       "      <th>7</th>\n",
       "      <td>82</td>\n",
       "      <td>511</td>\n",
       "      <td>Patient_P-CRC-0008</td>\n",
       "      <td>P-CRC-0008</td>\n",
       "    </tr>\n",
       "    <tr>\n",
       "      <th>8</th>\n",
       "      <td>89</td>\n",
       "      <td>806</td>\n",
       "      <td>Patient_P-CRC-0009</td>\n",
       "      <td>P-CRC-0009</td>\n",
       "    </tr>\n",
       "    <tr>\n",
       "      <th>9</th>\n",
       "      <td>99</td>\n",
       "      <td>655</td>\n",
       "      <td>Patient_P-CRC-0010</td>\n",
       "      <td>P-CRC-0010</td>\n",
       "    </tr>\n",
       "  </tbody>\n",
       "</table>\n",
       "</div>"
      ],
      "text/plain": [
       "   nodeId  community             Patient   patientId\n",
       "0       0        466  Patient_P-CRC-0001  P-CRC-0001\n",
       "1      27        529  Patient_P-CRC-0002  P-CRC-0002\n",
       "2      36        972  Patient_P-CRC-0003  P-CRC-0003\n",
       "3      45        231  Patient_P-CRC-0004  P-CRC-0004\n",
       "4      59        555  Patient_P-CRC-0005  P-CRC-0005\n",
       "5      64        488  Patient_P-CRC-0006  P-CRC-0006\n",
       "6      72        342  Patient_P-CRC-0007  P-CRC-0007\n",
       "7      82        511  Patient_P-CRC-0008  P-CRC-0008\n",
       "8      89        806  Patient_P-CRC-0009  P-CRC-0009\n",
       "9      99        655  Patient_P-CRC-0010  P-CRC-0010"
      ]
     },
     "execution_count": 662,
     "metadata": {},
     "output_type": "execute_result"
    }
   ],
   "source": [
    "slpa_on_leiden_level0_patient_df = join_communities_with_patient_data_slpa(slpa_on_leiden_level0, patient_df)\n",
    "slpa_on_leiden_level0_patient_df.head(10)[['nodeId', 'community', 'Patient', 'patientId']]"
   ]
  },
  {
   "cell_type": "code",
   "execution_count": 663,
   "id": "1ca569cf",
   "metadata": {},
   "outputs": [
    {
     "name": "stdout",
     "output_type": "stream",
     "text": [
      "(1143, 2) (1143, 30)\n",
      "Communities found with at least 1 patient:  984\n"
     ]
    }
   ],
   "source": [
    "communities = slpa_on_leiden_level0.communities\n",
    "communities_df = pd.DataFrame({\n",
    "        'nodeId': [node for comm in communities for node in comm],\n",
    "        'community': [idx for idx, comm in enumerate(communities) for node in comm]\n",
    "})\n",
    "# keep only those nodeids that map to Patient_\n",
    "communities_df = communities_df[communities_df['nodeId'].isin(leiden0_patient_df['nodeId'])]\n",
    "print(communities_df.shape, patient_df.shape)\n",
    "print(\"Communities found with at least 1 patient: \", communities_df['community'].nunique())"
   ]
  },
  {
   "cell_type": "code",
   "execution_count": 664,
   "id": "1e2d69d5",
   "metadata": {},
   "outputs": [
    {
     "name": "stdout",
     "output_type": "stream",
     "text": [
      "Patients in multiple communities: 0\n"
     ]
    }
   ],
   "source": [
    "# display patients in communities_df belonging to more than 1 community\n",
    "patients_in_multiple_comms = communities_df['nodeId'].value_counts()[communities_df['nodeId'].value_counts() > 1]\n",
    "print(f\"Patients in multiple communities: {patients_in_multiple_comms.shape[0]}\")"
   ]
  },
  {
   "cell_type": "code",
   "execution_count": 665,
   "id": "35ef2543",
   "metadata": {},
   "outputs": [
    {
     "data": {
      "text/plain": [
       "community\n",
       "19    160\n",
       "dtype: int64"
      ]
     },
     "execution_count": 665,
     "metadata": {},
     "output_type": "execute_result"
    }
   ],
   "source": [
    "# keep only those communities that have more than 1 patient\n",
    "slpa_on_leiden_level0_patient_df.groupby('community').filter(lambda x: len(x) > 1).groupby('community').size().sort_values(ascending=False)"
   ]
  },
  {
   "cell_type": "code",
   "execution_count": 666,
   "id": "9b2ba052",
   "metadata": {},
   "outputs": [],
   "source": [
    "big_group = slpa_on_leiden_level0_patient_df[slpa_on_leiden_level0_patient_df['community']==19]"
   ]
  },
  {
   "cell_type": "code",
   "execution_count": 667,
   "id": "958f34ae",
   "metadata": {},
   "outputs": [
    {
     "data": {
      "text/plain": [
       "COHORT\n",
       "ICGC      65\n",
       "GCLLSG    60\n",
       "DFCI      32\n",
       "MDACC      2\n",
       "NHLBI      1\n",
       "Name: count, dtype: int64"
      ]
     },
     "execution_count": 667,
     "metadata": {},
     "output_type": "execute_result"
    }
   ],
   "source": [
    "big_group['COHORT'].value_counts()"
   ]
  },
  {
   "cell_type": "code",
   "execution_count": 668,
   "id": "347ebf77",
   "metadata": {},
   "outputs": [
    {
     "data": {
      "text/plain": [
       "originId\n",
       "1    65\n",
       "7    31\n",
       "6    29\n",
       "3    25\n",
       "5     7\n",
       "9     2\n",
       "8     1\n",
       "Name: count, dtype: int64"
      ]
     },
     "execution_count": 668,
     "metadata": {},
     "output_type": "execute_result"
    }
   ],
   "source": [
    "big_group['originId'].value_counts()"
   ]
  },
  {
   "cell_type": "code",
   "execution_count": 669,
   "id": "f6585611",
   "metadata": {},
   "outputs": [
    {
     "data": {
      "text/plain": [
       "CLL_EPITYPE\n",
       "unclassified    108\n",
       "m-CLL            24\n",
       "n-CLL            23\n",
       "i-CLL             5\n",
       "Name: count, dtype: int64"
      ]
     },
     "execution_count": 669,
     "metadata": {},
     "output_type": "execute_result"
    }
   ],
   "source": [
    "big_group['CLL_EPITYPE'].value_counts()"
   ]
  },
  {
   "cell_type": "code",
   "execution_count": 670,
   "id": "ef938eae",
   "metadata": {},
   "outputs": [
    {
     "data": {
      "text/plain": [
       "TUMOR_MOLECULAR_SUBTYPE\n",
       "U-CLL    80\n",
       "M-CLL    65\n",
       "Name: count, dtype: int64"
      ]
     },
     "execution_count": 670,
     "metadata": {},
     "output_type": "execute_result"
    }
   ],
   "source": [
    "big_group['TUMOR_MOLECULAR_SUBTYPE'].value_counts()"
   ]
  },
  {
   "cell_type": "code",
   "execution_count": 671,
   "id": "46c34359",
   "metadata": {},
   "outputs": [
    {
     "name": "stdout",
     "output_type": "stream",
     "text": [
      "Total nodes in multiple communities: 1\n",
      "Nodes in multiple communities: [168]\n",
      "AGE_56.0 [19, 747]\n",
      "Total nodes: 146636\n",
      "Percentage of nodes in more than 1 community: 0.00%\n"
     ]
    }
   ],
   "source": [
    "# get percentage of all nodes, not just patient nodes, belonging in more than 1 community in slpa_on_leiden_level0.communities\n",
    "node_to_communities_map = {}\n",
    "for idx, comm in enumerate(slpa_on_leiden_level0.communities):\n",
    "    for node in comm:\n",
    "        if node not in node_to_communities_map:\n",
    "            node_to_communities_map[node] = []\n",
    "        node_to_communities_map[node].append(idx)\n",
    "\n",
    "# Calculate the percentage of nodes in more than 1 community\n",
    "nodes_in_multiple_comms = sum(1 for communities in node_to_communities_map.values() if len(communities) > 1)\n",
    "print(f\"Total nodes in multiple communities: {nodes_in_multiple_comms}\")\n",
    "nodes_list_in_multiple_comms = [node for node, communities in node_to_communities_map.items() if len(communities) > 1]\n",
    "print(f\"Nodes in multiple communities: {nodes_list_in_multiple_comms}\")\n",
    "print(mapping[168], node_to_communities_map[168])\n",
    "total_nodes = len(node_to_communities_map)\n",
    "print(f\"Total nodes: {total_nodes}\")\n",
    "percentage_in_multiple_comms = (nodes_in_multiple_comms / total_nodes) * 100\n",
    "print(f\"Percentage of nodes in more than 1 community: {percentage_in_multiple_comms:.2f}%\")"
   ]
  },
  {
   "cell_type": "code",
   "execution_count": 672,
   "id": "df33af66",
   "metadata": {},
   "outputs": [
    {
     "name": "stdout",
     "output_type": "stream",
     "text": [
      "NMI for CLL_EPITYPE: 0.3122, ARI: 0.0301\n",
      "NMI for TUMOR_MOLECULAR_SUBTYPE: 0.1725, ARI: 0.0001\n"
     ]
    }
   ],
   "source": [
    "# caluclate nmi and ari for slpa_on_leiden_level0_patient_df['community'] based on cll_epitype and tumor_molecular_subtype\n",
    "def calculate_nmi_ari(df, community_col, label_col):\n",
    "    \"\"\"\n",
    "    Calculate Normalized Mutual Information (NMI) and Adjusted Rand Index (ARI) for the given community and label columns.\n",
    "    \"\"\"\n",
    "    # drop rows where either community or label is NaN\n",
    "    df = df.dropna(subset=[community_col, label_col])\n",
    "    nmi = normalized_mutual_info_score(df[community_col], df[label_col])\n",
    "    ari = adjusted_rand_score(df[community_col], df[label_col])\n",
    "    return nmi, ari\n",
    "\n",
    "# Calculate NMI and ARI for CLL_EPITYPE\n",
    "nmi_cll_epitype, ari_cll_epitype = calculate_nmi_ari(slpa_on_leiden_level0_patient_df, 'community', 'CLL_EPITYPE')\n",
    "print(f\"NMI for CLL_EPITYPE: {nmi_cll_epitype:.4f}, ARI: {ari_cll_epitype:.4f}\")    \n",
    "# Calculate NMI and ARI for TUMOR_MOLECULAR_SUBTYPE\n",
    "nmi_tumor_molecular_subtype, ari_tumor_molecular_subtype = calculate_nmi_ari(slpa_on_leiden_level0_patient_df, 'community', 'TUMOR_MOLECULAR_SUBTYPE')\n",
    "print(f\"NMI for TUMOR_MOLECULAR_SUBTYPE: {nmi_tumor_molecular_subtype:.4f}, ARI: {ari_tumor_molecular_subtype:.4f}\")"
   ]
  },
  {
   "cell_type": "markdown",
   "id": "6e16503a",
   "metadata": {},
   "source": [
    "## Adding comm_id to patient_df from slpa"
   ]
  },
  {
   "cell_type": "code",
   "execution_count": 673,
   "id": "7048c5e5",
   "metadata": {},
   "outputs": [
    {
     "data": {
      "text/html": [
       "<div>\n",
       "<style scoped>\n",
       "    .dataframe tbody tr th:only-of-type {\n",
       "        vertical-align: middle;\n",
       "    }\n",
       "\n",
       "    .dataframe tbody tr th {\n",
       "        vertical-align: top;\n",
       "    }\n",
       "\n",
       "    .dataframe thead th {\n",
       "        text-align: right;\n",
       "    }\n",
       "</style>\n",
       "<table border=\"1\" class=\"dataframe\">\n",
       "  <thead>\n",
       "    <tr style=\"text-align: right;\">\n",
       "      <th></th>\n",
       "      <th>nodeId</th>\n",
       "      <th>community</th>\n",
       "      <th>Patient</th>\n",
       "      <th>patientId</th>\n",
       "    </tr>\n",
       "  </thead>\n",
       "  <tbody>\n",
       "    <tr>\n",
       "      <th>0</th>\n",
       "      <td>0</td>\n",
       "      <td>0</td>\n",
       "      <td>Patient_P-CRC-0001</td>\n",
       "      <td>P-CRC-0001</td>\n",
       "    </tr>\n",
       "    <tr>\n",
       "      <th>1</th>\n",
       "      <td>27</td>\n",
       "      <td>0</td>\n",
       "      <td>Patient_P-CRC-0002</td>\n",
       "      <td>P-CRC-0002</td>\n",
       "    </tr>\n",
       "    <tr>\n",
       "      <th>2</th>\n",
       "      <td>36</td>\n",
       "      <td>0</td>\n",
       "      <td>Patient_P-CRC-0003</td>\n",
       "      <td>P-CRC-0003</td>\n",
       "    </tr>\n",
       "    <tr>\n",
       "      <th>3</th>\n",
       "      <td>45</td>\n",
       "      <td>0</td>\n",
       "      <td>Patient_P-CRC-0004</td>\n",
       "      <td>P-CRC-0004</td>\n",
       "    </tr>\n",
       "    <tr>\n",
       "      <th>4</th>\n",
       "      <td>59</td>\n",
       "      <td>0</td>\n",
       "      <td>Patient_P-CRC-0005</td>\n",
       "      <td>P-CRC-0005</td>\n",
       "    </tr>\n",
       "    <tr>\n",
       "      <th>5</th>\n",
       "      <td>64</td>\n",
       "      <td>0</td>\n",
       "      <td>Patient_P-CRC-0006</td>\n",
       "      <td>P-CRC-0006</td>\n",
       "    </tr>\n",
       "    <tr>\n",
       "      <th>6</th>\n",
       "      <td>72</td>\n",
       "      <td>0</td>\n",
       "      <td>Patient_P-CRC-0007</td>\n",
       "      <td>P-CRC-0007</td>\n",
       "    </tr>\n",
       "    <tr>\n",
       "      <th>7</th>\n",
       "      <td>82</td>\n",
       "      <td>0</td>\n",
       "      <td>Patient_P-CRC-0008</td>\n",
       "      <td>P-CRC-0008</td>\n",
       "    </tr>\n",
       "    <tr>\n",
       "      <th>8</th>\n",
       "      <td>89</td>\n",
       "      <td>0</td>\n",
       "      <td>Patient_P-CRC-0009</td>\n",
       "      <td>P-CRC-0009</td>\n",
       "    </tr>\n",
       "    <tr>\n",
       "      <th>9</th>\n",
       "      <td>99</td>\n",
       "      <td>0</td>\n",
       "      <td>Patient_P-CRC-0010</td>\n",
       "      <td>P-CRC-0010</td>\n",
       "    </tr>\n",
       "  </tbody>\n",
       "</table>\n",
       "</div>"
      ],
      "text/plain": [
       "   nodeId  community             Patient   patientId\n",
       "0       0          0  Patient_P-CRC-0001  P-CRC-0001\n",
       "1      27          0  Patient_P-CRC-0002  P-CRC-0002\n",
       "2      36          0  Patient_P-CRC-0003  P-CRC-0003\n",
       "3      45          0  Patient_P-CRC-0004  P-CRC-0004\n",
       "4      59          0  Patient_P-CRC-0005  P-CRC-0005\n",
       "5      64          0  Patient_P-CRC-0006  P-CRC-0006\n",
       "6      72          0  Patient_P-CRC-0007  P-CRC-0007\n",
       "7      82          0  Patient_P-CRC-0008  P-CRC-0008\n",
       "8      89          0  Patient_P-CRC-0009  P-CRC-0009\n",
       "9      99          0  Patient_P-CRC-0010  P-CRC-0010"
      ]
     },
     "execution_count": 673,
     "metadata": {},
     "output_type": "execute_result"
    }
   ],
   "source": [
    "slpa_patient_df = join_communities_with_patient_data_slpa(slpa_communities, patient_df)\n",
    "slpa_patient_df.head(10)[['nodeId', 'community', 'Patient', 'patientId']]"
   ]
  },
  {
   "cell_type": "code",
   "execution_count": 674,
   "id": "7c6a619e",
   "metadata": {},
   "outputs": [
    {
     "name": "stdout",
     "output_type": "stream",
     "text": [
      "(1173, 2) (1143, 30)\n",
      "Communities found with at least 1 patient:  44\n"
     ]
    }
   ],
   "source": [
    "communities = slpa_communities.communities\n",
    "communities_df = pd.DataFrame({\n",
    "        'nodeId': [node for comm in communities for node in comm],\n",
    "        'community': [idx for idx, comm in enumerate(communities) for node in comm]\n",
    "})\n",
    "# keep only those nodeids that map to Patient_\n",
    "communities_df = communities_df[communities_df['nodeId'].isin(leiden0_patient_df['nodeId'])]\n",
    "print(communities_df.shape, patient_df.shape)\n",
    "print(\"Communities found with at least 1 patient: \", communities_df['community'].nunique())\n",
    "# all communities have at least 1 patient"
   ]
  },
  {
   "cell_type": "code",
   "execution_count": 675,
   "id": "2bceb870",
   "metadata": {},
   "outputs": [
    {
     "name": "stdout",
     "output_type": "stream",
     "text": [
      "Patients in multiple communities: 30\n"
     ]
    }
   ],
   "source": [
    "# display patients in communities_df belonging to more than 1 community\n",
    "patients_in_multiple_comms = communities_df['nodeId'].value_counts()[communities_df['nodeId'].value_counts() > 1]\n",
    "print(f\"Patients in multiple communities: {patients_in_multiple_comms.shape[0]}\")"
   ]
  },
  {
   "cell_type": "code",
   "execution_count": 676,
   "id": "e7d6c71d",
   "metadata": {},
   "outputs": [
    {
     "data": {
      "text/plain": [
       "community\n",
       "0    1130\n",
       "dtype: int64"
      ]
     },
     "execution_count": 676,
     "metadata": {},
     "output_type": "execute_result"
    }
   ],
   "source": [
    "# keep only those communities that have more than 1 patient\n",
    "slpa_patient_df.groupby('community').filter(lambda x: len(x) > 1).groupby('community').size().sort_values(ascending=False)"
   ]
  },
  {
   "cell_type": "code",
   "execution_count": 677,
   "id": "75397a85",
   "metadata": {},
   "outputs": [],
   "source": [
    "big_group = slpa_patient_df[slpa_patient_df['community']==0]"
   ]
  },
  {
   "cell_type": "code",
   "execution_count": 678,
   "id": "5463cfad",
   "metadata": {},
   "outputs": [
    {
     "data": {
      "image/png": "[encoded data removed]",
      "text/plain": [
       "<Figure size 1200x600 with 1 Axes>"
      ]
     },
     "metadata": {},
     "output_type": "display_data"
    }
   ],
   "source": [
    "slpa_patient_df['community'].value_counts().sort_index().plot(kind='bar', figsize=(12, 6), title='Community Size Distribution')\n",
    "plt.xlabel('Community')\n",
    "plt.ylabel('Number of Patients')\n",
    "plt.show()"
   ]
  },
  {
   "cell_type": "code",
   "execution_count": 679,
   "id": "b2992371",
   "metadata": {},
   "outputs": [
    {
     "data": {
      "text/plain": [
       "community\n",
       "0     1130\n",
       "32       1\n",
       "29       1\n",
       "25       1\n",
       "12       1\n",
       "19       1\n",
       "16       1\n",
       "24       1\n",
       "17       1\n",
       "31       1\n",
       "3        1\n",
       "18       1\n",
       "22       1\n",
       "10       1\n",
       "4        1\n",
       "1        1\n",
       "8        1\n",
       "7        1\n",
       "11       1\n",
       "6        1\n",
       "5        1\n",
       "20       1\n",
       "14       1\n",
       "21       1\n",
       "15       1\n",
       "33       1\n",
       "34       1\n",
       "40       1\n",
       "41       1\n",
       "35       1\n",
       "9        1\n",
       "23       1\n",
       "37       1\n",
       "36       1\n",
       "27       1\n",
       "28       1\n",
       "42       1\n",
       "13       1\n",
       "43       1\n",
       "38       1\n",
       "39       1\n",
       "26       1\n",
       "30       1\n",
       "2        1\n",
       "Name: count, dtype: int64"
      ]
     },
     "execution_count": 679,
     "metadata": {},
     "output_type": "execute_result"
    }
   ],
   "source": [
    "slpa_patient_df['community'].value_counts()\n",
    "\n",
    "# 1130 patient in comm 0,\n",
    "# 30 of these also have their own community,\n",
    "# and 11 present in only their own community"
   ]
  },
  {
   "cell_type": "code",
   "execution_count": 680,
   "id": "9d34b430",
   "metadata": {},
   "outputs": [
    {
     "data": {
      "image/png": "[encoded data removed]",
      "text/plain": [
       "<Figure size 1200x600 with 1 Axes>"
      ]
     },
     "metadata": {},
     "output_type": "display_data"
    }
   ],
   "source": [
    "# plot community size vs community id \n",
    "comm_sizes = [len(c) for c in slpa_communities.communities]\n",
    "plt.figure(figsize=(12, 6))\n",
    "plt.bar(range(len(comm_sizes)), comm_sizes)\n",
    "plt.xlabel('Community ID')\n",
    "plt.ylabel('Community Size')\n",
    "plt.title('Community Size vs Community ID for SLPA Communities')\n",
    "plt.xticks(rotation=90)\n",
    "plt.show()"
   ]
  },
  {
   "cell_type": "code",
   "execution_count": 681,
   "id": "602cc7fe",
   "metadata": {},
   "outputs": [
    {
     "name": "stdout",
     "output_type": "stream",
     "text": [
      "Total nodes in multiple communities: 9198\n",
      "Total nodes: 146636\n",
      "Percentage of nodes in more than 1 community: 6.27%\n"
     ]
    }
   ],
   "source": [
    "# get percentage and list of all nodes, not just patient nodes, belonging in more than 1 community\n",
    "node_to_communities_map = {}\n",
    "for idx, comm in enumerate(slpa_communities.communities):\n",
    "    for node in comm:\n",
    "        if node not in node_to_communities_map:\n",
    "            node_to_communities_map[node] = []\n",
    "        node_to_communities_map[node].append(idx)\n",
    "# Calculate the percentage of nodes in more than 1 community\n",
    "nodes_in_multiple_comms = sum(1 for communities in node_to_communities_map.values() if len(communities) > 1)\n",
    "print(f\"Total nodes in multiple communities: {nodes_in_multiple_comms}\")\n",
    "total_nodes = len(node_to_communities_map)\n",
    "print(f\"Total nodes: {total_nodes}\")\n",
    "percentage_in_multiple_comms = (nodes_in_multiple_comms / total_nodes) * 100\n",
    "print(f\"Percentage of nodes in more than 1 community: {percentage_in_multiple_comms:.2f}%\")"
   ]
  },
  {
   "cell_type": "code",
   "execution_count": 682,
   "id": "3ca956cc",
   "metadata": {},
   "outputs": [
    {
     "data": {
      "image/png": "[encoded data removed]",
      "text/plain": [
       "<Figure size 1200x600 with 1 Axes>"
      ]
     },
     "metadata": {},
     "output_type": "display_data"
    },
    {
     "name": "stdout",
     "output_type": "stream",
     "text": [
      "137438 nodes belong to only 1 community\n",
      "9198 nodes belong to 2 communities\n"
     ]
    }
   ],
   "source": [
    "# get how many communities a node belongs to and plot where x is number of communities and y is number of nodes\n",
    "node_community_counts = [len(communities) for communities in node_to_communities_map.values()]\n",
    "plt.figure(figsize=(12, 6))\n",
    "sns.histplot(node_community_counts, bins=range(1, max(node_community_counts) + 2), kde=False)\n",
    "plt.xlabel('Number of Communities a Node Belongs To')\n",
    "plt.ylabel('Number of Nodes')\n",
    "plt.title('Distribution of Nodes Across Communities in SLPA')\n",
    "plt.xticks(range(1, max(node_community_counts) + 1))\n",
    "plt.show()  \n",
    "\n",
    "print(node_community_counts.count(1), \"nodes belong to only 1 community\")\n",
    "print(node_community_counts.count(2), \"nodes belong to 2 communities\")"
   ]
  },
  {
   "cell_type": "markdown",
   "id": "7ed643d4",
   "metadata": {},
   "source": [
    "## Visualise graph using Gephi"
   ]
  },
  {
   "cell_type": "code",
   "execution_count": null,
   "id": "893b8ae7",
   "metadata": {},
   "outputs": [],
   "source": [
    "def export_patient_community_and_edges(community, mapping_df, triplets_df, output_prefix=\"patient\"):\n",
    "    \"\"\"\n",
    "    Given a cdlib read_community_csv community object, a mapping DataFrame, and a triplets DataFrame,\n",
    "    saves two CSVs:\n",
    "      1. {output_prefix}_nodeid_nodename_community.csv: nodeid, nodename, community_id for patient nodes only\n",
    "      2. {output_prefix}_sourcenodeid_targetnodeid.csv: source nodeid, target nodeid for edges between patient nodes only\n",
    "    \"\"\"\n",
    "    # Prepare mapping dicts\n",
    "    if 'node' in mapping_df.columns and 'original_label' in mapping_df.columns:\n",
    "        nodeid_to_nodename = mapping_df.set_index('node')['original_label'].to_dict()\n",
    "    elif 'nodeid' in mapping_df.columns and 'nodename' in mapping_df.columns:\n",
    "        nodeid_to_nodename = mapping_df.set_index('nodeid')['nodename'].to_dict()\n",
    "    else:\n",
    "        raise ValueError(\"mapping_df must have columns ['node', 'original_label'] or ['nodeid', 'nodename']\")\n",
    "    \n",
    "    # Build nodeid -> community_id for all nodes in communities\n",
    "    nodeid_to_commid = {}\n",
    "    for comm_id, comm in enumerate(community.communities):\n",
    "        for node in comm:\n",
    "            nodeid_to_commid[node] = comm_id\n",
    "\n",
    "    # Filter mapping to patient nodes only\n",
    "    patient_rows = []\n",
    "    for nodeid, nodename in nodeid_to_nodename.items():\n",
    "        if str(nodename).startswith(\"Patient_\"):\n",
    "            comm_id = nodeid_to_commid.get(nodeid, -1)\n",
    "            patient_rows.append({'nodeid': nodeid, 'nodename': nodename, 'community_id': comm_id})\n",
    "    patient_df = pd.DataFrame(patient_rows)\n",
    "    patient_df.to_csv(f\"{output_prefix}_nodeid_nodename_community.csv\", index=False)\n",
    "\n",
    "    # Prepare mapping from nodename to nodeid for triplets\n",
    "    nodename_to_nodeid = {v: k for k, v in nodeid_to_nodename.items()}\n",
    "\n",
    "    # Filter triplets to patient-patient edges only\n",
    "    triplets_df['Source'] = triplets_df['subject'].map(nodename_to_nodeid)\n",
    "    triplets_df['Target'] = triplets_df['object'].map(nodename_to_nodeid)\n",
    "    patient_edges = triplets_df.dropna(subset=['Source', 'Target'])\n",
    "    patient_edges = patient_edges[['Source', 'Target']].astype(int)\n",
    "    patient_edges.to_csv(f\"{output_prefix}_sourcenodeid_targetnodeid.csv\", index=False)\n",
    "\n",
    "    print(f\"Saved {output_prefix}_nodeid_nodename_community.csv and {output_prefix}_sourcenodeid_targetnodeid.csv\")"
   ]
  },
  {
   "cell_type": "code",
   "execution_count": null,
   "id": "c33c2f03",
   "metadata": {},
   "outputs": [
    {
     "name": "stdout",
     "output_type": "stream",
     "text": [
      "Saved trial_nodeid_nodename_community.csv and trial_sourcenodeid_targetnodeid.csv\n"
     ]
    }
   ],
   "source": [
    "# export_patient_community_and_edges(\n",
    "#     community=heirarchical_leiden_level0,\n",
    "#     mapping_df=pd.read_csv(\"../cdlib-trial/data/trial/mapping.csv\"),\n",
    "#     triplets_df=pd.read_csv(\"../cdlib-trial/data/trial/kg_triplets_for_trial.csv\"),\n",
    "#     output_prefix=\"trial\"\n",
    "# )"
   ]
  },
  {
   "cell_type": "code",
   "execution_count": null,
   "id": "3048a7c7",
   "metadata": {},
   "outputs": [],
   "source": []
  }
 ],
 "metadata": {
  "kernelspec": {
   "display_name": "mscthesis",
   "language": "python",
   "name": "python3"
  },
  "language_info": {
   "codemirror_mode": {
    "name": "ipython",
    "version": 3
   },
   "file_extension": ".py",
   "mimetype": "text/x-python",
   "name": "python",
   "nbconvert_exporter": "python",
   "pygments_lexer": "ipython3",
   "version": "3.9.21"
  }
 },
 "nbformat": 4,
 "nbformat_minor": 5
}
