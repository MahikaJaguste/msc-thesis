{
 "cells": [
  {
   "cell_type": "markdown",
   "id": "95440a2a",
   "metadata": {},
   "source": [
    "### Loading data"
   ]
  },
  {
   "cell_type": "code",
   "execution_count": 416,
   "id": "5a9511f7",
   "metadata": {},
   "outputs": [],
   "source": [
    "import pandas as pd\n",
    "import numpy as np\n",
    "import plotly.express as px\n",
    "import plotly.graph_objects as go\n",
    "import seaborn as sns\n",
    "import matplotlib.pyplot as plt\n",
    "# import geopandas as gpd\n",
    "import json\n",
    "\n",
    "# Consistent theme\n",
    "import plotly.io as pio\n",
    "pio.templates.default = \"plotly_white\""
   ]
  },
  {
   "cell_type": "code",
   "execution_count": 417,
   "id": "7d4d193e",
   "metadata": {},
   "outputs": [
    {
     "data": {
      "text/html": [
       "<div>\n",
       "<style scoped>\n",
       "    .dataframe tbody tr th:only-of-type {\n",
       "        vertical-align: middle;\n",
       "    }\n",
       "\n",
       "    .dataframe tbody tr th {\n",
       "        vertical-align: top;\n",
       "    }\n",
       "\n",
       "    .dataframe thead th {\n",
       "        text-align: right;\n",
       "    }\n",
       "</style>\n",
       "<table border=\"1\" class=\"dataframe\">\n",
       "  <thead>\n",
       "    <tr style=\"text-align: right;\">\n",
       "      <th></th>\n",
       "      <th>patientId</th>\n",
       "      <th>sampleId</th>\n",
       "      <th>studyId</th>\n",
       "      <th>ARRAY450K</th>\n",
       "      <th>CANCER_TYPE</th>\n",
       "      <th>CANCER_TYPE_DETAILED</th>\n",
       "      <th>CENTER</th>\n",
       "      <th>CLL_EPITYPE</th>\n",
       "      <th>DISEASE_TYPE</th>\n",
       "      <th>EC_DISCOVERY</th>\n",
       "      <th>...</th>\n",
       "      <th>FFS_STATUS</th>\n",
       "      <th>IGHV_IDENTITY_PERCENTAGE</th>\n",
       "      <th>IGHV_MUTATION_STATUS</th>\n",
       "      <th>OS_MONTHS</th>\n",
       "      <th>OS_STATUS</th>\n",
       "      <th>PRIOR_TREATMENT_CATEGORY</th>\n",
       "      <th>SAMPLE_COUNT</th>\n",
       "      <th>SEX</th>\n",
       "      <th>TREATMENT_AFTER_SAMPLING</th>\n",
       "      <th>TREATMENT_STATUS</th>\n",
       "    </tr>\n",
       "  </thead>\n",
       "  <tbody>\n",
       "    <tr>\n",
       "      <th>0</th>\n",
       "      <td>P-CRC-0001</td>\n",
       "      <td>CRC-0001</td>\n",
       "      <td>cll_broad_2022</td>\n",
       "      <td>No</td>\n",
       "      <td>Mature B-Cell Neoplasms</td>\n",
       "      <td>Chronic Lymphocytic Leukemia/Small Lymphocytic...</td>\n",
       "      <td>Broad</td>\n",
       "      <td>n-CLL</td>\n",
       "      <td>CLL</td>\n",
       "      <td>Yes</td>\n",
       "      <td>...</td>\n",
       "      <td>1:Failure</td>\n",
       "      <td>100.00</td>\n",
       "      <td>unmutated</td>\n",
       "      <td>147.19</td>\n",
       "      <td>1:DECEASED</td>\n",
       "      <td>Untreated</td>\n",
       "      <td>1</td>\n",
       "      <td>Female</td>\n",
       "      <td>Chemo + Ab</td>\n",
       "      <td>Pre-treatment</td>\n",
       "    </tr>\n",
       "    <tr>\n",
       "      <th>1</th>\n",
       "      <td>P-CRC-0002</td>\n",
       "      <td>CRC-0002</td>\n",
       "      <td>cll_broad_2022</td>\n",
       "      <td>No</td>\n",
       "      <td>Mature B-Cell Neoplasms</td>\n",
       "      <td>Chronic Lymphocytic Leukemia/Small Lymphocytic...</td>\n",
       "      <td>Broad</td>\n",
       "      <td>n-CLL</td>\n",
       "      <td>CLL</td>\n",
       "      <td>Yes</td>\n",
       "      <td>...</td>\n",
       "      <td>1:Failure</td>\n",
       "      <td>100.00</td>\n",
       "      <td>unmutated</td>\n",
       "      <td>154.49</td>\n",
       "      <td>1:DECEASED</td>\n",
       "      <td>Untreated</td>\n",
       "      <td>1</td>\n",
       "      <td>Male</td>\n",
       "      <td>Chemo + Ab</td>\n",
       "      <td>Pre-treatment</td>\n",
       "    </tr>\n",
       "    <tr>\n",
       "      <th>2</th>\n",
       "      <td>P-CRC-0003</td>\n",
       "      <td>CRC-0003</td>\n",
       "      <td>cll_broad_2022</td>\n",
       "      <td>No</td>\n",
       "      <td>Mature B-Cell Neoplasms</td>\n",
       "      <td>Chronic Lymphocytic Leukemia/Small Lymphocytic...</td>\n",
       "      <td>Broad</td>\n",
       "      <td>n-CLL</td>\n",
       "      <td>CLL</td>\n",
       "      <td>Yes</td>\n",
       "      <td>...</td>\n",
       "      <td>1:Failure</td>\n",
       "      <td>100.00</td>\n",
       "      <td>unmutated</td>\n",
       "      <td>51.25</td>\n",
       "      <td>1:DECEASED</td>\n",
       "      <td>Untreated</td>\n",
       "      <td>1</td>\n",
       "      <td>Female</td>\n",
       "      <td>Chemo + Ab</td>\n",
       "      <td>Pre-treatment</td>\n",
       "    </tr>\n",
       "    <tr>\n",
       "      <th>3</th>\n",
       "      <td>P-CRC-0004</td>\n",
       "      <td>CRC-0004</td>\n",
       "      <td>cll_broad_2022</td>\n",
       "      <td>No</td>\n",
       "      <td>Mature B-Cell Neoplasms</td>\n",
       "      <td>Chronic Lymphocytic Leukemia/Small Lymphocytic...</td>\n",
       "      <td>Broad</td>\n",
       "      <td>m-CLL</td>\n",
       "      <td>CLL</td>\n",
       "      <td>Yes</td>\n",
       "      <td>...</td>\n",
       "      <td>1:Failure</td>\n",
       "      <td>92.28</td>\n",
       "      <td>mutated</td>\n",
       "      <td>183.55</td>\n",
       "      <td>0:LIVING</td>\n",
       "      <td>Untreated</td>\n",
       "      <td>1</td>\n",
       "      <td>Male</td>\n",
       "      <td>Chemo + Ab</td>\n",
       "      <td>Pre-treatment</td>\n",
       "    </tr>\n",
       "    <tr>\n",
       "      <th>4</th>\n",
       "      <td>P-CRC-0005</td>\n",
       "      <td>CRC-0005</td>\n",
       "      <td>cll_broad_2022</td>\n",
       "      <td>No</td>\n",
       "      <td>Mature B-Cell Neoplasms</td>\n",
       "      <td>Chronic Lymphocytic Leukemia/Small Lymphocytic...</td>\n",
       "      <td>Broad</td>\n",
       "      <td>n-CLL</td>\n",
       "      <td>CLL</td>\n",
       "      <td>Yes</td>\n",
       "      <td>...</td>\n",
       "      <td>1:Failure</td>\n",
       "      <td>100.00</td>\n",
       "      <td>unmutated</td>\n",
       "      <td>164.35</td>\n",
       "      <td>0:LIVING</td>\n",
       "      <td>Untreated</td>\n",
       "      <td>1</td>\n",
       "      <td>Male</td>\n",
       "      <td>Chemo + Ab</td>\n",
       "      <td>Pre-treatment</td>\n",
       "    </tr>\n",
       "  </tbody>\n",
       "</table>\n",
       "<p>5 rows × 43 columns</p>\n",
       "</div>"
      ],
      "text/plain": [
       "    patientId  sampleId         studyId ARRAY450K              CANCER_TYPE  \\\n",
       "0  P-CRC-0001  CRC-0001  cll_broad_2022        No  Mature B-Cell Neoplasms   \n",
       "1  P-CRC-0002  CRC-0002  cll_broad_2022        No  Mature B-Cell Neoplasms   \n",
       "2  P-CRC-0003  CRC-0003  cll_broad_2022        No  Mature B-Cell Neoplasms   \n",
       "3  P-CRC-0004  CRC-0004  cll_broad_2022        No  Mature B-Cell Neoplasms   \n",
       "4  P-CRC-0005  CRC-0005  cll_broad_2022        No  Mature B-Cell Neoplasms   \n",
       "\n",
       "                                CANCER_TYPE_DETAILED CENTER CLL_EPITYPE  \\\n",
       "0  Chronic Lymphocytic Leukemia/Small Lymphocytic...  Broad       n-CLL   \n",
       "1  Chronic Lymphocytic Leukemia/Small Lymphocytic...  Broad       n-CLL   \n",
       "2  Chronic Lymphocytic Leukemia/Small Lymphocytic...  Broad       n-CLL   \n",
       "3  Chronic Lymphocytic Leukemia/Small Lymphocytic...  Broad       m-CLL   \n",
       "4  Chronic Lymphocytic Leukemia/Small Lymphocytic...  Broad       n-CLL   \n",
       "\n",
       "  DISEASE_TYPE EC_DISCOVERY  ... FFS_STATUS IGHV_IDENTITY_PERCENTAGE  \\\n",
       "0          CLL          Yes  ...  1:Failure                   100.00   \n",
       "1          CLL          Yes  ...  1:Failure                   100.00   \n",
       "2          CLL          Yes  ...  1:Failure                   100.00   \n",
       "3          CLL          Yes  ...  1:Failure                    92.28   \n",
       "4          CLL          Yes  ...  1:Failure                   100.00   \n",
       "\n",
       "  IGHV_MUTATION_STATUS  OS_MONTHS   OS_STATUS PRIOR_TREATMENT_CATEGORY  \\\n",
       "0            unmutated     147.19  1:DECEASED                Untreated   \n",
       "1            unmutated     154.49  1:DECEASED                Untreated   \n",
       "2            unmutated      51.25  1:DECEASED                Untreated   \n",
       "3              mutated     183.55    0:LIVING                Untreated   \n",
       "4            unmutated     164.35    0:LIVING                Untreated   \n",
       "\n",
       "  SAMPLE_COUNT     SEX TREATMENT_AFTER_SAMPLING TREATMENT_STATUS  \n",
       "0            1  Female               Chemo + Ab    Pre-treatment  \n",
       "1            1    Male               Chemo + Ab    Pre-treatment  \n",
       "2            1  Female               Chemo + Ab    Pre-treatment  \n",
       "3            1    Male               Chemo + Ab    Pre-treatment  \n",
       "4            1    Male               Chemo + Ab    Pre-treatment  \n",
       "\n",
       "[5 rows x 43 columns]"
      ]
     },
     "execution_count": 417,
     "metadata": {},
     "output_type": "execute_result"
    }
   ],
   "source": [
    "filename = \"../data/cbioportal/cll_broad_2022_clinical_data.csv\"\n",
    "\n",
    "df = pd.read_csv(filename)\n",
    "df.head()"
   ]
  },
  {
   "cell_type": "code",
   "execution_count": 418,
   "id": "8c1365cd",
   "metadata": {},
   "outputs": [
    {
     "name": "stdout",
     "output_type": "stream",
     "text": [
      "Index(['patientId', 'sampleId', 'studyId', 'ARRAY450K', 'CANCER_TYPE',\n",
      "       'CANCER_TYPE_DETAILED', 'CENTER', 'CLL_EPITYPE', 'DISEASE_TYPE',\n",
      "       'EC_DISCOVERY', 'EC_EXTENSION', 'IGLV3_21_R110', 'M-CLL_WES',\n",
      "       'MUTATION_COUNT', 'NORMAL_MEAN_COVERAGE', 'ONCOTREE_CODE',\n",
      "       'RNA_SEQUENCING', 'RRBS', 'SEQUENCING_PLATFORM', 'SOMATIC_STATUS',\n",
      "       'TMB_NONSYNONYMOUS', 'TUMOR_MEAN_COVERAGE', 'TUMOR_MOLECULAR_SUBTYPE',\n",
      "       'TUMOR_SAMPLE_PLOIDY', 'TUMOR_SAMPLE_PURITY', 'U-CLL_WES', 'U1_STATUS',\n",
      "       'AGE', 'AGE_SAMPLING', 'COHORT', 'DEATH_DAYS', 'EXPRESSION_CLUSTER',\n",
      "       'FFS_MONTHS', 'FFS_STATUS', 'IGHV_IDENTITY_PERCENTAGE',\n",
      "       'IGHV_MUTATION_STATUS', 'OS_MONTHS', 'OS_STATUS',\n",
      "       'PRIOR_TREATMENT_CATEGORY', 'SAMPLE_COUNT', 'SEX',\n",
      "       'TREATMENT_AFTER_SAMPLING', 'TREATMENT_STATUS'],\n",
      "      dtype='object')\n"
     ]
    }
   ],
   "source": [
    "print(df.columns)"
   ]
  },
  {
   "cell_type": "markdown",
   "id": "575c6d13",
   "metadata": {},
   "source": [
    "### Adding Data Origin and Source Information"
   ]
  },
  {
   "cell_type": "code",
   "execution_count": 419,
   "id": "67d11f40",
   "metadata": {},
   "outputs": [],
   "source": [
    "originIdLabels = {\n",
    "    1: {\n",
    "        \"org\": \"ICGC\",\n",
    "        \"paper_reference\": 2,\n",
    "        \"dataset_tag\": \"2015_1\",\n",
    "        \"count\": 506,\n",
    "        \"description\": \"CLL (n=452), MBL (n=54)\",\n",
    "        \"origin\": 'PUBLICATION',\n",
    "        \"year\": \"2015\",\n",
    "    },\n",
    "    2: {\n",
    "        \"org\": \"NHLBI\",\n",
    "        \"paper_reference\": 3,\n",
    "        \"count\": 22,\n",
    "        \"duplicates\": 1,\n",
    "        \"origin\": 'PUBLICATION',\n",
    "        \"year\": \"2019\",\n",
    "    },\n",
    "    3: {\n",
    "        \"org\": \"DFCI\",\n",
    "        \"paper_reference\": 11,\n",
    "        \"count\": 25,\n",
    "        \"origin\": 'PUBLICATION',\n",
    "        \"year\": \"2015\",\n",
    "    },\n",
    "    4: {\n",
    "        \"org\": \"UCSD\",\n",
    "        \"paper_reference\": 0,\n",
    "        \"count\": 31,\n",
    "        \"duplicates\": 5,\n",
    "        \"origin\": 'PUBLICATION',\n",
    "        \"year\": \"2022\",\n",
    "    },\n",
    "    5: {\n",
    "        \"org\": \"DFCI\",\n",
    "        \"paper_reference\": 1,\n",
    "        'dataset_tag': \"2015_2\",\n",
    "        \"count\": 154,\n",
    "        \"origin\": 'PUBLICATION',\n",
    "        \"description\": \"coming from 2013 publication - DFCI_Cell_2013\",\n",
    "        \"year\": \"2013\",\n",
    "    },\n",
    "    6: {\n",
    "        \"org\": \"GCLLSG\",\n",
    "        \"paper_reference\": [1, 62],\n",
    "        'dataset_tag': \"2015_2\",\n",
    "        \"count\": 309,\n",
    "        \"origin\": 'TRIAL',\n",
    "        \"description\": \"GCLLSG_CLL8 trial: comparison of fludarabine and cyclophosphamide (FC) to FC-rituximab (FCR) in previously untreated patients\",\n",
    "        \"nctId\": \"NCT00281918\",\n",
    "        \"year\": \"2013\",\n",
    "    },\n",
    "    7: {\n",
    "        \"org\": \"GCLLSG\",\n",
    "        \"paper_reference\": 63,\n",
    "        \"count\": 31,\n",
    "        \"origin\": 'TRIAL',\n",
    "        \"description\": \"GCLLSG_CLL2O trial: treatment-naive TP53-mutated patients within phase 2 CLL20 trial who all received alemtuzumab\",\n",
    "        \"year\": \"2014\",\n",
    "        \"nctId\": \"CLL2O\",\n",
    "    },\n",
    "    8: {\n",
    "        \"org\": \"NHLBI\",\n",
    "        \"paper_reference\": 10,\n",
    "        \"count\": 51,\n",
    "        \"origin\": 'TRIAL',\n",
    "        \"description\": \"phase 2 clinical trials of single-agent ibrutinib\",\n",
    "        \"nctId\": \"NCT01500733\",\n",
    "        \"year\": \"2014\",\n",
    "    },\n",
    "    9: {\n",
    "        \"org\": \"MDACC\",\n",
    "        \"paper_reference\": [10, 12],\n",
    "        \"count\": 25,\n",
    "        \"origin\": 'TRIAL',\n",
    "        \"description\": \"phase 2 clinical trials of ibrutinib with rituximab \",\n",
    "        \"nctId\": \"NCT01520519\",\n",
    "        \"year\": \"2019\",\n",
    "    }\n",
    "\n",
    "}"
   ]
  },
  {
   "cell_type": "code",
   "execution_count": 420,
   "id": "b4d600c9",
   "metadata": {},
   "outputs": [],
   "source": [
    "# add new column called originId and we will create a function to populate it\n",
    "def create_origin_id(row):\n",
    "    # if patientId starts with P-SCLL-0001, then originId = 1\n",
    "    if row[\"patientId\"].startswith(\"P-SCLL-\"):\n",
    "        return 1\n",
    "    # if patientId falls in between NHLBI-0056 to NHLBI-0096, inclusive, then originId = 2\n",
    "    elif row[\"patientId\"].startswith(\"P-NHLBI-\") and int(row[\"patientId\"][9:]) in range(56, 97):\n",
    "        return 2\n",
    "    # if patientId starts with P-JB-, then originId = 3\n",
    "    elif row[\"patientId\"].startswith(\"P-JB-\"):\n",
    "        return 3\n",
    "    # if patientId starts with P-CRC- then originId = 4\n",
    "    elif row[\"patientId\"].startswith(\"P-CRC-\"):\n",
    "        return 4\n",
    "    # if patientId starts with P-DFCI- then originId = 5\n",
    "    elif row[\"patientId\"].startswith(\"P-DFCI-\"):\n",
    "        return 5\n",
    "    # if patientId falls in between P-GCLL-0001 to P-GCLL-0314, inclusive, then originId = 6\n",
    "    elif row[\"patientId\"].startswith(\"P-GCLL-\") and int(row[\"patientId\"][8:]) in range(1, 315):\n",
    "        return 6\n",
    "    # if patientId falls in between P-GCLL-0315 to P-GCLL-0345, inclusive, then originId = 7\n",
    "    elif row[\"patientId\"].startswith(\"P-GCLL-\") and int(row[\"patientId\"][8:]) in range(315, 346):\n",
    "        return 7\n",
    "    # if patientId falls in between P-NHLBI-0001 to P-NHLBI-0053, inclusive, then originId = 8\n",
    "    elif row[\"patientId\"].startswith(\"P-NHLBI-\") and int(row[\"patientId\"][9:]) in range(1, 54):\n",
    "        return 8\n",
    "    # if patientId falls in between P-MDAC-0001 to P-MDAC-0026, inclusive, then originId = 9\n",
    "    elif row[\"patientId\"].startswith(\"P-MDAC-\") and int(row[\"patientId\"][8:]) in range(1, 27):\n",
    "        return 9\n",
    "    else:\n",
    "        return None \n",
    "        "
   ]
  },
  {
   "cell_type": "code",
   "execution_count": 421,
   "id": "25239a6c",
   "metadata": {},
   "outputs": [
    {
     "name": "stdout",
     "output_type": "stream",
     "text": [
      "All originId counts are as expected.\n"
     ]
    }
   ],
   "source": [
    "# apply the function to create the new column\n",
    "df[\"originId\"] = df.apply(create_origin_id, axis=1)\n",
    "\n",
    "# Confirm that value counts are as expected from the originIdLabels\n",
    "for originId, label in originIdLabels.items():\n",
    "    expected_count = label[\"count\"]\n",
    "    actual_count = df[\"originId\"].value_counts().get(originId, 0)\n",
    "    assert actual_count == expected_count, f\"Expected {expected_count} for originId {originId}, but got {actual_count}\"\n",
    "print(\"All originId counts are as expected.\")"
   ]
  },
  {
   "cell_type": "code",
   "execution_count": 422,
   "id": "8a7e0800",
   "metadata": {},
   "outputs": [
    {
     "data": {
      "text/plain": [
       "year\n",
       "2013    463\n",
       "2014     82\n",
       "2015    531\n",
       "2019     47\n",
       "2022     31\n",
       "Name: count, dtype: int64"
      ]
     },
     "metadata": {},
     "output_type": "display_data"
    },
    {
     "data": {
      "text/plain": [
       "originType\n",
       "PUBLICATION    738\n",
       "TRIAL          416\n",
       "Name: count, dtype: int64"
      ]
     },
     "metadata": {},
     "output_type": "display_data"
    },
    {
     "name": "stdout",
     "output_type": "stream",
     "text": [
      "Columns 'year' and 'originType' added successfully.\n"
     ]
    }
   ],
   "source": [
    "# add columns for year and originType and populate them\n",
    "df[\"year\"] = df[\"originId\"].apply(lambda x: originIdLabels[x][\"year\"] if x in originIdLabels else None)\n",
    "df[\"originType\"] = df[\"originId\"].apply(lambda x: originIdLabels[x][\"origin\"] if x in originIdLabels else None)\n",
    "\n",
    "\n",
    "display(df['year'].value_counts().sort_index())\n",
    "display(df['originType'].value_counts().sort_index())\n",
    "print(\"Columns 'year' and 'originType' added successfully.\")"
   ]
  },
  {
   "cell_type": "code",
   "execution_count": 423,
   "id": "1c0303a9",
   "metadata": {},
   "outputs": [
    {
     "name": "stdout",
     "output_type": "stream",
     "text": [
      "All org values match COHORT values where COHORT is not null.\n",
      "2 rows have null COHORT values before filling.\n",
      "0 rows have null COHORT values after filling.\n"
     ]
    }
   ],
   "source": [
    "df['org'] = df[\"originId\"].apply(lambda x: originIdLabels[x][\"org\"] if x in originIdLabels else None)\n",
    "\n",
    "for index, row in df.iterrows():\n",
    "    if pd.notnull(row['COHORT']):\n",
    "        assert row['org'] == row['COHORT'], f\"Mismatch at index {index}: org={row['org']}, COHORT={row['COHORT']}\"\n",
    "print(\"All org values match COHORT values where COHORT is not null.\")\n",
    "\n",
    "# if cohort is null, populate it with the org value\n",
    "print(df['COHORT'].isnull().sum(), \"rows have null COHORT values before filling.\")\n",
    "df['COHORT'] = df.apply(lambda row: row['org'] if pd.isnull(row['COHORT']) else row['COHORT'], axis=1)\n",
    "print(df['COHORT'].isnull().sum(), \"rows have null COHORT values after filling.\")\n",
    "\n",
    "# drop the org column\n",
    "df.drop(columns=['org'], inplace=True)"
   ]
  },
  {
   "cell_type": "code",
   "execution_count": 424,
   "id": "bf2b966f",
   "metadata": {},
   "outputs": [
    {
     "data": {
      "text/html": [
       "<div>\n",
       "<style scoped>\n",
       "    .dataframe tbody tr th:only-of-type {\n",
       "        vertical-align: middle;\n",
       "    }\n",
       "\n",
       "    .dataframe tbody tr th {\n",
       "        vertical-align: top;\n",
       "    }\n",
       "\n",
       "    .dataframe thead th {\n",
       "        text-align: right;\n",
       "    }\n",
       "</style>\n",
       "<table border=\"1\" class=\"dataframe\">\n",
       "  <thead>\n",
       "    <tr style=\"text-align: right;\">\n",
       "      <th></th>\n",
       "      <th>count</th>\n",
       "    </tr>\n",
       "    <tr>\n",
       "      <th>nctId</th>\n",
       "      <th></th>\n",
       "    </tr>\n",
       "  </thead>\n",
       "  <tbody>\n",
       "    <tr>\n",
       "      <th>CLL2O</th>\n",
       "      <td>31</td>\n",
       "    </tr>\n",
       "    <tr>\n",
       "      <th>NCT00281918</th>\n",
       "      <td>309</td>\n",
       "    </tr>\n",
       "    <tr>\n",
       "      <th>NCT01500733</th>\n",
       "      <td>51</td>\n",
       "    </tr>\n",
       "    <tr>\n",
       "      <th>NCT01520519</th>\n",
       "      <td>25</td>\n",
       "    </tr>\n",
       "  </tbody>\n",
       "</table>\n",
       "</div>"
      ],
      "text/plain": [
       "             count\n",
       "nctId             \n",
       "CLL2O           31\n",
       "NCT00281918    309\n",
       "NCT01500733     51\n",
       "NCT01520519     25"
      ]
     },
     "execution_count": 424,
     "metadata": {},
     "output_type": "execute_result"
    }
   ],
   "source": [
    "# for rows with trial, populate nctId\n",
    "def get_nct_id(row):\n",
    "    if row['originId'] in originIdLabels:\n",
    "        return originIdLabels[row['originId']].get('nctId', None)\n",
    "    return None\n",
    "\n",
    "df['nctId'] = df.apply(get_nct_id, axis=1)\n",
    "df['nctId'].value_counts().sort_index().to_frame().head(10)"
   ]
  },
  {
   "cell_type": "markdown",
   "id": "0c80d5dd",
   "metadata": {},
   "source": [
    "### Cleaning columns"
   ]
  },
  {
   "cell_type": "code",
   "execution_count": 425,
   "id": "046da24c",
   "metadata": {},
   "outputs": [],
   "source": [
    "column_definitions = {\n",
    "    \"patientId\": \"Unique patient identifier\",\n",
    "    \"sampleId\": \"Unique sample identifier\",\n",
    "    'AGE': \"Age at diagnosis in years\",\n",
    "    'AGE_SAMPLING': \"Age at sampling in years\",\n",
    "    \"SEX\": \"Male/Female\",\n",
    "    'COHORT': \"Cohort: ICGC, DFCI, GCLLSG, NHLBI, UCSD, MDACC\",\n",
    "    'DEATH_DAYS': \"Death (days) from the date of sampling\",\n",
    "    'FFS_MONTHS': \"Failure free survival (months)\",\n",
    "    'FFS_STATUS': \"Failure free status - 1:Failure, 0:FailureFree\",\n",
    "    \"OS_MONTHS\": \"Overall survival (months) from the date of the sequenced sample\",\n",
    "    \"OS_STATUS\": \"Overall survival status - 0:LIVING, 1:DECEASED\",\n",
    "    \"PRIOR_TREATMENT_CATEGORY\": \"Prior treatment category: CheUntreatedmo, Chemo + Ab, Chemo + no Ab, etc.\",\n",
    "    \"TREATMENT_STATUS\": \"Treatment status at sampling: Pre-treatment, Post-treatment\",\n",
    "    'TREATMENT_AFTER_SAMPLING': \"Treatment after sampling: Chemo + Ab, Chemo + no Ab, etc.\",\n",
    "\n",
    "    \"CLL_EPITYPE\": \"CLL epitype classification: n-CLL, m-CLL, i-CLL, unclassified\",\n",
    "    'DISEASE_TYPE': \"Disease type: CLL, MBL\",\n",
    "    'MUTATION_COUNT': \"Number of mutations in the sample\",\n",
    "    'U1_STATUS': \"U1 mutation status can be either wild-type (WT) or mutant (MUT), depending on whether a specific mutation, often the g.3A>C mutation, is present in the U1 spliceosomal RNA\",\n",
    "\n",
    "    # \"IGLV3_21_R110\"\n",
    "    # \"TMB_NONSYNONYMOUS\"\n",
    "    # \"TUMOR_MOLECULAR_SUBTYPE\"\n",
    "    # \"IGHV_MUTATION_STATUS\": \"IGHV mutational status (mutated / unmutated, cutoff set at 98% identity to reference)\"\n",
    "    # \"IGHV_IDENTITY_PERCENTAGE\": \"IGHV identity to reference\"\n",
    "    # \"EXPRESSION_CLUSTER\"\n",
    "    # \"SAMPLE_COUNT\" # 2 for 12 entries, rest is 1\n",
    "\n",
    "    \"SOMATIC_STATUS\": \" Identifying mutations (variants) within a tumor sample that are not present in a matched normal (or non-cancerous) sample from the same individual\",\n",
    "\n",
    "    # Within whole-exome sequencing (WES) or whole-genome sequencing (WGS) data, the following columns are defined:\n",
    "    # the below two are metrics to show how much depth the sequencing has been done and confidence in the data\n",
    "    'NORMAL_MEAN_COVERAGE': \"Mean read coverage of Normal sample\",\n",
    "    'TUMOR_MEAN_COVERAGE': \"Mean read coverage of Tumor sample\",\n",
    "    \"TUMOR_SAMPLE_PURITY\": \"Tumor sample purity (based on ABSOLUTE)\",\n",
    "    \"TUMOR_SAMPLE_PLOIDY\": \"Tumor sample ploidy (based on ABSOLUTE)\",\n",
    "\n",
    "    'SEQUENCING_PLATFORM': \"Sequencing platform used for the sample: WES, WGS or WES/WGS\",\n",
    "    \"ARRAY450K\": \"If included in the 450K array methylation analysis: Yes or No\",\n",
    "    'RNA_SEQUENCING': \"If included in RNA sequencing analysis: Yes or No\",\n",
    "    'RRBS': \"If included in reduced representation bisulfite sequencing (RRBS) analysis: Yes or No\",\n",
    "\n",
    "    \"EC_DISCOVERY\": \"If included in expression cluster discovery set: Yes or No\",\n",
    "    \"EC_EXTENSION\": \"If included in expression cluster extension set: Yes or No\",\n",
    "    'M-CLL_WES': \"If included in M-CLL WES genetic candidate driver discovery cohort: Yes or No\",\n",
    "    'U-CLL_WES': \"If included in U-CLL WES genetic candidate driver discovery cohort: Yes or No\",\n",
    "\n",
    "}\n"
   ]
  },
  {
   "cell_type": "code",
   "execution_count": 426,
   "id": "a8e31397",
   "metadata": {},
   "outputs": [
    {
     "name": "stdout",
     "output_type": "stream",
     "text": [
      "Index(['patientId', 'sampleId', 'CLL_EPITYPE', 'DISEASE_TYPE', 'IGLV3_21_R110',\n",
      "       'MUTATION_COUNT', 'TMB_NONSYNONYMOUS', 'TUMOR_MOLECULAR_SUBTYPE',\n",
      "       'U1_STATUS', 'AGE', 'AGE_SAMPLING', 'COHORT', 'DEATH_DAYS',\n",
      "       'EXPRESSION_CLUSTER', 'FFS_MONTHS', 'FFS_STATUS',\n",
      "       'IGHV_IDENTITY_PERCENTAGE', 'IGHV_MUTATION_STATUS', 'OS_MONTHS',\n",
      "       'OS_STATUS', 'PRIOR_TREATMENT_CATEGORY', 'SAMPLE_COUNT', 'SEX',\n",
      "       'TREATMENT_AFTER_SAMPLING', 'TREATMENT_STATUS', 'originId', 'year',\n",
      "       'originType', 'nctId'],\n",
      "      dtype='object')\n"
     ]
    }
   ],
   "source": [
    "cols_to_drop = [\n",
    "    'studyId', 'CANCER_TYPE', 'CANCER_TYPE_DETAILED', 'CENTER', 'ONCOTREE_CODE', \"SOMATIC_STATUS\",\n",
    "    'ARRAY450K', 'EC_DISCOVERY', 'EC_EXTENSION', 'M-CLL_WES', 'U-CLL_WES', 'RNA_SEQUENCING', 'RRBS',\n",
    "    'NORMAL_MEAN_COVERAGE', 'TUMOR_MEAN_COVERAGE', 'SEQUENCING_PLATFORM', \"TUMOR_SAMPLE_PURITY\", \"TUMOR_SAMPLE_PLOIDY\",\n",
    "]\n",
    "\n",
    "# drop the columns that are not needed\n",
    "df = df.drop(columns=cols_to_drop)\n",
    "print(df.columns)"
   ]
  },
  {
   "cell_type": "code",
   "execution_count": 427,
   "id": "4b99fd6e",
   "metadata": {},
   "outputs": [
    {
     "data": {
      "text/plain": [
       "CLL_EPITYPE\n",
       "n-CLL           391\n",
       "m-CLL           342\n",
       "unclassified    280\n",
       "i-CLL           141\n",
       "Name: count, dtype: int64"
      ]
     },
     "execution_count": 427,
     "metadata": {},
     "output_type": "execute_result"
    }
   ],
   "source": [
    "# if CLL_EPITYPE is Chemo + no Ab or 0, change it to 'unclassified'\n",
    "df['CLL_EPITYPE'] = df['CLL_EPITYPE'].replace({'Chemo + no Ab': 'unclassified', '0': 'unclassified'})\n",
    "df['CLL_EPITYPE'] = df['CLL_EPITYPE'].fillna('unclassified')\n",
    "df['CLL_EPITYPE'].value_counts()"
   ]
  },
  {
   "cell_type": "markdown",
   "id": "6094bdff",
   "metadata": {},
   "source": [
    "### Plotting"
   ]
  },
  {
   "cell_type": "code",
   "execution_count": 428,
   "id": "5f73ce54",
   "metadata": {},
   "outputs": [],
   "source": [
    "# cohort_country_map = {\n",
    "#     'ICGC': 'Spain',\n",
    "#     'NHLBI': 'USA',\n",
    "#     'DFCI': 'Massachusetts',\n",
    "#     'UCSD': 'California',\n",
    "#     'GCLLSG': 'Germany',\n",
    "#     'MDACC': 'Texas'\n",
    "# }\n",
    "\n",
    "# df['Country'] = df['COHORT'].map(cohort_country_map)\n",
    "# country_counts = df['Country'].value_counts().reset_index()\n",
    "# country_counts.columns = ['Country', 'Count']\n",
    "\n",
    "# fig = px.choropleth(country_counts, locations='Country', locationmode='state names',\n",
    "#                     color='Count', title='Geographic Distribution of Cohorts',\n",
    "#                     color_continuous_scale='Blues')\n",
    "# fig.show()"
   ]
  },
  {
   "cell_type": "code",
   "execution_count": 429,
   "id": "b59e3521",
   "metadata": {},
   "outputs": [
    {
     "data": {
      "application/vnd.plotly.v1+json": {
       "config": {
        "plotlyServerURL": "https://plot.ly"
       },
       "data": [
        {
         "link": {
          "source": [
           5,
           5,
           0,
           0,
           0,
           0,
           12,
           12,
           12,
           4,
           4,
           16,
           16,
           3,
           15,
           1,
           1,
           17
          ],
          "target": [
           0,
           12,
           4,
           3,
           1,
           17,
           16,
           15,
           1,
           7,
           13,
           6,
           8,
           9,
           10,
           2,
           11,
           14
          ],
          "value": [
           738,
           416,
           179,
           506,
           22,
           31,
           340,
           25,
           51,
           25,
           154,
           309,
           31,
           506,
           25,
           22,
           51,
           31
          ]
         },
         "node": {
          "label": [
           "PUBLICATION (738)",
           "NHLBI (73)",
           "originId_2 (22)",
           "ICGC (506)",
           "DFCI (179)",
           "All (3462)",
           "originId_6 (309)",
           "originId_3 (25)",
           "originId_7 (31)",
           "originId_1 (506)",
           "originId_9 (25)",
           "originId_8 (51)",
           "TRIAL (416)",
           "originId_5 (154)",
           "originId_4 (31)",
           "MDACC (25)",
           "GCLLSG (340)",
           "UCSD (31)"
          ]
         },
         "type": "sankey"
        }
       ],
       "layout": {
        "font": {
         "size": 10
        },
        "template": {
         "data": {
          "bar": [
           {
            "error_x": {
             "color": "#2a3f5f"
            },
            "error_y": {
             "color": "#2a3f5f"
            },
            "marker": {
             "line": {
              "color": "white",
              "width": 0.5
             },
             "pattern": {
              "fillmode": "overlay",
              "size": 10,
              "solidity": 0.2
             }
            },
            "type": "bar"
           }
          ],
          "barpolar": [
           {
            "marker": {
             "line": {
              "color": "white",
              "width": 0.5
             },
             "pattern": {
              "fillmode": "overlay",
              "size": 10,
              "solidity": 0.2
             }
            },
            "type": "barpolar"
           }
          ],
          "carpet": [
           {
            "aaxis": {
             "endlinecolor": "#2a3f5f",
             "gridcolor": "#C8D4E3",
             "linecolor": "#C8D4E3",
             "minorgridcolor": "#C8D4E3",
             "startlinecolor": "#2a3f5f"
            },
            "baxis": {
             "endlinecolor": "#2a3f5f",
             "gridcolor": "#C8D4E3",
             "linecolor": "#C8D4E3",
             "minorgridcolor": "#C8D4E3",
             "startlinecolor": "#2a3f5f"
            },
            "type": "carpet"
           }
          ],
          "choropleth": [
           {
            "colorbar": {
             "outlinewidth": 0,
             "ticks": ""
            },
            "type": "choropleth"
           }
          ],
          "contour": [
           {
            "colorbar": {
             "outlinewidth": 0,
             "ticks": ""
            },
            "colorscale": [
             [
              0,
              "#0d0887"
             ],
             [
              0.1111111111111111,
              "#46039f"
             ],
             [
              0.2222222222222222,
              "#7201a8"
             ],
             [
              0.3333333333333333,
              "#9c179e"
             ],
             [
              0.4444444444444444,
              "#bd3786"
             ],
             [
              0.5555555555555556,
              "#d8576b"
             ],
             [
              0.6666666666666666,
              "#ed7953"
             ],
             [
              0.7777777777777778,
              "#fb9f3a"
             ],
             [
              0.8888888888888888,
              "#fdca26"
             ],
             [
              1,
              "#f0f921"
             ]
            ],
            "type": "contour"
           }
          ],
          "contourcarpet": [
           {
            "colorbar": {
             "outlinewidth": 0,
             "ticks": ""
            },
            "type": "contourcarpet"
           }
          ],
          "heatmap": [
           {
            "colorbar": {
             "outlinewidth": 0,
             "ticks": ""
            },
            "colorscale": [
             [
              0,
              "#0d0887"
             ],
             [
              0.1111111111111111,
              "#46039f"
             ],
             [
              0.2222222222222222,
              "#7201a8"
             ],
             [
              0.3333333333333333,
              "#9c179e"
             ],
             [
              0.4444444444444444,
              "#bd3786"
             ],
             [
              0.5555555555555556,
              "#d8576b"
             ],
             [
              0.6666666666666666,
              "#ed7953"
             ],
             [
              0.7777777777777778,
              "#fb9f3a"
             ],
             [
              0.8888888888888888,
              "#fdca26"
             ],
             [
              1,
              "#f0f921"
             ]
            ],
            "type": "heatmap"
           }
          ],
          "histogram": [
           {
            "marker": {
             "pattern": {
              "fillmode": "overlay",
              "size": 10,
              "solidity": 0.2
             }
            },
            "type": "histogram"
           }
          ],
          "histogram2d": [
           {
            "colorbar": {
             "outlinewidth": 0,
             "ticks": ""
            },
            "colorscale": [
             [
              0,
              "#0d0887"
             ],
             [
              0.1111111111111111,
              "#46039f"
             ],
             [
              0.2222222222222222,
              "#7201a8"
             ],
             [
              0.3333333333333333,
              "#9c179e"
             ],
             [
              0.4444444444444444,
              "#bd3786"
             ],
             [
              0.5555555555555556,
              "#d8576b"
             ],
             [
              0.6666666666666666,
              "#ed7953"
             ],
             [
              0.7777777777777778,
              "#fb9f3a"
             ],
             [
              0.8888888888888888,
              "#fdca26"
             ],
             [
              1,
              "#f0f921"
             ]
            ],
            "type": "histogram2d"
           }
          ],
          "histogram2dcontour": [
           {
            "colorbar": {
             "outlinewidth": 0,
             "ticks": ""
            },
            "colorscale": [
             [
              0,
              "#0d0887"
             ],
             [
              0.1111111111111111,
              "#46039f"
             ],
             [
              0.2222222222222222,
              "#7201a8"
             ],
             [
              0.3333333333333333,
              "#9c179e"
             ],
             [
              0.4444444444444444,
              "#bd3786"
             ],
             [
              0.5555555555555556,
              "#d8576b"
             ],
             [
              0.6666666666666666,
              "#ed7953"
             ],
             [
              0.7777777777777778,
              "#fb9f3a"
             ],
             [
              0.8888888888888888,
              "#fdca26"
             ],
             [
              1,
              "#f0f921"
             ]
            ],
            "type": "histogram2dcontour"
           }
          ],
          "mesh3d": [
           {
            "colorbar": {
             "outlinewidth": 0,
             "ticks": ""
            },
            "type": "mesh3d"
           }
          ],
          "parcoords": [
           {
            "line": {
             "colorbar": {
              "outlinewidth": 0,
              "ticks": ""
             }
            },
            "type": "parcoords"
           }
          ],
          "pie": [
           {
            "automargin": true,
            "type": "pie"
           }
          ],
          "scatter": [
           {
            "fillpattern": {
             "fillmode": "overlay",
             "size": 10,
             "solidity": 0.2
            },
            "type": "scatter"
           }
          ],
          "scatter3d": [
           {
            "line": {
             "colorbar": {
              "outlinewidth": 0,
              "ticks": ""
             }
            },
            "marker": {
             "colorbar": {
              "outlinewidth": 0,
              "ticks": ""
             }
            },
            "type": "scatter3d"
           }
          ],
          "scattercarpet": [
           {
            "marker": {
             "colorbar": {
              "outlinewidth": 0,
              "ticks": ""
             }
            },
            "type": "scattercarpet"
           }
          ],
          "scattergeo": [
           {
            "marker": {
             "colorbar": {
              "outlinewidth": 0,
              "ticks": ""
             }
            },
            "type": "scattergeo"
           }
          ],
          "scattergl": [
           {
            "marker": {
             "colorbar": {
              "outlinewidth": 0,
              "ticks": ""
             }
            },
            "type": "scattergl"
           }
          ],
          "scattermap": [
           {
            "marker": {
             "colorbar": {
              "outlinewidth": 0,
              "ticks": ""
             }
            },
            "type": "scattermap"
           }
          ],
          "scattermapbox": [
           {
            "marker": {
             "colorbar": {
              "outlinewidth": 0,
              "ticks": ""
             }
            },
            "type": "scattermapbox"
           }
          ],
          "scatterpolar": [
           {
            "marker": {
             "colorbar": {
              "outlinewidth": 0,
              "ticks": ""
             }
            },
            "type": "scatterpolar"
           }
          ],
          "scatterpolargl": [
           {
            "marker": {
             "colorbar": {
              "outlinewidth": 0,
              "ticks": ""
             }
            },
            "type": "scatterpolargl"
           }
          ],
          "scatterternary": [
           {
            "marker": {
             "colorbar": {
              "outlinewidth": 0,
              "ticks": ""
             }
            },
            "type": "scatterternary"
           }
          ],
          "surface": [
           {
            "colorbar": {
             "outlinewidth": 0,
             "ticks": ""
            },
            "colorscale": [
             [
              0,
              "#0d0887"
             ],
             [
              0.1111111111111111,
              "#46039f"
             ],
             [
              0.2222222222222222,
              "#7201a8"
             ],
             [
              0.3333333333333333,
              "#9c179e"
             ],
             [
              0.4444444444444444,
              "#bd3786"
             ],
             [
              0.5555555555555556,
              "#d8576b"
             ],
             [
              0.6666666666666666,
              "#ed7953"
             ],
             [
              0.7777777777777778,
              "#fb9f3a"
             ],
             [
              0.8888888888888888,
              "#fdca26"
             ],
             [
              1,
              "#f0f921"
             ]
            ],
            "type": "surface"
           }
          ],
          "table": [
           {
            "cells": {
             "fill": {
              "color": "#EBF0F8"
             },
             "line": {
              "color": "white"
             }
            },
            "header": {
             "fill": {
              "color": "#C8D4E3"
             },
             "line": {
              "color": "white"
             }
            },
            "type": "table"
           }
          ]
         },
         "layout": {
          "annotationdefaults": {
           "arrowcolor": "#2a3f5f",
           "arrowhead": 0,
           "arrowwidth": 1
          },
          "autotypenumbers": "strict",
          "coloraxis": {
           "colorbar": {
            "outlinewidth": 0,
            "ticks": ""
           }
          },
          "colorscale": {
           "diverging": [
            [
             0,
             "#8e0152"
            ],
            [
             0.1,
             "#c51b7d"
            ],
            [
             0.2,
             "#de77ae"
            ],
            [
             0.3,
             "#f1b6da"
            ],
            [
             0.4,
             "#fde0ef"
            ],
            [
             0.5,
             "#f7f7f7"
            ],
            [
             0.6,
             "#e6f5d0"
            ],
            [
             0.7,
             "#b8e186"
            ],
            [
             0.8,
             "#7fbc41"
            ],
            [
             0.9,
             "#4d9221"
            ],
            [
             1,
             "#276419"
            ]
           ],
           "sequential": [
            [
             0,
             "#0d0887"
            ],
            [
             0.1111111111111111,
             "#46039f"
            ],
            [
             0.2222222222222222,
             "#7201a8"
            ],
            [
             0.3333333333333333,
             "#9c179e"
            ],
            [
             0.4444444444444444,
             "#bd3786"
            ],
            [
             0.5555555555555556,
             "#d8576b"
            ],
            [
             0.6666666666666666,
             "#ed7953"
            ],
            [
             0.7777777777777778,
             "#fb9f3a"
            ],
            [
             0.8888888888888888,
             "#fdca26"
            ],
            [
             1,
             "#f0f921"
            ]
           ],
           "sequentialminus": [
            [
             0,
             "#0d0887"
            ],
            [
             0.1111111111111111,
             "#46039f"
            ],
            [
             0.2222222222222222,
             "#7201a8"
            ],
            [
             0.3333333333333333,
             "#9c179e"
            ],
            [
             0.4444444444444444,
             "#bd3786"
            ],
            [
             0.5555555555555556,
             "#d8576b"
            ],
            [
             0.6666666666666666,
             "#ed7953"
            ],
            [
             0.7777777777777778,
             "#fb9f3a"
            ],
            [
             0.8888888888888888,
             "#fdca26"
            ],
            [
             1,
             "#f0f921"
            ]
           ]
          },
          "colorway": [
           "#636efa",
           "#EF553B",
           "#00cc96",
           "#ab63fa",
           "#FFA15A",
           "#19d3f3",
           "#FF6692",
           "#B6E880",
           "#FF97FF",
           "#FECB52"
          ],
          "font": {
           "color": "#2a3f5f"
          },
          "geo": {
           "bgcolor": "white",
           "lakecolor": "white",
           "landcolor": "white",
           "showlakes": true,
           "showland": true,
           "subunitcolor": "#C8D4E3"
          },
          "hoverlabel": {
           "align": "left"
          },
          "hovermode": "closest",
          "mapbox": {
           "style": "light"
          },
          "paper_bgcolor": "white",
          "plot_bgcolor": "white",
          "polar": {
           "angularaxis": {
            "gridcolor": "#EBF0F8",
            "linecolor": "#EBF0F8",
            "ticks": ""
           },
           "bgcolor": "white",
           "radialaxis": {
            "gridcolor": "#EBF0F8",
            "linecolor": "#EBF0F8",
            "ticks": ""
           }
          },
          "scene": {
           "xaxis": {
            "backgroundcolor": "white",
            "gridcolor": "#DFE8F3",
            "gridwidth": 2,
            "linecolor": "#EBF0F8",
            "showbackground": true,
            "ticks": "",
            "zerolinecolor": "#EBF0F8"
           },
           "yaxis": {
            "backgroundcolor": "white",
            "gridcolor": "#DFE8F3",
            "gridwidth": 2,
            "linecolor": "#EBF0F8",
            "showbackground": true,
            "ticks": "",
            "zerolinecolor": "#EBF0F8"
           },
           "zaxis": {
            "backgroundcolor": "white",
            "gridcolor": "#DFE8F3",
            "gridwidth": 2,
            "linecolor": "#EBF0F8",
            "showbackground": true,
            "ticks": "",
            "zerolinecolor": "#EBF0F8"
           }
          },
          "shapedefaults": {
           "line": {
            "color": "#2a3f5f"
           }
          },
          "ternary": {
           "aaxis": {
            "gridcolor": "#DFE8F3",
            "linecolor": "#A2B1C6",
            "ticks": ""
           },
           "baxis": {
            "gridcolor": "#DFE8F3",
            "linecolor": "#A2B1C6",
            "ticks": ""
           },
           "bgcolor": "white",
           "caxis": {
            "gridcolor": "#DFE8F3",
            "linecolor": "#A2B1C6",
            "ticks": ""
           }
          },
          "title": {
           "x": 0.05
          },
          "xaxis": {
           "automargin": true,
           "gridcolor": "#EBF0F8",
           "linecolor": "#EBF0F8",
           "ticks": "",
           "title": {
            "standoff": 15
           },
           "zerolinecolor": "#EBF0F8",
           "zerolinewidth": 2
          },
          "yaxis": {
           "automargin": true,
           "gridcolor": "#EBF0F8",
           "linecolor": "#EBF0F8",
           "ticks": "",
           "title": {
            "standoff": 15
           },
           "zerolinecolor": "#EBF0F8",
           "zerolinewidth": 2
          }
         }
        },
        "title": {
         "text": "Dataset Source Flow"
        }
       }
      }
     },
     "metadata": {},
     "output_type": "display_data"
    }
   ],
   "source": [
    "from plotly.graph_objects import Sankey\n",
    "\n",
    "sources = []\n",
    "targets = []\n",
    "values = []\n",
    "\n",
    "# Start from all to originType\n",
    "grouped = df.groupby('originType').size().reset_index(name='count')\n",
    "for i, row in grouped.iterrows():\n",
    "    sources.append('All')\n",
    "    targets.append(row['originType'])\n",
    "    values.append(row['count'])\n",
    "\n",
    "\n",
    "# Trial/Publication → Cohort\n",
    "grouped1 = df.groupby(['originType', 'COHORT']).size().reset_index(name='count')\n",
    "for i, row in grouped1.iterrows():\n",
    "    sources.append(row['originType'])\n",
    "    targets.append(row['COHORT'])\n",
    "    values.append(row['count'])\n",
    "\n",
    "# Cohort → originId\n",
    "grouped2 = df.groupby(['COHORT', 'originId']).size().reset_index(name='count')\n",
    "for i, row in grouped2.iterrows():\n",
    "    sources.append(row['COHORT'])\n",
    "    targets.append(f\"originId_{row['originId']}\")\n",
    "    values.append(row['count'])\n",
    "\n",
    "# Map labels to indices\n",
    "labels = list(set(sources + targets))\n",
    "label_indices = {label: i for i, label in enumerate(labels)}\n",
    "\n",
    "# add count annotations to all the labels (based on their counts)\n",
    "for i, label in enumerate(labels):\n",
    "    if label.startswith('originId_'):\n",
    "        origin_id = int(label.split('_')[1])\n",
    "        if origin_id in originIdLabels:\n",
    "            count = originIdLabels[origin_id]['count']\n",
    "            labels[i] += f\" ({count})\"\n",
    "    elif label in ['TRIAL', 'PUBLICATION']:\n",
    "        count = df[df['originType'] == label].shape[0]\n",
    "        labels[i] += f\" ({count})\"\n",
    "    elif label in ['ICGC', 'NHLBI', 'DFCI', 'UCSD', 'GCLLSG', 'MDACC']:\n",
    "        count = df[df['COHORT'] == label].shape[0]\n",
    "        labels[i] += f\" ({count})\"\n",
    "    elif label == 'All':\n",
    "        labels[i] += f\" ({sum(values)})\"\n",
    "\n",
    "fig = go.Figure(data=[go.Sankey(\n",
    "    node=dict(label=labels),\n",
    "    link=dict(\n",
    "        source=[label_indices[s] for s in sources],\n",
    "        target=[label_indices[t] for t in targets],\n",
    "        value=values\n",
    "    ))])\n",
    "\n",
    "fig.update_layout(title_text=\"Dataset Source Flow\", font_size=10)\n",
    "fig.show()\n"
   ]
  },
  {
   "cell_type": "code",
   "execution_count": 430,
   "id": "6cbe4ed7",
   "metadata": {},
   "outputs": [
    {
     "data": {
      "application/vnd.plotly.v1+json": {
       "config": {
        "plotlyServerURL": "https://plot.ly"
       },
       "data": [
        {
         "hovertemplate": "Year=%{x}<br>Patient_Count=%{y}<extra></extra>",
         "legendgroup": "",
         "marker": {
          "color": "#636efa",
          "pattern": {
           "shape": ""
          }
         },
         "name": "",
         "orientation": "v",
         "showlegend": false,
         "textposition": "auto",
         "type": "bar",
         "x": [
          "2013",
          "2014",
          "2015",
          "2019",
          "2022"
         ],
         "xaxis": "x",
         "y": {
          "bdata": "zwFSABMCLwAfAA==",
          "dtype": "i2"
         },
         "yaxis": "y"
        }
       ],
       "layout": {
        "barmode": "relative",
        "legend": {
         "tracegroupgap": 0
        },
        "template": {
         "data": {
          "bar": [
           {
            "error_x": {
             "color": "#2a3f5f"
            },
            "error_y": {
             "color": "#2a3f5f"
            },
            "marker": {
             "line": {
              "color": "white",
              "width": 0.5
             },
             "pattern": {
              "fillmode": "overlay",
              "size": 10,
              "solidity": 0.2
             }
            },
            "type": "bar"
           }
          ],
          "barpolar": [
           {
            "marker": {
             "line": {
              "color": "white",
              "width": 0.5
             },
             "pattern": {
              "fillmode": "overlay",
              "size": 10,
              "solidity": 0.2
             }
            },
            "type": "barpolar"
           }
          ],
          "carpet": [
           {
            "aaxis": {
             "endlinecolor": "#2a3f5f",
             "gridcolor": "#C8D4E3",
             "linecolor": "#C8D4E3",
             "minorgridcolor": "#C8D4E3",
             "startlinecolor": "#2a3f5f"
            },
            "baxis": {
             "endlinecolor": "#2a3f5f",
             "gridcolor": "#C8D4E3",
             "linecolor": "#C8D4E3",
             "minorgridcolor": "#C8D4E3",
             "startlinecolor": "#2a3f5f"
            },
            "type": "carpet"
           }
          ],
          "choropleth": [
           {
            "colorbar": {
             "outlinewidth": 0,
             "ticks": ""
            },
            "type": "choropleth"
           }
          ],
          "contour": [
           {
            "colorbar": {
             "outlinewidth": 0,
             "ticks": ""
            },
            "colorscale": [
             [
              0,
              "#0d0887"
             ],
             [
              0.1111111111111111,
              "#46039f"
             ],
             [
              0.2222222222222222,
              "#7201a8"
             ],
             [
              0.3333333333333333,
              "#9c179e"
             ],
             [
              0.4444444444444444,
              "#bd3786"
             ],
             [
              0.5555555555555556,
              "#d8576b"
             ],
             [
              0.6666666666666666,
              "#ed7953"
             ],
             [
              0.7777777777777778,
              "#fb9f3a"
             ],
             [
              0.8888888888888888,
              "#fdca26"
             ],
             [
              1,
              "#f0f921"
             ]
            ],
            "type": "contour"
           }
          ],
          "contourcarpet": [
           {
            "colorbar": {
             "outlinewidth": 0,
             "ticks": ""
            },
            "type": "contourcarpet"
           }
          ],
          "heatmap": [
           {
            "colorbar": {
             "outlinewidth": 0,
             "ticks": ""
            },
            "colorscale": [
             [
              0,
              "#0d0887"
             ],
             [
              0.1111111111111111,
              "#46039f"
             ],
             [
              0.2222222222222222,
              "#7201a8"
             ],
             [
              0.3333333333333333,
              "#9c179e"
             ],
             [
              0.4444444444444444,
              "#bd3786"
             ],
             [
              0.5555555555555556,
              "#d8576b"
             ],
             [
              0.6666666666666666,
              "#ed7953"
             ],
             [
              0.7777777777777778,
              "#fb9f3a"
             ],
             [
              0.8888888888888888,
              "#fdca26"
             ],
             [
              1,
              "#f0f921"
             ]
            ],
            "type": "heatmap"
           }
          ],
          "histogram": [
           {
            "marker": {
             "pattern": {
              "fillmode": "overlay",
              "size": 10,
              "solidity": 0.2
             }
            },
            "type": "histogram"
           }
          ],
          "histogram2d": [
           {
            "colorbar": {
             "outlinewidth": 0,
             "ticks": ""
            },
            "colorscale": [
             [
              0,
              "#0d0887"
             ],
             [
              0.1111111111111111,
              "#46039f"
             ],
             [
              0.2222222222222222,
              "#7201a8"
             ],
             [
              0.3333333333333333,
              "#9c179e"
             ],
             [
              0.4444444444444444,
              "#bd3786"
             ],
             [
              0.5555555555555556,
              "#d8576b"
             ],
             [
              0.6666666666666666,
              "#ed7953"
             ],
             [
              0.7777777777777778,
              "#fb9f3a"
             ],
             [
              0.8888888888888888,
              "#fdca26"
             ],
             [
              1,
              "#f0f921"
             ]
            ],
            "type": "histogram2d"
           }
          ],
          "histogram2dcontour": [
           {
            "colorbar": {
             "outlinewidth": 0,
             "ticks": ""
            },
            "colorscale": [
             [
              0,
              "#0d0887"
             ],
             [
              0.1111111111111111,
              "#46039f"
             ],
             [
              0.2222222222222222,
              "#7201a8"
             ],
             [
              0.3333333333333333,
              "#9c179e"
             ],
             [
              0.4444444444444444,
              "#bd3786"
             ],
             [
              0.5555555555555556,
              "#d8576b"
             ],
             [
              0.6666666666666666,
              "#ed7953"
             ],
             [
              0.7777777777777778,
              "#fb9f3a"
             ],
             [
              0.8888888888888888,
              "#fdca26"
             ],
             [
              1,
              "#f0f921"
             ]
            ],
            "type": "histogram2dcontour"
           }
          ],
          "mesh3d": [
           {
            "colorbar": {
             "outlinewidth": 0,
             "ticks": ""
            },
            "type": "mesh3d"
           }
          ],
          "parcoords": [
           {
            "line": {
             "colorbar": {
              "outlinewidth": 0,
              "ticks": ""
             }
            },
            "type": "parcoords"
           }
          ],
          "pie": [
           {
            "automargin": true,
            "type": "pie"
           }
          ],
          "scatter": [
           {
            "fillpattern": {
             "fillmode": "overlay",
             "size": 10,
             "solidity": 0.2
            },
            "type": "scatter"
           }
          ],
          "scatter3d": [
           {
            "line": {
             "colorbar": {
              "outlinewidth": 0,
              "ticks": ""
             }
            },
            "marker": {
             "colorbar": {
              "outlinewidth": 0,
              "ticks": ""
             }
            },
            "type": "scatter3d"
           }
          ],
          "scattercarpet": [
           {
            "marker": {
             "colorbar": {
              "outlinewidth": 0,
              "ticks": ""
             }
            },
            "type": "scattercarpet"
           }
          ],
          "scattergeo": [
           {
            "marker": {
             "colorbar": {
              "outlinewidth": 0,
              "ticks": ""
             }
            },
            "type": "scattergeo"
           }
          ],
          "scattergl": [
           {
            "marker": {
             "colorbar": {
              "outlinewidth": 0,
              "ticks": ""
             }
            },
            "type": "scattergl"
           }
          ],
          "scattermap": [
           {
            "marker": {
             "colorbar": {
              "outlinewidth": 0,
              "ticks": ""
             }
            },
            "type": "scattermap"
           }
          ],
          "scattermapbox": [
           {
            "marker": {
             "colorbar": {
              "outlinewidth": 0,
              "ticks": ""
             }
            },
            "type": "scattermapbox"
           }
          ],
          "scatterpolar": [
           {
            "marker": {
             "colorbar": {
              "outlinewidth": 0,
              "ticks": ""
             }
            },
            "type": "scatterpolar"
           }
          ],
          "scatterpolargl": [
           {
            "marker": {
             "colorbar": {
              "outlinewidth": 0,
              "ticks": ""
             }
            },
            "type": "scatterpolargl"
           }
          ],
          "scatterternary": [
           {
            "marker": {
             "colorbar": {
              "outlinewidth": 0,
              "ticks": ""
             }
            },
            "type": "scatterternary"
           }
          ],
          "surface": [
           {
            "colorbar": {
             "outlinewidth": 0,
             "ticks": ""
            },
            "colorscale": [
             [
              0,
              "#0d0887"
             ],
             [
              0.1111111111111111,
              "#46039f"
             ],
             [
              0.2222222222222222,
              "#7201a8"
             ],
             [
              0.3333333333333333,
              "#9c179e"
             ],
             [
              0.4444444444444444,
              "#bd3786"
             ],
             [
              0.5555555555555556,
              "#d8576b"
             ],
             [
              0.6666666666666666,
              "#ed7953"
             ],
             [
              0.7777777777777778,
              "#fb9f3a"
             ],
             [
              0.8888888888888888,
              "#fdca26"
             ],
             [
              1,
              "#f0f921"
             ]
            ],
            "type": "surface"
           }
          ],
          "table": [
           {
            "cells": {
             "fill": {
              "color": "#EBF0F8"
             },
             "line": {
              "color": "white"
             }
            },
            "header": {
             "fill": {
              "color": "#C8D4E3"
             },
             "line": {
              "color": "white"
             }
            },
            "type": "table"
           }
          ]
         },
         "layout": {
          "annotationdefaults": {
           "arrowcolor": "#2a3f5f",
           "arrowhead": 0,
           "arrowwidth": 1
          },
          "autotypenumbers": "strict",
          "coloraxis": {
           "colorbar": {
            "outlinewidth": 0,
            "ticks": ""
           }
          },
          "colorscale": {
           "diverging": [
            [
             0,
             "#8e0152"
            ],
            [
             0.1,
             "#c51b7d"
            ],
            [
             0.2,
             "#de77ae"
            ],
            [
             0.3,
             "#f1b6da"
            ],
            [
             0.4,
             "#fde0ef"
            ],
            [
             0.5,
             "#f7f7f7"
            ],
            [
             0.6,
             "#e6f5d0"
            ],
            [
             0.7,
             "#b8e186"
            ],
            [
             0.8,
             "#7fbc41"
            ],
            [
             0.9,
             "#4d9221"
            ],
            [
             1,
             "#276419"
            ]
           ],
           "sequential": [
            [
             0,
             "#0d0887"
            ],
            [
             0.1111111111111111,
             "#46039f"
            ],
            [
             0.2222222222222222,
             "#7201a8"
            ],
            [
             0.3333333333333333,
             "#9c179e"
            ],
            [
             0.4444444444444444,
             "#bd3786"
            ],
            [
             0.5555555555555556,
             "#d8576b"
            ],
            [
             0.6666666666666666,
             "#ed7953"
            ],
            [
             0.7777777777777778,
             "#fb9f3a"
            ],
            [
             0.8888888888888888,
             "#fdca26"
            ],
            [
             1,
             "#f0f921"
            ]
           ],
           "sequentialminus": [
            [
             0,
             "#0d0887"
            ],
            [
             0.1111111111111111,
             "#46039f"
            ],
            [
             0.2222222222222222,
             "#7201a8"
            ],
            [
             0.3333333333333333,
             "#9c179e"
            ],
            [
             0.4444444444444444,
             "#bd3786"
            ],
            [
             0.5555555555555556,
             "#d8576b"
            ],
            [
             0.6666666666666666,
             "#ed7953"
            ],
            [
             0.7777777777777778,
             "#fb9f3a"
            ],
            [
             0.8888888888888888,
             "#fdca26"
            ],
            [
             1,
             "#f0f921"
            ]
           ]
          },
          "colorway": [
           "#636efa",
           "#EF553B",
           "#00cc96",
           "#ab63fa",
           "#FFA15A",
           "#19d3f3",
           "#FF6692",
           "#B6E880",
           "#FF97FF",
           "#FECB52"
          ],
          "font": {
           "color": "#2a3f5f"
          },
          "geo": {
           "bgcolor": "white",
           "lakecolor": "white",
           "landcolor": "white",
           "showlakes": true,
           "showland": true,
           "subunitcolor": "#C8D4E3"
          },
          "hoverlabel": {
           "align": "left"
          },
          "hovermode": "closest",
          "mapbox": {
           "style": "light"
          },
          "paper_bgcolor": "white",
          "plot_bgcolor": "white",
          "polar": {
           "angularaxis": {
            "gridcolor": "#EBF0F8",
            "linecolor": "#EBF0F8",
            "ticks": ""
           },
           "bgcolor": "white",
           "radialaxis": {
            "gridcolor": "#EBF0F8",
            "linecolor": "#EBF0F8",
            "ticks": ""
           }
          },
          "scene": {
           "xaxis": {
            "backgroundcolor": "white",
            "gridcolor": "#DFE8F3",
            "gridwidth": 2,
            "linecolor": "#EBF0F8",
            "showbackground": true,
            "ticks": "",
            "zerolinecolor": "#EBF0F8"
           },
           "yaxis": {
            "backgroundcolor": "white",
            "gridcolor": "#DFE8F3",
            "gridwidth": 2,
            "linecolor": "#EBF0F8",
            "showbackground": true,
            "ticks": "",
            "zerolinecolor": "#EBF0F8"
           },
           "zaxis": {
            "backgroundcolor": "white",
            "gridcolor": "#DFE8F3",
            "gridwidth": 2,
            "linecolor": "#EBF0F8",
            "showbackground": true,
            "ticks": "",
            "zerolinecolor": "#EBF0F8"
           }
          },
          "shapedefaults": {
           "line": {
            "color": "#2a3f5f"
           }
          },
          "ternary": {
           "aaxis": {
            "gridcolor": "#DFE8F3",
            "linecolor": "#A2B1C6",
            "ticks": ""
           },
           "baxis": {
            "gridcolor": "#DFE8F3",
            "linecolor": "#A2B1C6",
            "ticks": ""
           },
           "bgcolor": "white",
           "caxis": {
            "gridcolor": "#DFE8F3",
            "linecolor": "#A2B1C6",
            "ticks": ""
           }
          },
          "title": {
           "x": 0.05
          },
          "xaxis": {
           "automargin": true,
           "gridcolor": "#EBF0F8",
           "linecolor": "#EBF0F8",
           "ticks": "",
           "title": {
            "standoff": 15
           },
           "zerolinecolor": "#EBF0F8",
           "zerolinewidth": 2
          },
          "yaxis": {
           "automargin": true,
           "gridcolor": "#EBF0F8",
           "linecolor": "#EBF0F8",
           "ticks": "",
           "title": {
            "standoff": 15
           },
           "zerolinecolor": "#EBF0F8",
           "zerolinewidth": 2
          }
         }
        },
        "title": {
         "text": "Number of Patients Added Over Time"
        },
        "xaxis": {
         "anchor": "y",
         "domain": [
          0,
          1
         ],
         "title": {
          "text": "Year"
         }
        },
        "yaxis": {
         "anchor": "x",
         "domain": [
          0,
          1
         ],
         "title": {
          "text": "Patient_Count"
         }
        }
       }
      }
     },
     "metadata": {},
     "output_type": "display_data"
    }
   ],
   "source": [
    "year_counts = df['year'].value_counts().sort_index().reset_index()\n",
    "year_counts.columns = ['Year', 'Patient_Count']\n",
    "\n",
    "fig = px.bar(year_counts, x='Year', y='Patient_Count',\n",
    "             title=\"Number of Patients Added Over Time\")\n",
    "fig.show()"
   ]
  },
  {
   "cell_type": "code",
   "execution_count": 431,
   "id": "99cd8c0d",
   "metadata": {},
   "outputs": [
    {
     "data": {
      "application/vnd.plotly.v1+json": {
       "config": {
        "plotlyServerURL": "https://plot.ly"
       },
       "data": [
        {
         "bingroup": "x",
         "hovertemplate": "IGHV_MUTATION_STATUS=unmutated<br>originId=%{x}<br>count=%{y}<extra></extra>",
         "legendgroup": "unmutated",
         "marker": {
          "color": "#636efa",
          "pattern": {
           "shape": ""
          }
         },
         "name": "unmutated",
         "orientation": "v",
         "showlegend": true,
         "type": "histogram",
         "x": {
          "bdata": "BAQEBAQEBAQEBAQEBAQEBAQEBQUFBQUFBQUFBQUFBQUFBQUFBQUFBQUFBQUFBQUFBQUFBQUFBQUFBQUFBQUFBQUFBQUFBQUFBQUFBQUGBgYGBgYGBgYGBgYGBgYGBgYGBgYGBgYGBgYGBgYGBgYGBgYGBgYGBgYGBgYGBgYGBgYGBgYGBgYGBgYGBgYGBgYGBgYGBgYGBgYGBgYGBgYGBgYGBgYGBgYGBgYGBgYGBgYGBgYGBgYGBgYGBgYGBgYGBgYGBgYGBgYGBgYGBgYGBgYGBgYGBgYGBgYGBgYGBgYGBgYGBgYGBgYGBgYGBgYGBgYGBgYGBgYGBgYGBgcHBwcHBwcHBwcHBwcHBwcHBwcHBwcHBwcHBwMDAwMDAwMDAwMDCQkJCQkJCQkJCQkJCQkJCQkJCQkJCQkJCAgICAgICAgICAgICAgICAgICAgICAgICAgICAgICAgIAgICAgICAgICAgICAgIBAQEBAQEBAQEBAQEBAQEBAQEBAQEBAQEBAQEBAQEBAQEBAQEBAQEBAQEBAQEBAQEBAQEBAQEBAQEBAQEBAQEBAQEBAQEBAQEBAQEBAQEBAQEBAQEBAQEBAQEBAQEBAQEBAQEBAQEBAQEBAQEBAQEBAQEBAQEBAQEBAQEBAQEBAQEBAQEBAQEBAQEBAQEBAQEBAQEBAQEBAQEBAQEBAQEBAQEBAQEBAQEBAQEBAQEBAQEBAQEBAQE=",
          "dtype": "i1"
         },
         "xaxis": "x",
         "yaxis": "y"
        },
        {
         "bingroup": "x",
         "hovertemplate": "IGHV_MUTATION_STATUS=mutated<br>originId=%{x}<br>count=%{y}<extra></extra>",
         "legendgroup": "mutated",
         "marker": {
          "color": "#EF553B",
          "pattern": {
           "shape": ""
          }
         },
         "name": "mutated",
         "orientation": "v",
         "showlegend": true,
         "type": "histogram",
         "x": {
          "bdata": "BAQEBAQEBAQEBAQFBQUFBQUFBQUFBQUFBQUFBQUFBQUFBQUFBQUFBQUFBQUFBQUFBQUFBQUFBQUFBQUFBQUFBQUFBQUFBQUFBQUFBQUFBQUFBQUFBQUFBQUFBQUFBQUFBQUFBQUFBQUFBQYGBgYGBgYGBgYGBgYGBgYGBgYGBgYGBgYGBgYGBgYGBgYGBgYGBgYGBgYGBgYGBgYGBgYGBgYGBgYGBgYGBgYGBgYGBgYGBgYGBgYGBgYGBgYGBgYGBgYGBgYGBgYGBgYGBgYGBgYGBgYGBgYGBgYGBgYHBwcDAwMDAwMDAwMDAwMDAwgICAgICAgICAgICAgICAgICAICAgICAgICAQEBAQEBAQEBAQEBAQEBAQEBAQEBAQEBAQEBAQEBAQEBAQEBAQEBAQEBAQEBAQEBAQEBAQEBAQEBAQEBAQEBAQEBAQEBAQEBAQEBAQEBAQEBAQEBAQEBAQEBAQEBAQEBAQEBAQEBAQEBAQEBAQEBAQEBAQEBAQEBAQEBAQEBAQEBAQEBAQEBAQEBAQEBAQEBAQEBAQEBAQEBAQEBAQEBAQEBAQEBAQEBAQEBAQEBAQEBAQEBAQEBAQEBAQEBAQEBAQEBAQEBAQEBAQEBAQEBAQEBAQEBAQEBAQEBAQEBAQEBAQEBAQEBAQEBAQEBAQEBAQEBAQEBAQEBAQEBAQEBAQEBAQEBAQEBAQEBAQEBAQEBAQEBAQEBAQEBAQEBAQEBAQEBAQEBAQEBAQEBAQEBAQEBAQEBAQEBAQEBAQEBAQE=",
          "dtype": "i1"
         },
         "xaxis": "x",
         "yaxis": "y"
        }
       ],
       "layout": {
        "barmode": "stack",
        "legend": {
         "title": {
          "text": "IGHV_MUTATION_STATUS"
         },
         "tracegroupgap": 0
        },
        "template": {
         "data": {
          "bar": [
           {
            "error_x": {
             "color": "#2a3f5f"
            },
            "error_y": {
             "color": "#2a3f5f"
            },
            "marker": {
             "line": {
              "color": "white",
              "width": 0.5
             },
             "pattern": {
              "fillmode": "overlay",
              "size": 10,
              "solidity": 0.2
             }
            },
            "type": "bar"
           }
          ],
          "barpolar": [
           {
            "marker": {
             "line": {
              "color": "white",
              "width": 0.5
             },
             "pattern": {
              "fillmode": "overlay",
              "size": 10,
              "solidity": 0.2
             }
            },
            "type": "barpolar"
           }
          ],
          "carpet": [
           {
            "aaxis": {
             "endlinecolor": "#2a3f5f",
             "gridcolor": "#C8D4E3",
             "linecolor": "#C8D4E3",
             "minorgridcolor": "#C8D4E3",
             "startlinecolor": "#2a3f5f"
            },
            "baxis": {
             "endlinecolor": "#2a3f5f",
             "gridcolor": "#C8D4E3",
             "linecolor": "#C8D4E3",
             "minorgridcolor": "#C8D4E3",
             "startlinecolor": "#2a3f5f"
            },
            "type": "carpet"
           }
          ],
          "choropleth": [
           {
            "colorbar": {
             "outlinewidth": 0,
             "ticks": ""
            },
            "type": "choropleth"
           }
          ],
          "contour": [
           {
            "colorbar": {
             "outlinewidth": 0,
             "ticks": ""
            },
            "colorscale": [
             [
              0,
              "#0d0887"
             ],
             [
              0.1111111111111111,
              "#46039f"
             ],
             [
              0.2222222222222222,
              "#7201a8"
             ],
             [
              0.3333333333333333,
              "#9c179e"
             ],
             [
              0.4444444444444444,
              "#bd3786"
             ],
             [
              0.5555555555555556,
              "#d8576b"
             ],
             [
              0.6666666666666666,
              "#ed7953"
             ],
             [
              0.7777777777777778,
              "#fb9f3a"
             ],
             [
              0.8888888888888888,
              "#fdca26"
             ],
             [
              1,
              "#f0f921"
             ]
            ],
            "type": "contour"
           }
          ],
          "contourcarpet": [
           {
            "colorbar": {
             "outlinewidth": 0,
             "ticks": ""
            },
            "type": "contourcarpet"
           }
          ],
          "heatmap": [
           {
            "colorbar": {
             "outlinewidth": 0,
             "ticks": ""
            },
            "colorscale": [
             [
              0,
              "#0d0887"
             ],
             [
              0.1111111111111111,
              "#46039f"
             ],
             [
              0.2222222222222222,
              "#7201a8"
             ],
             [
              0.3333333333333333,
              "#9c179e"
             ],
             [
              0.4444444444444444,
              "#bd3786"
             ],
             [
              0.5555555555555556,
              "#d8576b"
             ],
             [
              0.6666666666666666,
              "#ed7953"
             ],
             [
              0.7777777777777778,
              "#fb9f3a"
             ],
             [
              0.8888888888888888,
              "#fdca26"
             ],
             [
              1,
              "#f0f921"
             ]
            ],
            "type": "heatmap"
           }
          ],
          "histogram": [
           {
            "marker": {
             "pattern": {
              "fillmode": "overlay",
              "size": 10,
              "solidity": 0.2
             }
            },
            "type": "histogram"
           }
          ],
          "histogram2d": [
           {
            "colorbar": {
             "outlinewidth": 0,
             "ticks": ""
            },
            "colorscale": [
             [
              0,
              "#0d0887"
             ],
             [
              0.1111111111111111,
              "#46039f"
             ],
             [
              0.2222222222222222,
              "#7201a8"
             ],
             [
              0.3333333333333333,
              "#9c179e"
             ],
             [
              0.4444444444444444,
              "#bd3786"
             ],
             [
              0.5555555555555556,
              "#d8576b"
             ],
             [
              0.6666666666666666,
              "#ed7953"
             ],
             [
              0.7777777777777778,
              "#fb9f3a"
             ],
             [
              0.8888888888888888,
              "#fdca26"
             ],
             [
              1,
              "#f0f921"
             ]
            ],
            "type": "histogram2d"
           }
          ],
          "histogram2dcontour": [
           {
            "colorbar": {
             "outlinewidth": 0,
             "ticks": ""
            },
            "colorscale": [
             [
              0,
              "#0d0887"
             ],
             [
              0.1111111111111111,
              "#46039f"
             ],
             [
              0.2222222222222222,
              "#7201a8"
             ],
             [
              0.3333333333333333,
              "#9c179e"
             ],
             [
              0.4444444444444444,
              "#bd3786"
             ],
             [
              0.5555555555555556,
              "#d8576b"
             ],
             [
              0.6666666666666666,
              "#ed7953"
             ],
             [
              0.7777777777777778,
              "#fb9f3a"
             ],
             [
              0.8888888888888888,
              "#fdca26"
             ],
             [
              1,
              "#f0f921"
             ]
            ],
            "type": "histogram2dcontour"
           }
          ],
          "mesh3d": [
           {
            "colorbar": {
             "outlinewidth": 0,
             "ticks": ""
            },
            "type": "mesh3d"
           }
          ],
          "parcoords": [
           {
            "line": {
             "colorbar": {
              "outlinewidth": 0,
              "ticks": ""
             }
            },
            "type": "parcoords"
           }
          ],
          "pie": [
           {
            "automargin": true,
            "type": "pie"
           }
          ],
          "scatter": [
           {
            "fillpattern": {
             "fillmode": "overlay",
             "size": 10,
             "solidity": 0.2
            },
            "type": "scatter"
           }
          ],
          "scatter3d": [
           {
            "line": {
             "colorbar": {
              "outlinewidth": 0,
              "ticks": ""
             }
            },
            "marker": {
             "colorbar": {
              "outlinewidth": 0,
              "ticks": ""
             }
            },
            "type": "scatter3d"
           }
          ],
          "scattercarpet": [
           {
            "marker": {
             "colorbar": {
              "outlinewidth": 0,
              "ticks": ""
             }
            },
            "type": "scattercarpet"
           }
          ],
          "scattergeo": [
           {
            "marker": {
             "colorbar": {
              "outlinewidth": 0,
              "ticks": ""
             }
            },
            "type": "scattergeo"
           }
          ],
          "scattergl": [
           {
            "marker": {
             "colorbar": {
              "outlinewidth": 0,
              "ticks": ""
             }
            },
            "type": "scattergl"
           }
          ],
          "scattermap": [
           {
            "marker": {
             "colorbar": {
              "outlinewidth": 0,
              "ticks": ""
             }
            },
            "type": "scattermap"
           }
          ],
          "scattermapbox": [
           {
            "marker": {
             "colorbar": {
              "outlinewidth": 0,
              "ticks": ""
             }
            },
            "type": "scattermapbox"
           }
          ],
          "scatterpolar": [
           {
            "marker": {
             "colorbar": {
              "outlinewidth": 0,
              "ticks": ""
             }
            },
            "type": "scatterpolar"
           }
          ],
          "scatterpolargl": [
           {
            "marker": {
             "colorbar": {
              "outlinewidth": 0,
              "ticks": ""
             }
            },
            "type": "scatterpolargl"
           }
          ],
          "scatterternary": [
           {
            "marker": {
             "colorbar": {
              "outlinewidth": 0,
              "ticks": ""
             }
            },
            "type": "scatterternary"
           }
          ],
          "surface": [
           {
            "colorbar": {
             "outlinewidth": 0,
             "ticks": ""
            },
            "colorscale": [
             [
              0,
              "#0d0887"
             ],
             [
              0.1111111111111111,
              "#46039f"
             ],
             [
              0.2222222222222222,
              "#7201a8"
             ],
             [
              0.3333333333333333,
              "#9c179e"
             ],
             [
              0.4444444444444444,
              "#bd3786"
             ],
             [
              0.5555555555555556,
              "#d8576b"
             ],
             [
              0.6666666666666666,
              "#ed7953"
             ],
             [
              0.7777777777777778,
              "#fb9f3a"
             ],
             [
              0.8888888888888888,
              "#fdca26"
             ],
             [
              1,
              "#f0f921"
             ]
            ],
            "type": "surface"
           }
          ],
          "table": [
           {
            "cells": {
             "fill": {
              "color": "#EBF0F8"
             },
             "line": {
              "color": "white"
             }
            },
            "header": {
             "fill": {
              "color": "#C8D4E3"
             },
             "line": {
              "color": "white"
             }
            },
            "type": "table"
           }
          ]
         },
         "layout": {
          "annotationdefaults": {
           "arrowcolor": "#2a3f5f",
           "arrowhead": 0,
           "arrowwidth": 1
          },
          "autotypenumbers": "strict",
          "coloraxis": {
           "colorbar": {
            "outlinewidth": 0,
            "ticks": ""
           }
          },
          "colorscale": {
           "diverging": [
            [
             0,
             "#8e0152"
            ],
            [
             0.1,
             "#c51b7d"
            ],
            [
             0.2,
             "#de77ae"
            ],
            [
             0.3,
             "#f1b6da"
            ],
            [
             0.4,
             "#fde0ef"
            ],
            [
             0.5,
             "#f7f7f7"
            ],
            [
             0.6,
             "#e6f5d0"
            ],
            [
             0.7,
             "#b8e186"
            ],
            [
             0.8,
             "#7fbc41"
            ],
            [
             0.9,
             "#4d9221"
            ],
            [
             1,
             "#276419"
            ]
           ],
           "sequential": [
            [
             0,
             "#0d0887"
            ],
            [
             0.1111111111111111,
             "#46039f"
            ],
            [
             0.2222222222222222,
             "#7201a8"
            ],
            [
             0.3333333333333333,
             "#9c179e"
            ],
            [
             0.4444444444444444,
             "#bd3786"
            ],
            [
             0.5555555555555556,
             "#d8576b"
            ],
            [
             0.6666666666666666,
             "#ed7953"
            ],
            [
             0.7777777777777778,
             "#fb9f3a"
            ],
            [
             0.8888888888888888,
             "#fdca26"
            ],
            [
             1,
             "#f0f921"
            ]
           ],
           "sequentialminus": [
            [
             0,
             "#0d0887"
            ],
            [
             0.1111111111111111,
             "#46039f"
            ],
            [
             0.2222222222222222,
             "#7201a8"
            ],
            [
             0.3333333333333333,
             "#9c179e"
            ],
            [
             0.4444444444444444,
             "#bd3786"
            ],
            [
             0.5555555555555556,
             "#d8576b"
            ],
            [
             0.6666666666666666,
             "#ed7953"
            ],
            [
             0.7777777777777778,
             "#fb9f3a"
            ],
            [
             0.8888888888888888,
             "#fdca26"
            ],
            [
             1,
             "#f0f921"
            ]
           ]
          },
          "colorway": [
           "#636efa",
           "#EF553B",
           "#00cc96",
           "#ab63fa",
           "#FFA15A",
           "#19d3f3",
           "#FF6692",
           "#B6E880",
           "#FF97FF",
           "#FECB52"
          ],
          "font": {
           "color": "#2a3f5f"
          },
          "geo": {
           "bgcolor": "white",
           "lakecolor": "white",
           "landcolor": "white",
           "showlakes": true,
           "showland": true,
           "subunitcolor": "#C8D4E3"
          },
          "hoverlabel": {
           "align": "left"
          },
          "hovermode": "closest",
          "mapbox": {
           "style": "light"
          },
          "paper_bgcolor": "white",
          "plot_bgcolor": "white",
          "polar": {
           "angularaxis": {
            "gridcolor": "#EBF0F8",
            "linecolor": "#EBF0F8",
            "ticks": ""
           },
           "bgcolor": "white",
           "radialaxis": {
            "gridcolor": "#EBF0F8",
            "linecolor": "#EBF0F8",
            "ticks": ""
           }
          },
          "scene": {
           "xaxis": {
            "backgroundcolor": "white",
            "gridcolor": "#DFE8F3",
            "gridwidth": 2,
            "linecolor": "#EBF0F8",
            "showbackground": true,
            "ticks": "",
            "zerolinecolor": "#EBF0F8"
           },
           "yaxis": {
            "backgroundcolor": "white",
            "gridcolor": "#DFE8F3",
            "gridwidth": 2,
            "linecolor": "#EBF0F8",
            "showbackground": true,
            "ticks": "",
            "zerolinecolor": "#EBF0F8"
           },
           "zaxis": {
            "backgroundcolor": "white",
            "gridcolor": "#DFE8F3",
            "gridwidth": 2,
            "linecolor": "#EBF0F8",
            "showbackground": true,
            "ticks": "",
            "zerolinecolor": "#EBF0F8"
           }
          },
          "shapedefaults": {
           "line": {
            "color": "#2a3f5f"
           }
          },
          "ternary": {
           "aaxis": {
            "gridcolor": "#DFE8F3",
            "linecolor": "#A2B1C6",
            "ticks": ""
           },
           "baxis": {
            "gridcolor": "#DFE8F3",
            "linecolor": "#A2B1C6",
            "ticks": ""
           },
           "bgcolor": "white",
           "caxis": {
            "gridcolor": "#DFE8F3",
            "linecolor": "#A2B1C6",
            "ticks": ""
           }
          },
          "title": {
           "x": 0.05
          },
          "xaxis": {
           "automargin": true,
           "gridcolor": "#EBF0F8",
           "linecolor": "#EBF0F8",
           "ticks": "",
           "title": {
            "standoff": 15
           },
           "zerolinecolor": "#EBF0F8",
           "zerolinewidth": 2
          },
          "yaxis": {
           "automargin": true,
           "gridcolor": "#EBF0F8",
           "linecolor": "#EBF0F8",
           "ticks": "",
           "title": {
            "standoff": 15
           },
           "zerolinecolor": "#EBF0F8",
           "zerolinewidth": 2
          }
         }
        },
        "title": {
         "text": "IGHV Mutation Status by Origin ID"
        },
        "xaxis": {
         "anchor": "y",
         "domain": [
          0,
          1
         ],
         "title": {
          "text": "originId"
         }
        },
        "yaxis": {
         "anchor": "x",
         "domain": [
          0,
          1
         ],
         "title": {
          "text": "count"
         }
        }
       }
      }
     },
     "metadata": {},
     "output_type": "display_data"
    }
   ],
   "source": [
    "df_sub = df.dropna(subset=['IGHV_MUTATION_STATUS'])\n",
    "fig = px.histogram(df_sub, x='originId', color='IGHV_MUTATION_STATUS',\n",
    "                   title='IGHV Mutation Status by Origin ID',\n",
    "                   barmode='stack')\n",
    "fig.show()"
   ]
  },
  {
   "cell_type": "code",
   "execution_count": 432,
   "id": "ec089f66",
   "metadata": {},
   "outputs": [
    {
     "data": {
      "application/vnd.plotly.v1+json": {
       "config": {
        "plotlyServerURL": "https://plot.ly"
       },
       "data": [
        {
         "bingroup": "x",
         "hovertemplate": "IGHV_MUTATION_STATUS=unmutated<br>originId=%{x}<br>count=%{y}<extra></extra>",
         "legendgroup": "unmutated",
         "marker": {
          "color": "#636efa",
          "pattern": {
           "shape": ""
          }
         },
         "name": "unmutated",
         "orientation": "v",
         "showlegend": true,
         "type": "histogram",
         "x": {
          "bdata": "BAQEBAQEBAQEBAQEBAQEBAQEBQUFBQUFBQUFBQUFBQUFBQUFBQUFBQUFBQUFBQUFBQUFBQUFBQUFBQUFBQUFBQUFBQUFBQUFBQUFBQUGBgYGBgYGBgYGBgYGBgYGBgYGBgYGBgYGBgYGBgYGBgYGBgYGBgYGBgYGBgYGBgYGBgYGBgYGBgYGBgYGBgYGBgYGBgYGBgYGBgYGBgYGBgYGBgYGBgYGBgYGBgYGBgYGBgYGBgYGBgYGBgYGBgYGBgYGBgYGBgYGBgYGBgYGBgYGBgYGBgYGBgYGBgYGBgYGBgYGBgYGBgYGBgYGBgYGBgYGBgYGBgYGBgYGBgYGBgcHBwcHBwcHBwcHBwcHBwcHBwcHBwcHBwcHBwMDAwMDAwMDAwMDCQkJCQkJCQkJCQkJCQkJCQkJCQkJCQkJCAgICAgICAgICAgICAgICAgICAgICAgICAgICAgICAgIAgICAgICAgICAgICAgIBAQEBAQEBAQEBAQEBAQEBAQEBAQEBAQEBAQEBAQEBAQEBAQEBAQEBAQEBAQEBAQEBAQEBAQEBAQEBAQEBAQEBAQEBAQEBAQEBAQEBAQEBAQEBAQEBAQEBAQEBAQEBAQEBAQEBAQEBAQEBAQEBAQEBAQEBAQEBAQEBAQEBAQEBAQEBAQEBAQEBAQEBAQEBAQEBAQEBAQEBAQEBAQEBAQEBAQEBAQEBAQEBAQEBAQEBAQEBAQEBAQE=",
          "dtype": "i1"
         },
         "xaxis": "x",
         "yaxis": "y"
        },
        {
         "bingroup": "x",
         "hovertemplate": "IGHV_MUTATION_STATUS=mutated<br>originId=%{x}<br>count=%{y}<extra></extra>",
         "legendgroup": "mutated",
         "marker": {
          "color": "#EF553B",
          "pattern": {
           "shape": ""
          }
         },
         "name": "mutated",
         "orientation": "v",
         "showlegend": true,
         "type": "histogram",
         "x": {
          "bdata": "BAQEBAQEBAQEBAQFBQUFBQUFBQUFBQUFBQUFBQUFBQUFBQUFBQUFBQUFBQUFBQUFBQUFBQUFBQUFBQUFBQUFBQUFBQUFBQUFBQUFBQUFBQUFBQUFBQUFBQUFBQUFBQUFBQUFBQUFBQUFBQYGBgYGBgYGBgYGBgYGBgYGBgYGBgYGBgYGBgYGBgYGBgYGBgYGBgYGBgYGBgYGBgYGBgYGBgYGBgYGBgYGBgYGBgYGBgYGBgYGBgYGBgYGBgYGBgYGBgYGBgYGBgYGBgYGBgYGBgYGBgYGBgYGBgYGBgYHBwcDAwMDAwMDAwMDAwMDAwgICAgICAgICAgICAgICAgICAICAgICAgICAQEBAQEBAQEBAQEBAQEBAQEBAQEBAQEBAQEBAQEBAQEBAQEBAQEBAQEBAQEBAQEBAQEBAQEBAQEBAQEBAQEBAQEBAQEBAQEBAQEBAQEBAQEBAQEBAQEBAQEBAQEBAQEBAQEBAQEBAQEBAQEBAQEBAQEBAQEBAQEBAQEBAQEBAQEBAQEBAQEBAQEBAQEBAQEBAQEBAQEBAQEBAQEBAQEBAQEBAQEBAQEBAQEBAQEBAQEBAQEBAQEBAQEBAQEBAQEBAQEBAQEBAQEBAQEBAQEBAQEBAQEBAQEBAQEBAQEBAQEBAQEBAQEBAQEBAQEBAQEBAQEBAQEBAQEBAQEBAQEBAQEBAQEBAQEBAQEBAQEBAQEBAQEBAQEBAQEBAQEBAQEBAQEBAQEBAQEBAQEBAQEBAQEBAQEBAQEBAQEBAQEBAQE=",
          "dtype": "i1"
         },
         "xaxis": "x",
         "yaxis": "y"
        }
       ],
       "layout": {
        "barmode": "stack",
        "legend": {
         "title": {
          "text": "IGHV_MUTATION_STATUS"
         },
         "tracegroupgap": 0
        },
        "template": {
         "data": {
          "bar": [
           {
            "error_x": {
             "color": "#2a3f5f"
            },
            "error_y": {
             "color": "#2a3f5f"
            },
            "marker": {
             "line": {
              "color": "white",
              "width": 0.5
             },
             "pattern": {
              "fillmode": "overlay",
              "size": 10,
              "solidity": 0.2
             }
            },
            "type": "bar"
           }
          ],
          "barpolar": [
           {
            "marker": {
             "line": {
              "color": "white",
              "width": 0.5
             },
             "pattern": {
              "fillmode": "overlay",
              "size": 10,
              "solidity": 0.2
             }
            },
            "type": "barpolar"
           }
          ],
          "carpet": [
           {
            "aaxis": {
             "endlinecolor": "#2a3f5f",
             "gridcolor": "#C8D4E3",
             "linecolor": "#C8D4E3",
             "minorgridcolor": "#C8D4E3",
             "startlinecolor": "#2a3f5f"
            },
            "baxis": {
             "endlinecolor": "#2a3f5f",
             "gridcolor": "#C8D4E3",
             "linecolor": "#C8D4E3",
             "minorgridcolor": "#C8D4E3",
             "startlinecolor": "#2a3f5f"
            },
            "type": "carpet"
           }
          ],
          "choropleth": [
           {
            "colorbar": {
             "outlinewidth": 0,
             "ticks": ""
            },
            "type": "choropleth"
           }
          ],
          "contour": [
           {
            "colorbar": {
             "outlinewidth": 0,
             "ticks": ""
            },
            "colorscale": [
             [
              0,
              "#0d0887"
             ],
             [
              0.1111111111111111,
              "#46039f"
             ],
             [
              0.2222222222222222,
              "#7201a8"
             ],
             [
              0.3333333333333333,
              "#9c179e"
             ],
             [
              0.4444444444444444,
              "#bd3786"
             ],
             [
              0.5555555555555556,
              "#d8576b"
             ],
             [
              0.6666666666666666,
              "#ed7953"
             ],
             [
              0.7777777777777778,
              "#fb9f3a"
             ],
             [
              0.8888888888888888,
              "#fdca26"
             ],
             [
              1,
              "#f0f921"
             ]
            ],
            "type": "contour"
           }
          ],
          "contourcarpet": [
           {
            "colorbar": {
             "outlinewidth": 0,
             "ticks": ""
            },
            "type": "contourcarpet"
           }
          ],
          "heatmap": [
           {
            "colorbar": {
             "outlinewidth": 0,
             "ticks": ""
            },
            "colorscale": [
             [
              0,
              "#0d0887"
             ],
             [
              0.1111111111111111,
              "#46039f"
             ],
             [
              0.2222222222222222,
              "#7201a8"
             ],
             [
              0.3333333333333333,
              "#9c179e"
             ],
             [
              0.4444444444444444,
              "#bd3786"
             ],
             [
              0.5555555555555556,
              "#d8576b"
             ],
             [
              0.6666666666666666,
              "#ed7953"
             ],
             [
              0.7777777777777778,
              "#fb9f3a"
             ],
             [
              0.8888888888888888,
              "#fdca26"
             ],
             [
              1,
              "#f0f921"
             ]
            ],
            "type": "heatmap"
           }
          ],
          "histogram": [
           {
            "marker": {
             "pattern": {
              "fillmode": "overlay",
              "size": 10,
              "solidity": 0.2
             }
            },
            "type": "histogram"
           }
          ],
          "histogram2d": [
           {
            "colorbar": {
             "outlinewidth": 0,
             "ticks": ""
            },
            "colorscale": [
             [
              0,
              "#0d0887"
             ],
             [
              0.1111111111111111,
              "#46039f"
             ],
             [
              0.2222222222222222,
              "#7201a8"
             ],
             [
              0.3333333333333333,
              "#9c179e"
             ],
             [
              0.4444444444444444,
              "#bd3786"
             ],
             [
              0.5555555555555556,
              "#d8576b"
             ],
             [
              0.6666666666666666,
              "#ed7953"
             ],
             [
              0.7777777777777778,
              "#fb9f3a"
             ],
             [
              0.8888888888888888,
              "#fdca26"
             ],
             [
              1,
              "#f0f921"
             ]
            ],
            "type": "histogram2d"
           }
          ],
          "histogram2dcontour": [
           {
            "colorbar": {
             "outlinewidth": 0,
             "ticks": ""
            },
            "colorscale": [
             [
              0,
              "#0d0887"
             ],
             [
              0.1111111111111111,
              "#46039f"
             ],
             [
              0.2222222222222222,
              "#7201a8"
             ],
             [
              0.3333333333333333,
              "#9c179e"
             ],
             [
              0.4444444444444444,
              "#bd3786"
             ],
             [
              0.5555555555555556,
              "#d8576b"
             ],
             [
              0.6666666666666666,
              "#ed7953"
             ],
             [
              0.7777777777777778,
              "#fb9f3a"
             ],
             [
              0.8888888888888888,
              "#fdca26"
             ],
             [
              1,
              "#f0f921"
             ]
            ],
            "type": "histogram2dcontour"
           }
          ],
          "mesh3d": [
           {
            "colorbar": {
             "outlinewidth": 0,
             "ticks": ""
            },
            "type": "mesh3d"
           }
          ],
          "parcoords": [
           {
            "line": {
             "colorbar": {
              "outlinewidth": 0,
              "ticks": ""
             }
            },
            "type": "parcoords"
           }
          ],
          "pie": [
           {
            "automargin": true,
            "type": "pie"
           }
          ],
          "scatter": [
           {
            "fillpattern": {
             "fillmode": "overlay",
             "size": 10,
             "solidity": 0.2
            },
            "type": "scatter"
           }
          ],
          "scatter3d": [
           {
            "line": {
             "colorbar": {
              "outlinewidth": 0,
              "ticks": ""
             }
            },
            "marker": {
             "colorbar": {
              "outlinewidth": 0,
              "ticks": ""
             }
            },
            "type": "scatter3d"
           }
          ],
          "scattercarpet": [
           {
            "marker": {
             "colorbar": {
              "outlinewidth": 0,
              "ticks": ""
             }
            },
            "type": "scattercarpet"
           }
          ],
          "scattergeo": [
           {
            "marker": {
             "colorbar": {
              "outlinewidth": 0,
              "ticks": ""
             }
            },
            "type": "scattergeo"
           }
          ],
          "scattergl": [
           {
            "marker": {
             "colorbar": {
              "outlinewidth": 0,
              "ticks": ""
             }
            },
            "type": "scattergl"
           }
          ],
          "scattermap": [
           {
            "marker": {
             "colorbar": {
              "outlinewidth": 0,
              "ticks": ""
             }
            },
            "type": "scattermap"
           }
          ],
          "scattermapbox": [
           {
            "marker": {
             "colorbar": {
              "outlinewidth": 0,
              "ticks": ""
             }
            },
            "type": "scattermapbox"
           }
          ],
          "scatterpolar": [
           {
            "marker": {
             "colorbar": {
              "outlinewidth": 0,
              "ticks": ""
             }
            },
            "type": "scatterpolar"
           }
          ],
          "scatterpolargl": [
           {
            "marker": {
             "colorbar": {
              "outlinewidth": 0,
              "ticks": ""
             }
            },
            "type": "scatterpolargl"
           }
          ],
          "scatterternary": [
           {
            "marker": {
             "colorbar": {
              "outlinewidth": 0,
              "ticks": ""
             }
            },
            "type": "scatterternary"
           }
          ],
          "surface": [
           {
            "colorbar": {
             "outlinewidth": 0,
             "ticks": ""
            },
            "colorscale": [
             [
              0,
              "#0d0887"
             ],
             [
              0.1111111111111111,
              "#46039f"
             ],
             [
              0.2222222222222222,
              "#7201a8"
             ],
             [
              0.3333333333333333,
              "#9c179e"
             ],
             [
              0.4444444444444444,
              "#bd3786"
             ],
             [
              0.5555555555555556,
              "#d8576b"
             ],
             [
              0.6666666666666666,
              "#ed7953"
             ],
             [
              0.7777777777777778,
              "#fb9f3a"
             ],
             [
              0.8888888888888888,
              "#fdca26"
             ],
             [
              1,
              "#f0f921"
             ]
            ],
            "type": "surface"
           }
          ],
          "table": [
           {
            "cells": {
             "fill": {
              "color": "#EBF0F8"
             },
             "line": {
              "color": "white"
             }
            },
            "header": {
             "fill": {
              "color": "#C8D4E3"
             },
             "line": {
              "color": "white"
             }
            },
            "type": "table"
           }
          ]
         },
         "layout": {
          "annotationdefaults": {
           "arrowcolor": "#2a3f5f",
           "arrowhead": 0,
           "arrowwidth": 1
          },
          "autotypenumbers": "strict",
          "coloraxis": {
           "colorbar": {
            "outlinewidth": 0,
            "ticks": ""
           }
          },
          "colorscale": {
           "diverging": [
            [
             0,
             "#8e0152"
            ],
            [
             0.1,
             "#c51b7d"
            ],
            [
             0.2,
             "#de77ae"
            ],
            [
             0.3,
             "#f1b6da"
            ],
            [
             0.4,
             "#fde0ef"
            ],
            [
             0.5,
             "#f7f7f7"
            ],
            [
             0.6,
             "#e6f5d0"
            ],
            [
             0.7,
             "#b8e186"
            ],
            [
             0.8,
             "#7fbc41"
            ],
            [
             0.9,
             "#4d9221"
            ],
            [
             1,
             "#276419"
            ]
           ],
           "sequential": [
            [
             0,
             "#0d0887"
            ],
            [
             0.1111111111111111,
             "#46039f"
            ],
            [
             0.2222222222222222,
             "#7201a8"
            ],
            [
             0.3333333333333333,
             "#9c179e"
            ],
            [
             0.4444444444444444,
             "#bd3786"
            ],
            [
             0.5555555555555556,
             "#d8576b"
            ],
            [
             0.6666666666666666,
             "#ed7953"
            ],
            [
             0.7777777777777778,
             "#fb9f3a"
            ],
            [
             0.8888888888888888,
             "#fdca26"
            ],
            [
             1,
             "#f0f921"
            ]
           ],
           "sequentialminus": [
            [
             0,
             "#0d0887"
            ],
            [
             0.1111111111111111,
             "#46039f"
            ],
            [
             0.2222222222222222,
             "#7201a8"
            ],
            [
             0.3333333333333333,
             "#9c179e"
            ],
            [
             0.4444444444444444,
             "#bd3786"
            ],
            [
             0.5555555555555556,
             "#d8576b"
            ],
            [
             0.6666666666666666,
             "#ed7953"
            ],
            [
             0.7777777777777778,
             "#fb9f3a"
            ],
            [
             0.8888888888888888,
             "#fdca26"
            ],
            [
             1,
             "#f0f921"
            ]
           ]
          },
          "colorway": [
           "#636efa",
           "#EF553B",
           "#00cc96",
           "#ab63fa",
           "#FFA15A",
           "#19d3f3",
           "#FF6692",
           "#B6E880",
           "#FF97FF",
           "#FECB52"
          ],
          "font": {
           "color": "#2a3f5f"
          },
          "geo": {
           "bgcolor": "white",
           "lakecolor": "white",
           "landcolor": "white",
           "showlakes": true,
           "showland": true,
           "subunitcolor": "#C8D4E3"
          },
          "hoverlabel": {
           "align": "left"
          },
          "hovermode": "closest",
          "mapbox": {
           "style": "light"
          },
          "paper_bgcolor": "white",
          "plot_bgcolor": "white",
          "polar": {
           "angularaxis": {
            "gridcolor": "#EBF0F8",
            "linecolor": "#EBF0F8",
            "ticks": ""
           },
           "bgcolor": "white",
           "radialaxis": {
            "gridcolor": "#EBF0F8",
            "linecolor": "#EBF0F8",
            "ticks": ""
           }
          },
          "scene": {
           "xaxis": {
            "backgroundcolor": "white",
            "gridcolor": "#DFE8F3",
            "gridwidth": 2,
            "linecolor": "#EBF0F8",
            "showbackground": true,
            "ticks": "",
            "zerolinecolor": "#EBF0F8"
           },
           "yaxis": {
            "backgroundcolor": "white",
            "gridcolor": "#DFE8F3",
            "gridwidth": 2,
            "linecolor": "#EBF0F8",
            "showbackground": true,
            "ticks": "",
            "zerolinecolor": "#EBF0F8"
           },
           "zaxis": {
            "backgroundcolor": "white",
            "gridcolor": "#DFE8F3",
            "gridwidth": 2,
            "linecolor": "#EBF0F8",
            "showbackground": true,
            "ticks": "",
            "zerolinecolor": "#EBF0F8"
           }
          },
          "shapedefaults": {
           "line": {
            "color": "#2a3f5f"
           }
          },
          "ternary": {
           "aaxis": {
            "gridcolor": "#DFE8F3",
            "linecolor": "#A2B1C6",
            "ticks": ""
           },
           "baxis": {
            "gridcolor": "#DFE8F3",
            "linecolor": "#A2B1C6",
            "ticks": ""
           },
           "bgcolor": "white",
           "caxis": {
            "gridcolor": "#DFE8F3",
            "linecolor": "#A2B1C6",
            "ticks": ""
           }
          },
          "title": {
           "x": 0.05
          },
          "xaxis": {
           "automargin": true,
           "gridcolor": "#EBF0F8",
           "linecolor": "#EBF0F8",
           "ticks": "",
           "title": {
            "standoff": 15
           },
           "zerolinecolor": "#EBF0F8",
           "zerolinewidth": 2
          },
          "yaxis": {
           "automargin": true,
           "gridcolor": "#EBF0F8",
           "linecolor": "#EBF0F8",
           "ticks": "",
           "title": {
            "standoff": 15
           },
           "zerolinecolor": "#EBF0F8",
           "zerolinewidth": 2
          }
         }
        },
        "title": {
         "text": "IGHV Mutation Status by Origin ID"
        },
        "xaxis": {
         "anchor": "y",
         "domain": [
          0,
          1
         ],
         "title": {
          "text": "originId"
         }
        },
        "yaxis": {
         "anchor": "x",
         "domain": [
          0,
          1
         ],
         "title": {
          "text": "count"
         }
        }
       }
      }
     },
     "metadata": {},
     "output_type": "display_data"
    }
   ],
   "source": [
    "df_sub = df.dropna(subset=['CLL_EPITYPE'])\n",
    "fig = px.histogram(df_sub, x='originId', color='IGHV_MUTATION_STATUS',\n",
    "                   title='IGHV Mutation Status by Origin ID',\n",
    "                   barmode='stack')\n",
    "fig.show()"
   ]
  },
  {
   "cell_type": "code",
   "execution_count": 433,
   "id": "e632992f",
   "metadata": {},
   "outputs": [
    {
     "data": {
      "application/vnd.plotly.v1+json": {
       "config": {
        "plotlyServerURL": "https://plot.ly"
       },
       "data": [
        {
         "bingroup": "x",
         "hovertemplate": "CLL_EPITYPE=n-CLL<br>originId=%{x}<br>count=%{y}<extra></extra>",
         "legendgroup": "n-CLL",
         "marker": {
          "color": "#636efa",
          "pattern": {
           "shape": ""
          }
         },
         "name": "n-CLL",
         "orientation": "v",
         "showlegend": true,
         "type": "histogram",
         "x": {
          "bdata": "BAQEBAQEBAQEBAQEBQUFBQUFBQUFBQUFBQUFBQUFBQUFBQUFBQUFBQUFBQYGBgYGBgYGBgYGBgYGBgYGBgYGBgYGBgYGBgYGBgYGBgYGBgYGBgYGBgYGBgYGBgYGBgYGBgYGBgYGBgYGBgYGBgYGBgYGBgYGBgYGBgYGBgYGBgYGBgYGBgYGBgYGBgYGBgYGBgYGBgYGBgYGBgYGBgYGBgYGBgYGBgYGBgYGBgYGBgYGBgYGBgYGBgYGBgYGBgYGBgYGBgYGBgYJCQkJCQkJCQkJCQkJCQgICAgICAgICAgICAgICAgICAgICAgICAgICAgBAQEBAQEBAQEBAQEBAQEBAQEBAQEBAQEBAQEBAQEBAQEBAQEBAQEBAQEBAQEBAQEBAQEBAQEBAQEBAQEBAQEBAQEBAQEBAQEBAQEBAQEBAQEBAQEBAQEBAQEBAQEBAQEBAQEBAQEBAQEBAQEBAQEBAQEBAQEBAQEBAQEBAQEBAQEBAQEBAQEBAQEBAQEBAQEBAQEBAQ==",
          "dtype": "i1"
         },
         "xaxis": "x",
         "yaxis": "y"
        },
        {
         "bingroup": "x",
         "hovertemplate": "CLL_EPITYPE=m-CLL<br>originId=%{x}<br>count=%{y}<extra></extra>",
         "legendgroup": "m-CLL",
         "marker": {
          "color": "#EF553B",
          "pattern": {
           "shape": ""
          }
         },
         "name": "m-CLL",
         "orientation": "v",
         "showlegend": true,
         "type": "histogram",
         "x": {
          "bdata": "BAQEBAQEBAQFBQUFBQUFBQUFBQUFBQUFBQUFBQUFBQUFBQUFBQUFBQUFBQUFBQUFBQUFBQUGBgYGBgYGBgYGBgYGBgYGBgYGBgYGBgYGBgYGBgYGBgYGBgYGBgYGBgYGBgYGBgYGBgYGBgYGBgYGBgYGBggICAgICAgICAEBAQEBAQEBAQEBAQEBAQEBAQEBAQEBAQEBAQEBAQEBAQEBAQEBAQEBAQEBAQEBAQEBAQEBAQEBAQEBAQEBAQEBAQEBAQEBAQEBAQEBAQEBAQEBAQEBAQEBAQEBAQEBAQEBAQEBAQEBAQEBAQEBAQEBAQEBAQEBAQEBAQEBAQEBAQEBAQEBAQEBAQEBAQEBAQEBAQEBAQEBAQEBAQEBAQEBAQEBAQEBAQEBAQEBAQEBAQEBAQEBAQEBAQEBAQEBAQEBAQEBAQEBAQEBAQEBAQEBAQEBAQEBAQEB",
          "dtype": "i1"
         },
         "xaxis": "x",
         "yaxis": "y"
        },
        {
         "bingroup": "x",
         "hovertemplate": "CLL_EPITYPE=unclassified<br>originId=%{x}<br>count=%{y}<extra></extra>",
         "legendgroup": "unclassified",
         "marker": {
          "color": "#00cc96",
          "pattern": {
           "shape": ""
          }
         },
         "name": "unclassified",
         "orientation": "v",
         "showlegend": true,
         "type": "histogram",
         "x": {
          "bdata": "BAQEBAQEBAQEBAQFBQUFBQUFBQUFBQUFBQUFBQUFBQUFBQUFBQUFBQUFBQUFBQUFBQUFBQUFBQUFBQUFBQUFBQUFBQUFBQUFBQYGBgYGBgYGBgYGBgYGBgYGBgYGBgYGBgYGBgYGBgYGBgYGBwcHBwcHBwcHBwcHBwcHBwcHBwcHBwcHBwcHBwcHBwMDAwMDAwMDAwMDAwMDAwMDAwMDAwMDAwMJCQkJCQgICAgICAgCAgICAgICAgICAgICAgICAgICAgICAQEBAQEBAQEBAQEBAQEBAQEBAQEBAQEBAQEBAQEBAQEBAQEBAQEBAQEBAQEBAQEBAQEBAQEBAQEBAQEBAQEBAQEBAQEBAQEBAQEBAQEBAQEBAQ==",
          "dtype": "i1"
         },
         "xaxis": "x",
         "yaxis": "y"
        },
        {
         "bingroup": "x",
         "hovertemplate": "CLL_EPITYPE=i-CLL<br>originId=%{x}<br>count=%{y}<extra></extra>",
         "legendgroup": "i-CLL",
         "marker": {
          "color": "#ab63fa",
          "pattern": {
           "shape": ""
          }
         },
         "name": "i-CLL",
         "orientation": "v",
         "showlegend": true,
         "type": "histogram",
         "x": {
          "bdata": "BQUFBQUFBQUFBQUFBQUFBQYGBgYGBgYGBgYGBgYGBgYGBgYGBgYGBgYGBgYGBgYGBgYGBgYGBgYGBgYGBgYGBgYGBgYGBgYJCQkJCQkICAgICAgIAQEBAQEBAQEBAQEBAQEBAQEBAQEBAQEBAQEBAQEBAQEBAQEBAQEBAQEBAQEBAQEBAQEBAQEBAQEB",
          "dtype": "i1"
         },
         "xaxis": "x",
         "yaxis": "y"
        }
       ],
       "layout": {
        "barmode": "stack",
        "legend": {
         "title": {
          "text": "CLL_EPITYPE"
         },
         "tracegroupgap": 0
        },
        "template": {
         "data": {
          "bar": [
           {
            "error_x": {
             "color": "#2a3f5f"
            },
            "error_y": {
             "color": "#2a3f5f"
            },
            "marker": {
             "line": {
              "color": "white",
              "width": 0.5
             },
             "pattern": {
              "fillmode": "overlay",
              "size": 10,
              "solidity": 0.2
             }
            },
            "type": "bar"
           }
          ],
          "barpolar": [
           {
            "marker": {
             "line": {
              "color": "white",
              "width": 0.5
             },
             "pattern": {
              "fillmode": "overlay",
              "size": 10,
              "solidity": 0.2
             }
            },
            "type": "barpolar"
           }
          ],
          "carpet": [
           {
            "aaxis": {
             "endlinecolor": "#2a3f5f",
             "gridcolor": "#C8D4E3",
             "linecolor": "#C8D4E3",
             "minorgridcolor": "#C8D4E3",
             "startlinecolor": "#2a3f5f"
            },
            "baxis": {
             "endlinecolor": "#2a3f5f",
             "gridcolor": "#C8D4E3",
             "linecolor": "#C8D4E3",
             "minorgridcolor": "#C8D4E3",
             "startlinecolor": "#2a3f5f"
            },
            "type": "carpet"
           }
          ],
          "choropleth": [
           {
            "colorbar": {
             "outlinewidth": 0,
             "ticks": ""
            },
            "type": "choropleth"
           }
          ],
          "contour": [
           {
            "colorbar": {
             "outlinewidth": 0,
             "ticks": ""
            },
            "colorscale": [
             [
              0,
              "#0d0887"
             ],
             [
              0.1111111111111111,
              "#46039f"
             ],
             [
              0.2222222222222222,
              "#7201a8"
             ],
             [
              0.3333333333333333,
              "#9c179e"
             ],
             [
              0.4444444444444444,
              "#bd3786"
             ],
             [
              0.5555555555555556,
              "#d8576b"
             ],
             [
              0.6666666666666666,
              "#ed7953"
             ],
             [
              0.7777777777777778,
              "#fb9f3a"
             ],
             [
              0.8888888888888888,
              "#fdca26"
             ],
             [
              1,
              "#f0f921"
             ]
            ],
            "type": "contour"
           }
          ],
          "contourcarpet": [
           {
            "colorbar": {
             "outlinewidth": 0,
             "ticks": ""
            },
            "type": "contourcarpet"
           }
          ],
          "heatmap": [
           {
            "colorbar": {
             "outlinewidth": 0,
             "ticks": ""
            },
            "colorscale": [
             [
              0,
              "#0d0887"
             ],
             [
              0.1111111111111111,
              "#46039f"
             ],
             [
              0.2222222222222222,
              "#7201a8"
             ],
             [
              0.3333333333333333,
              "#9c179e"
             ],
             [
              0.4444444444444444,
              "#bd3786"
             ],
             [
              0.5555555555555556,
              "#d8576b"
             ],
             [
              0.6666666666666666,
              "#ed7953"
             ],
             [
              0.7777777777777778,
              "#fb9f3a"
             ],
             [
              0.8888888888888888,
              "#fdca26"
             ],
             [
              1,
              "#f0f921"
             ]
            ],
            "type": "heatmap"
           }
          ],
          "histogram": [
           {
            "marker": {
             "pattern": {
              "fillmode": "overlay",
              "size": 10,
              "solidity": 0.2
             }
            },
            "type": "histogram"
           }
          ],
          "histogram2d": [
           {
            "colorbar": {
             "outlinewidth": 0,
             "ticks": ""
            },
            "colorscale": [
             [
              0,
              "#0d0887"
             ],
             [
              0.1111111111111111,
              "#46039f"
             ],
             [
              0.2222222222222222,
              "#7201a8"
             ],
             [
              0.3333333333333333,
              "#9c179e"
             ],
             [
              0.4444444444444444,
              "#bd3786"
             ],
             [
              0.5555555555555556,
              "#d8576b"
             ],
             [
              0.6666666666666666,
              "#ed7953"
             ],
             [
              0.7777777777777778,
              "#fb9f3a"
             ],
             [
              0.8888888888888888,
              "#fdca26"
             ],
             [
              1,
              "#f0f921"
             ]
            ],
            "type": "histogram2d"
           }
          ],
          "histogram2dcontour": [
           {
            "colorbar": {
             "outlinewidth": 0,
             "ticks": ""
            },
            "colorscale": [
             [
              0,
              "#0d0887"
             ],
             [
              0.1111111111111111,
              "#46039f"
             ],
             [
              0.2222222222222222,
              "#7201a8"
             ],
             [
              0.3333333333333333,
              "#9c179e"
             ],
             [
              0.4444444444444444,
              "#bd3786"
             ],
             [
              0.5555555555555556,
              "#d8576b"
             ],
             [
              0.6666666666666666,
              "#ed7953"
             ],
             [
              0.7777777777777778,
              "#fb9f3a"
             ],
             [
              0.8888888888888888,
              "#fdca26"
             ],
             [
              1,
              "#f0f921"
             ]
            ],
            "type": "histogram2dcontour"
           }
          ],
          "mesh3d": [
           {
            "colorbar": {
             "outlinewidth": 0,
             "ticks": ""
            },
            "type": "mesh3d"
           }
          ],
          "parcoords": [
           {
            "line": {
             "colorbar": {
              "outlinewidth": 0,
              "ticks": ""
             }
            },
            "type": "parcoords"
           }
          ],
          "pie": [
           {
            "automargin": true,
            "type": "pie"
           }
          ],
          "scatter": [
           {
            "fillpattern": {
             "fillmode": "overlay",
             "size": 10,
             "solidity": 0.2
            },
            "type": "scatter"
           }
          ],
          "scatter3d": [
           {
            "line": {
             "colorbar": {
              "outlinewidth": 0,
              "ticks": ""
             }
            },
            "marker": {
             "colorbar": {
              "outlinewidth": 0,
              "ticks": ""
             }
            },
            "type": "scatter3d"
           }
          ],
          "scattercarpet": [
           {
            "marker": {
             "colorbar": {
              "outlinewidth": 0,
              "ticks": ""
             }
            },
            "type": "scattercarpet"
           }
          ],
          "scattergeo": [
           {
            "marker": {
             "colorbar": {
              "outlinewidth": 0,
              "ticks": ""
             }
            },
            "type": "scattergeo"
           }
          ],
          "scattergl": [
           {
            "marker": {
             "colorbar": {
              "outlinewidth": 0,
              "ticks": ""
             }
            },
            "type": "scattergl"
           }
          ],
          "scattermap": [
           {
            "marker": {
             "colorbar": {
              "outlinewidth": 0,
              "ticks": ""
             }
            },
            "type": "scattermap"
           }
          ],
          "scattermapbox": [
           {
            "marker": {
             "colorbar": {
              "outlinewidth": 0,
              "ticks": ""
             }
            },
            "type": "scattermapbox"
           }
          ],
          "scatterpolar": [
           {
            "marker": {
             "colorbar": {
              "outlinewidth": 0,
              "ticks": ""
             }
            },
            "type": "scatterpolar"
           }
          ],
          "scatterpolargl": [
           {
            "marker": {
             "colorbar": {
              "outlinewidth": 0,
              "ticks": ""
             }
            },
            "type": "scatterpolargl"
           }
          ],
          "scatterternary": [
           {
            "marker": {
             "colorbar": {
              "outlinewidth": 0,
              "ticks": ""
             }
            },
            "type": "scatterternary"
           }
          ],
          "surface": [
           {
            "colorbar": {
             "outlinewidth": 0,
             "ticks": ""
            },
            "colorscale": [
             [
              0,
              "#0d0887"
             ],
             [
              0.1111111111111111,
              "#46039f"
             ],
             [
              0.2222222222222222,
              "#7201a8"
             ],
             [
              0.3333333333333333,
              "#9c179e"
             ],
             [
              0.4444444444444444,
              "#bd3786"
             ],
             [
              0.5555555555555556,
              "#d8576b"
             ],
             [
              0.6666666666666666,
              "#ed7953"
             ],
             [
              0.7777777777777778,
              "#fb9f3a"
             ],
             [
              0.8888888888888888,
              "#fdca26"
             ],
             [
              1,
              "#f0f921"
             ]
            ],
            "type": "surface"
           }
          ],
          "table": [
           {
            "cells": {
             "fill": {
              "color": "#EBF0F8"
             },
             "line": {
              "color": "white"
             }
            },
            "header": {
             "fill": {
              "color": "#C8D4E3"
             },
             "line": {
              "color": "white"
             }
            },
            "type": "table"
           }
          ]
         },
         "layout": {
          "annotationdefaults": {
           "arrowcolor": "#2a3f5f",
           "arrowhead": 0,
           "arrowwidth": 1
          },
          "autotypenumbers": "strict",
          "coloraxis": {
           "colorbar": {
            "outlinewidth": 0,
            "ticks": ""
           }
          },
          "colorscale": {
           "diverging": [
            [
             0,
             "#8e0152"
            ],
            [
             0.1,
             "#c51b7d"
            ],
            [
             0.2,
             "#de77ae"
            ],
            [
             0.3,
             "#f1b6da"
            ],
            [
             0.4,
             "#fde0ef"
            ],
            [
             0.5,
             "#f7f7f7"
            ],
            [
             0.6,
             "#e6f5d0"
            ],
            [
             0.7,
             "#b8e186"
            ],
            [
             0.8,
             "#7fbc41"
            ],
            [
             0.9,
             "#4d9221"
            ],
            [
             1,
             "#276419"
            ]
           ],
           "sequential": [
            [
             0,
             "#0d0887"
            ],
            [
             0.1111111111111111,
             "#46039f"
            ],
            [
             0.2222222222222222,
             "#7201a8"
            ],
            [
             0.3333333333333333,
             "#9c179e"
            ],
            [
             0.4444444444444444,
             "#bd3786"
            ],
            [
             0.5555555555555556,
             "#d8576b"
            ],
            [
             0.6666666666666666,
             "#ed7953"
            ],
            [
             0.7777777777777778,
             "#fb9f3a"
            ],
            [
             0.8888888888888888,
             "#fdca26"
            ],
            [
             1,
             "#f0f921"
            ]
           ],
           "sequentialminus": [
            [
             0,
             "#0d0887"
            ],
            [
             0.1111111111111111,
             "#46039f"
            ],
            [
             0.2222222222222222,
             "#7201a8"
            ],
            [
             0.3333333333333333,
             "#9c179e"
            ],
            [
             0.4444444444444444,
             "#bd3786"
            ],
            [
             0.5555555555555556,
             "#d8576b"
            ],
            [
             0.6666666666666666,
             "#ed7953"
            ],
            [
             0.7777777777777778,
             "#fb9f3a"
            ],
            [
             0.8888888888888888,
             "#fdca26"
            ],
            [
             1,
             "#f0f921"
            ]
           ]
          },
          "colorway": [
           "#636efa",
           "#EF553B",
           "#00cc96",
           "#ab63fa",
           "#FFA15A",
           "#19d3f3",
           "#FF6692",
           "#B6E880",
           "#FF97FF",
           "#FECB52"
          ],
          "font": {
           "color": "#2a3f5f"
          },
          "geo": {
           "bgcolor": "white",
           "lakecolor": "white",
           "landcolor": "white",
           "showlakes": true,
           "showland": true,
           "subunitcolor": "#C8D4E3"
          },
          "hoverlabel": {
           "align": "left"
          },
          "hovermode": "closest",
          "mapbox": {
           "style": "light"
          },
          "paper_bgcolor": "white",
          "plot_bgcolor": "white",
          "polar": {
           "angularaxis": {
            "gridcolor": "#EBF0F8",
            "linecolor": "#EBF0F8",
            "ticks": ""
           },
           "bgcolor": "white",
           "radialaxis": {
            "gridcolor": "#EBF0F8",
            "linecolor": "#EBF0F8",
            "ticks": ""
           }
          },
          "scene": {
           "xaxis": {
            "backgroundcolor": "white",
            "gridcolor": "#DFE8F3",
            "gridwidth": 2,
            "linecolor": "#EBF0F8",
            "showbackground": true,
            "ticks": "",
            "zerolinecolor": "#EBF0F8"
           },
           "yaxis": {
            "backgroundcolor": "white",
            "gridcolor": "#DFE8F3",
            "gridwidth": 2,
            "linecolor": "#EBF0F8",
            "showbackground": true,
            "ticks": "",
            "zerolinecolor": "#EBF0F8"
           },
           "zaxis": {
            "backgroundcolor": "white",
            "gridcolor": "#DFE8F3",
            "gridwidth": 2,
            "linecolor": "#EBF0F8",
            "showbackground": true,
            "ticks": "",
            "zerolinecolor": "#EBF0F8"
           }
          },
          "shapedefaults": {
           "line": {
            "color": "#2a3f5f"
           }
          },
          "ternary": {
           "aaxis": {
            "gridcolor": "#DFE8F3",
            "linecolor": "#A2B1C6",
            "ticks": ""
           },
           "baxis": {
            "gridcolor": "#DFE8F3",
            "linecolor": "#A2B1C6",
            "ticks": ""
           },
           "bgcolor": "white",
           "caxis": {
            "gridcolor": "#DFE8F3",
            "linecolor": "#A2B1C6",
            "ticks": ""
           }
          },
          "title": {
           "x": 0.05
          },
          "xaxis": {
           "automargin": true,
           "gridcolor": "#EBF0F8",
           "linecolor": "#EBF0F8",
           "ticks": "",
           "title": {
            "standoff": 15
           },
           "zerolinecolor": "#EBF0F8",
           "zerolinewidth": 2
          },
          "yaxis": {
           "automargin": true,
           "gridcolor": "#EBF0F8",
           "linecolor": "#EBF0F8",
           "ticks": "",
           "title": {
            "standoff": 15
           },
           "zerolinecolor": "#EBF0F8",
           "zerolinewidth": 2
          }
         }
        },
        "title": {
         "text": "CLL_EPITYPE by Origin ID"
        },
        "xaxis": {
         "anchor": "y",
         "domain": [
          0,
          1
         ],
         "title": {
          "text": "originId"
         }
        },
        "yaxis": {
         "anchor": "x",
         "domain": [
          0,
          1
         ],
         "title": {
          "text": "count"
         }
        }
       }
      }
     },
     "metadata": {},
     "output_type": "display_data"
    }
   ],
   "source": [
    "df_sub = df.dropna(subset=['CLL_EPITYPE'])\n",
    "fig = px.histogram(df_sub, x='originId', color='CLL_EPITYPE',\n",
    "                   title='CLL_EPITYPE by Origin ID',\n",
    "                   barmode='stack')\n",
    "fig.show()"
   ]
  },
  {
   "cell_type": "code",
   "execution_count": 434,
   "id": "06351727",
   "metadata": {},
   "outputs": [
    {
     "data": {
      "text/plain": [
       "np.int64(0)"
      ]
     },
     "execution_count": 434,
     "metadata": {},
     "output_type": "execute_result"
    }
   ],
   "source": [
    "df[df['originId'] == 7]['CLL_EPITYPE'].isnull().sum()"
   ]
  },
  {
   "cell_type": "code",
   "execution_count": 435,
   "id": "6760394e",
   "metadata": {},
   "outputs": [
    {
     "name": "stderr",
     "output_type": "stream",
     "text": [
      "/var/folders/_x/_k57kbwj3f11_drmx91npc7w0000gn/T/ipykernel_86925/254022526.py:1: DeprecationWarning:\n",
      "\n",
      "DataFrameGroupBy.apply operated on the grouping columns. This behavior is deprecated, and in a future version of pandas the grouping columns will be excluded from the operation. Either pass `include_groups=False` to exclude the groupings or explicitly select the grouping columns after groupby to silence this warning.\n",
      "\n"
     ]
    },
    {
     "data": {
      "image/png": "[encoded data removed]",
      "text/plain": [
       "<Figure size 1200x600 with 2 Axes>"
      ]
     },
     "metadata": {},
     "output_type": "display_data"
    }
   ],
   "source": [
    "missing = df.groupby('originId').apply(lambda x: x.isna().mean()).T\n",
    "plt.figure(figsize=(12, 6))\n",
    "sns.heatmap(missing, cmap='Reds', cbar_kws={'label': '% Missing'})\n",
    "plt.title(\"Feature Missingness by originId\")\n",
    "plt.ylabel(\"Feature\")\n",
    "plt.xlabel(\"Origin ID\")\n",
    "plt.tight_layout()\n",
    "plt.show()"
   ]
  },
  {
   "cell_type": "code",
   "execution_count": 436,
   "id": "5c5826cb",
   "metadata": {},
   "outputs": [
    {
     "data": {
      "application/vnd.plotly.v1+json": {
       "config": {
        "plotlyServerURL": "https://plot.ly"
       },
       "data": [
        {
         "alignmentgroup": "True",
         "hovertemplate": "CLL_EPITYPE=%{x}<br>AGE=%{y}<extra></extra>",
         "legendgroup": "n-CLL",
         "marker": {
          "color": "#636efa"
         },
         "name": "n-CLL",
         "notched": false,
         "offsetgroup": "n-CLL",
         "orientation": "v",
         "showlegend": true,
         "type": "box",
         "x": [
          "n-CLL",
          "n-CLL",
          "n-CLL",
          "n-CLL",
          "n-CLL",
          "n-CLL",
          "n-CLL",
          "n-CLL",
          "n-CLL",
          "n-CLL",
          "n-CLL",
          "n-CLL",
          "n-CLL",
          "n-CLL",
          "n-CLL",
          "n-CLL",
          "n-CLL",
          "n-CLL",
          "n-CLL",
          "n-CLL",
          "n-CLL",
          "n-CLL",
          "n-CLL",
          "n-CLL",
          "n-CLL",
          "n-CLL",
          "n-CLL",
          "n-CLL",
          "n-CLL",
          "n-CLL",
          "n-CLL",
          "n-CLL",
          "n-CLL",
          "n-CLL",
          "n-CLL",
          "n-CLL",
          "n-CLL",
          "n-CLL",
          "n-CLL",
          "n-CLL",
          "n-CLL",
          "n-CLL",
          "n-CLL",
          "n-CLL",
          "n-CLL",
          "n-CLL",
          "n-CLL",
          "n-CLL",
          "n-CLL",
          "n-CLL",
          "n-CLL",
          "n-CLL",
          "n-CLL",
          "n-CLL",
          "n-CLL",
          "n-CLL",
          "n-CLL",
          "n-CLL",
          "n-CLL",
          "n-CLL",
          "n-CLL",
          "n-CLL",
          "n-CLL",
          "n-CLL",
          "n-CLL",
          "n-CLL",
          "n-CLL",
          "n-CLL",
          "n-CLL",
          "n-CLL",
          "n-CLL",
          "n-CLL",
          "n-CLL",
          "n-CLL",
          "n-CLL",
          "n-CLL",
          "n-CLL",
          "n-CLL",
          "n-CLL",
          "n-CLL",
          "n-CLL",
          "n-CLL",
          "n-CLL",
          "n-CLL",
          "n-CLL",
          "n-CLL",
          "n-CLL",
          "n-CLL",
          "n-CLL",
          "n-CLL",
          "n-CLL",
          "n-CLL",
          "n-CLL",
          "n-CLL",
          "n-CLL",
          "n-CLL",
          "n-CLL",
          "n-CLL",
          "n-CLL",
          "n-CLL",
          "n-CLL",
          "n-CLL",
          "n-CLL",
          "n-CLL",
          "n-CLL",
          "n-CLL",
          "n-CLL",
          "n-CLL",
          "n-CLL",
          "n-CLL",
          "n-CLL",
          "n-CLL",
          "n-CLL",
          "n-CLL",
          "n-CLL",
          "n-CLL",
          "n-CLL",
          "n-CLL",
          "n-CLL",
          "n-CLL",
          "n-CLL",
          "n-CLL",
          "n-CLL",
          "n-CLL",
          "n-CLL",
          "n-CLL",
          "n-CLL",
          "n-CLL",
          "n-CLL",
          "n-CLL",
          "n-CLL",
          "n-CLL",
          "n-CLL",
          "n-CLL",
          "n-CLL",
          "n-CLL",
          "n-CLL",
          "n-CLL",
          "n-CLL",
          "n-CLL",
          "n-CLL",
          "n-CLL",
          "n-CLL",
          "n-CLL",
          "n-CLL",
          "n-CLL",
          "n-CLL",
          "n-CLL",
          "n-CLL",
          "n-CLL",
          "n-CLL",
          "n-CLL",
          "n-CLL",
          "n-CLL",
          "n-CLL",
          "n-CLL",
          "n-CLL",
          "n-CLL",
          "n-CLL",
          "n-CLL",
          "n-CLL",
          "n-CLL",
          "n-CLL",
          "n-CLL",
          "n-CLL",
          "n-CLL",
          "n-CLL",
          "n-CLL",
          "n-CLL",
          "n-CLL",
          "n-CLL",
          "n-CLL",
          "n-CLL",
          "n-CLL",
          "n-CLL",
          "n-CLL",
          "n-CLL",
          "n-CLL",
          "n-CLL",
          "n-CLL",
          "n-CLL",
          "n-CLL",
          "n-CLL",
          "n-CLL",
          "n-CLL",
          "n-CLL",
          "n-CLL",
          "n-CLL",
          "n-CLL",
          "n-CLL",
          "n-CLL",
          "n-CLL",
          "n-CLL",
          "n-CLL",
          "n-CLL",
          "n-CLL",
          "n-CLL",
          "n-CLL",
          "n-CLL",
          "n-CLL",
          "n-CLL",
          "n-CLL",
          "n-CLL",
          "n-CLL",
          "n-CLL",
          "n-CLL",
          "n-CLL",
          "n-CLL",
          "n-CLL",
          "n-CLL",
          "n-CLL",
          "n-CLL",
          "n-CLL",
          "n-CLL",
          "n-CLL",
          "n-CLL",
          "n-CLL",
          "n-CLL",
          "n-CLL",
          "n-CLL",
          "n-CLL",
          "n-CLL",
          "n-CLL",
          "n-CLL",
          "n-CLL",
          "n-CLL",
          "n-CLL",
          "n-CLL",
          "n-CLL",
          "n-CLL",
          "n-CLL",
          "n-CLL",
          "n-CLL",
          "n-CLL",
          "n-CLL",
          "n-CLL",
          "n-CLL",
          "n-CLL",
          "n-CLL",
          "n-CLL",
          "n-CLL",
          "n-CLL",
          "n-CLL",
          "n-CLL",
          "n-CLL",
          "n-CLL",
          "n-CLL",
          "n-CLL",
          "n-CLL",
          "n-CLL",
          "n-CLL",
          "n-CLL",
          "n-CLL",
          "n-CLL",
          "n-CLL",
          "n-CLL",
          "n-CLL",
          "n-CLL",
          "n-CLL",
          "n-CLL",
          "n-CLL",
          "n-CLL",
          "n-CLL",
          "n-CLL",
          "n-CLL",
          "n-CLL",
          "n-CLL",
          "n-CLL",
          "n-CLL",
          "n-CLL",
          "n-CLL",
          "n-CLL",
          "n-CLL",
          "n-CLL",
          "n-CLL",
          "n-CLL",
          "n-CLL",
          "n-CLL",
          "n-CLL",
          "n-CLL",
          "n-CLL",
          "n-CLL",
          "n-CLL",
          "n-CLL",
          "n-CLL",
          "n-CLL",
          "n-CLL",
          "n-CLL",
          "n-CLL",
          "n-CLL",
          "n-CLL",
          "n-CLL",
          "n-CLL",
          "n-CLL",
          "n-CLL",
          "n-CLL",
          "n-CLL",
          "n-CLL",
          "n-CLL",
          "n-CLL",
          "n-CLL",
          "n-CLL",
          "n-CLL",
          "n-CLL",
          "n-CLL",
          "n-CLL",
          "n-CLL",
          "n-CLL",
          "n-CLL",
          "n-CLL",
          "n-CLL",
          "n-CLL",
          "n-CLL",
          "n-CLL",
          "n-CLL",
          "n-CLL",
          "n-CLL",
          "n-CLL",
          "n-CLL",
          "n-CLL",
          "n-CLL",
          "n-CLL",
          "n-CLL",
          "n-CLL",
          "n-CLL",
          "n-CLL",
          "n-CLL",
          "n-CLL",
          "n-CLL",
          "n-CLL",
          "n-CLL",
          "n-CLL",
          "n-CLL",
          "n-CLL",
          "n-CLL",
          "n-CLL",
          "n-CLL",
          "n-CLL",
          "n-CLL",
          "n-CLL",
          "n-CLL",
          "n-CLL",
          "n-CLL",
          "n-CLL",
          "n-CLL",
          "n-CLL",
          "n-CLL",
          "n-CLL",
          "n-CLL",
          "n-CLL",
          "n-CLL",
          "n-CLL",
          "n-CLL",
          "n-CLL",
          "n-CLL",
          "n-CLL",
          "n-CLL",
          "n-CLL",
          "n-CLL",
          "n-CLL",
          "n-CLL"
         ],
         "x0": " ",
         "xaxis": "x",
         "y": {
          "bdata": "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",
          "dtype": "f8"
         },
         "y0": " ",
         "yaxis": "y"
        },
        {
         "alignmentgroup": "True",
         "hovertemplate": "CLL_EPITYPE=%{x}<br>AGE=%{y}<extra></extra>",
         "legendgroup": "m-CLL",
         "marker": {
          "color": "#EF553B"
         },
         "name": "m-CLL",
         "notched": false,
         "offsetgroup": "m-CLL",
         "orientation": "v",
         "showlegend": true,
         "type": "box",
         "x": [
          "m-CLL",
          "m-CLL",
          "m-CLL",
          "m-CLL",
          "m-CLL",
          "m-CLL",
          "m-CLL",
          "m-CLL",
          "m-CLL",
          "m-CLL",
          "m-CLL",
          "m-CLL",
          "m-CLL",
          "m-CLL",
          "m-CLL",
          "m-CLL",
          "m-CLL",
          "m-CLL",
          "m-CLL",
          "m-CLL",
          "m-CLL",
          "m-CLL",
          "m-CLL",
          "m-CLL",
          "m-CLL",
          "m-CLL",
          "m-CLL",
          "m-CLL",
          "m-CLL",
          "m-CLL",
          "m-CLL",
          "m-CLL",
          "m-CLL",
          "m-CLL",
          "m-CLL",
          "m-CLL",
          "m-CLL",
          "m-CLL",
          "m-CLL",
          "m-CLL",
          "m-CLL",
          "m-CLL",
          "m-CLL",
          "m-CLL",
          "m-CLL",
          "m-CLL",
          "m-CLL",
          "m-CLL",
          "m-CLL",
          "m-CLL",
          "m-CLL",
          "m-CLL",
          "m-CLL",
          "m-CLL",
          "m-CLL",
          "m-CLL",
          "m-CLL",
          "m-CLL",
          "m-CLL",
          "m-CLL",
          "m-CLL",
          "m-CLL",
          "m-CLL",
          "m-CLL",
          "m-CLL",
          "m-CLL",
          "m-CLL",
          "m-CLL",
          "m-CLL",
          "m-CLL",
          "m-CLL",
          "m-CLL",
          "m-CLL",
          "m-CLL",
          "m-CLL",
          "m-CLL",
          "m-CLL",
          "m-CLL",
          "m-CLL",
          "m-CLL",
          "m-CLL",
          "m-CLL",
          "m-CLL",
          "m-CLL",
          "m-CLL",
          "m-CLL",
          "m-CLL",
          "m-CLL",
          "m-CLL",
          "m-CLL",
          "m-CLL",
          "m-CLL",
          "m-CLL",
          "m-CLL",
          "m-CLL",
          "m-CLL",
          "m-CLL",
          "m-CLL",
          "m-CLL",
          "m-CLL",
          "m-CLL",
          "m-CLL",
          "m-CLL",
          "m-CLL",
          "m-CLL",
          "m-CLL",
          "m-CLL",
          "m-CLL",
          "m-CLL",
          "m-CLL",
          "m-CLL",
          "m-CLL",
          "m-CLL",
          "m-CLL",
          "m-CLL",
          "m-CLL",
          "m-CLL",
          "m-CLL",
          "m-CLL",
          "m-CLL",
          "m-CLL",
          "m-CLL",
          "m-CLL",
          "m-CLL",
          "m-CLL",
          "m-CLL",
          "m-CLL",
          "m-CLL",
          "m-CLL",
          "m-CLL",
          "m-CLL",
          "m-CLL",
          "m-CLL",
          "m-CLL",
          "m-CLL",
          "m-CLL",
          "m-CLL",
          "m-CLL",
          "m-CLL",
          "m-CLL",
          "m-CLL",
          "m-CLL",
          "m-CLL",
          "m-CLL",
          "m-CLL",
          "m-CLL",
          "m-CLL",
          "m-CLL",
          "m-CLL",
          "m-CLL",
          "m-CLL",
          "m-CLL",
          "m-CLL",
          "m-CLL",
          "m-CLL",
          "m-CLL",
          "m-CLL",
          "m-CLL",
          "m-CLL",
          "m-CLL",
          "m-CLL",
          "m-CLL",
          "m-CLL",
          "m-CLL",
          "m-CLL",
          "m-CLL",
          "m-CLL",
          "m-CLL",
          "m-CLL",
          "m-CLL",
          "m-CLL",
          "m-CLL",
          "m-CLL",
          "m-CLL",
          "m-CLL",
          "m-CLL",
          "m-CLL",
          "m-CLL",
          "m-CLL",
          "m-CLL",
          "m-CLL",
          "m-CLL",
          "m-CLL",
          "m-CLL",
          "m-CLL",
          "m-CLL",
          "m-CLL",
          "m-CLL",
          "m-CLL",
          "m-CLL",
          "m-CLL",
          "m-CLL",
          "m-CLL",
          "m-CLL",
          "m-CLL",
          "m-CLL",
          "m-CLL",
          "m-CLL",
          "m-CLL",
          "m-CLL",
          "m-CLL",
          "m-CLL",
          "m-CLL",
          "m-CLL",
          "m-CLL",
          "m-CLL",
          "m-CLL",
          "m-CLL",
          "m-CLL",
          "m-CLL",
          "m-CLL",
          "m-CLL",
          "m-CLL",
          "m-CLL",
          "m-CLL",
          "m-CLL",
          "m-CLL",
          "m-CLL",
          "m-CLL",
          "m-CLL",
          "m-CLL",
          "m-CLL",
          "m-CLL",
          "m-CLL",
          "m-CLL",
          "m-CLL",
          "m-CLL",
          "m-CLL",
          "m-CLL",
          "m-CLL",
          "m-CLL",
          "m-CLL",
          "m-CLL",
          "m-CLL",
          "m-CLL",
          "m-CLL",
          "m-CLL",
          "m-CLL",
          "m-CLL",
          "m-CLL",
          "m-CLL",
          "m-CLL",
          "m-CLL",
          "m-CLL",
          "m-CLL",
          "m-CLL",
          "m-CLL",
          "m-CLL",
          "m-CLL",
          "m-CLL",
          "m-CLL",
          "m-CLL",
          "m-CLL",
          "m-CLL",
          "m-CLL",
          "m-CLL",
          "m-CLL",
          "m-CLL",
          "m-CLL",
          "m-CLL",
          "m-CLL",
          "m-CLL",
          "m-CLL",
          "m-CLL",
          "m-CLL",
          "m-CLL",
          "m-CLL",
          "m-CLL",
          "m-CLL",
          "m-CLL",
          "m-CLL",
          "m-CLL",
          "m-CLL",
          "m-CLL",
          "m-CLL",
          "m-CLL",
          "m-CLL",
          "m-CLL",
          "m-CLL",
          "m-CLL",
          "m-CLL",
          "m-CLL",
          "m-CLL",
          "m-CLL",
          "m-CLL",
          "m-CLL",
          "m-CLL",
          "m-CLL",
          "m-CLL",
          "m-CLL",
          "m-CLL",
          "m-CLL",
          "m-CLL",
          "m-CLL",
          "m-CLL",
          "m-CLL",
          "m-CLL",
          "m-CLL",
          "m-CLL",
          "m-CLL",
          "m-CLL",
          "m-CLL",
          "m-CLL",
          "m-CLL",
          "m-CLL",
          "m-CLL",
          "m-CLL",
          "m-CLL",
          "m-CLL",
          "m-CLL",
          "m-CLL",
          "m-CLL",
          "m-CLL",
          "m-CLL",
          "m-CLL",
          "m-CLL",
          "m-CLL",
          "m-CLL",
          "m-CLL",
          "m-CLL",
          "m-CLL",
          "m-CLL",
          "m-CLL",
          "m-CLL",
          "m-CLL",
          "m-CLL",
          "m-CLL",
          "m-CLL",
          "m-CLL",
          "m-CLL",
          "m-CLL",
          "m-CLL",
          "m-CLL"
         ],
         "x0": " ",
         "xaxis": "x",
         "y": {
          "bdata": "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",
          "dtype": "f8"
         },
         "y0": " ",
         "yaxis": "y"
        },
        {
         "alignmentgroup": "True",
         "hovertemplate": "CLL_EPITYPE=%{x}<br>AGE=%{y}<extra></extra>",
         "legendgroup": "unclassified",
         "marker": {
          "color": "#00cc96"
         },
         "name": "unclassified",
         "notched": false,
         "offsetgroup": "unclassified",
         "orientation": "v",
         "showlegend": true,
         "type": "box",
         "x": [
          "unclassified",
          "unclassified",
          "unclassified",
          "unclassified",
          "unclassified",
          "unclassified",
          "unclassified",
          "unclassified",
          "unclassified",
          "unclassified",
          "unclassified",
          "unclassified",
          "unclassified",
          "unclassified",
          "unclassified",
          "unclassified",
          "unclassified",
          "unclassified",
          "unclassified",
          "unclassified",
          "unclassified",
          "unclassified",
          "unclassified",
          "unclassified",
          "unclassified",
          "unclassified",
          "unclassified",
          "unclassified",
          "unclassified",
          "unclassified",
          "unclassified",
          "unclassified",
          "unclassified",
          "unclassified",
          "unclassified",
          "unclassified",
          "unclassified",
          "unclassified",
          "unclassified",
          "unclassified",
          "unclassified",
          "unclassified",
          "unclassified",
          "unclassified",
          "unclassified",
          "unclassified",
          "unclassified",
          "unclassified",
          "unclassified",
          "unclassified",
          "unclassified",
          "unclassified",
          "unclassified",
          "unclassified",
          "unclassified",
          "unclassified",
          "unclassified",
          "unclassified",
          "unclassified",
          "unclassified",
          "unclassified",
          "unclassified",
          "unclassified",
          "unclassified",
          "unclassified",
          "unclassified",
          "unclassified",
          "unclassified",
          "unclassified",
          "unclassified",
          "unclassified",
          "unclassified",
          "unclassified",
          "unclassified",
          "unclassified",
          "unclassified",
          "unclassified",
          "unclassified",
          "unclassified",
          "unclassified",
          "unclassified",
          "unclassified",
          "unclassified",
          "unclassified",
          "unclassified",
          "unclassified",
          "unclassified",
          "unclassified",
          "unclassified",
          "unclassified",
          "unclassified",
          "unclassified",
          "unclassified",
          "unclassified",
          "unclassified",
          "unclassified",
          "unclassified",
          "unclassified",
          "unclassified",
          "unclassified",
          "unclassified",
          "unclassified",
          "unclassified",
          "unclassified",
          "unclassified",
          "unclassified",
          "unclassified",
          "unclassified",
          "unclassified",
          "unclassified",
          "unclassified",
          "unclassified",
          "unclassified",
          "unclassified",
          "unclassified",
          "unclassified",
          "unclassified",
          "unclassified",
          "unclassified",
          "unclassified",
          "unclassified",
          "unclassified",
          "unclassified",
          "unclassified",
          "unclassified",
          "unclassified",
          "unclassified",
          "unclassified",
          "unclassified",
          "unclassified",
          "unclassified",
          "unclassified",
          "unclassified",
          "unclassified",
          "unclassified"
         ],
         "x0": " ",
         "xaxis": "x",
         "y": {
          "bdata": "AAAAAACATEAAAAAAAIBMQAAAAAAAAEtAAAAAAAAAS0AAAAAAAABMQAAAAAAAgEpAAAAAAAAAQUAAAAAAAABLQAAAAAAAAElAAAAAAACASkAAAAAAAIBJQAAAAAAAgEJAAAAAAAAAR0AAAAAAAABGQAAAAAAAgFBAAAAAAACASkAAAAAAAABIQAAAAAAAAFBAAAAAAAAAS0AAAAAAAABPQAAAAAAAAElAAAAAAADAUUAAAAAAAIBGQAAAAAAAAE5AAAAAAAAATUAAAAAAAIBKQAAAAAAAgExAAAAAAACATkAAAAAAAIBJQAAAAAAAAE1AAAAAAACAR0AAAAAAAABQQAAAAAAAAE5AAAAAAACAS0AAAAAAAIBOQAAAAAAAAE1AAAAAAACASUAAAAAAAABQQAAAAAAAAEVAAAAAAAAATkAAAAAAAABGQAAAAAAAAElAAAAAAACASkAAAAAAAEBTQAAAAAAAAE9AAAAAAAAASEAAAAAAAIBKQAAAAAAAgE1AAAAAAAAAQkAAAAAAAIBQQAAAAAAAgEdAAAAAAAAAUEAAAAAAAABEQAAAAAAAAExAAAAAAAAASkAAAAAAAIBKQAAAAAAAgElAAAAAAACASkAAAAAAAABJQAAAAAAAAEtAAAAAAACAS0AAAAAAAIBGQAAAAAAAgE5AAAAAAACASkAAAAAAAIBEQAAAAAAAgE5AAAAAAACARkAAAAAAAIBUQAAAAAAAAEFAAAAAAACAVEAAAAAAAABEQAAAAAAAgERAAAAAAADAUEAAAAAAAABAQAAAAAAAQFNAAAAAAACAUkAAAAAAAABCQAAAAAAAwFBAAAAAAACARkAAAAAAAABOQAAAAAAAAEVAAAAAAACAS0AAAAAAAIBGQAAAAAAAwFJAAAAAAACAQkAAAAAAAEBQQAAAAAAAgERAAAAAAABAUEAAAAAAAIBQQAAAAAAAAEZAAAAAAACARkAAAAAAAIBMQAAAAAAAgEpAAAAAAAAAQ0AAAAAAAIBJQAAAAAAAgEdAAAAAAACAUkAAAAAAAABDQAAAAAAAAENAAAAAAAAATUAAAAAAAIBQQAAAAAAAgElAAAAAAAAAR0AAAAAAAABPQAAAAAAAAEVAAAAAAAAAS0AAAAAAAABKQAAAAAAAgE5AAAAAAAAATkAAAAAAAIBLQAAAAAAAAEtAAAAAAACAUUAAAAAAAEBRQAAAAAAAAE5AAAAAAACAVUAAAAAAAABPQAAAAAAAAFBAAAAAAACAVEAAAAAAAIBNQAAAAAAAgFBAAAAAAACAUkAAAAAAAIBSQAAAAAAAgE9AAAAAAACAUUAAAAAAAMBSQAAAAAAAgE9AAAAAAAAAQkAAAAAAAIBKQAAAAAAAAFJAAAAAAAAATUAAAAAAAIBQQAAAAAAAAFJAAAAAAACATkAAAAAAAIBJQAAAAAAAgFJA",
          "dtype": "f8"
         },
         "y0": " ",
         "yaxis": "y"
        },
        {
         "alignmentgroup": "True",
         "hovertemplate": "CLL_EPITYPE=%{x}<br>AGE=%{y}<extra></extra>",
         "legendgroup": "i-CLL",
         "marker": {
          "color": "#ab63fa"
         },
         "name": "i-CLL",
         "notched": false,
         "offsetgroup": "i-CLL",
         "orientation": "v",
         "showlegend": true,
         "type": "box",
         "x": [
          "i-CLL",
          "i-CLL",
          "i-CLL",
          "i-CLL",
          "i-CLL",
          "i-CLL",
          "i-CLL",
          "i-CLL",
          "i-CLL",
          "i-CLL",
          "i-CLL",
          "i-CLL",
          "i-CLL",
          "i-CLL",
          "i-CLL",
          "i-CLL",
          "i-CLL",
          "i-CLL",
          "i-CLL",
          "i-CLL",
          "i-CLL",
          "i-CLL",
          "i-CLL",
          "i-CLL",
          "i-CLL",
          "i-CLL",
          "i-CLL",
          "i-CLL",
          "i-CLL",
          "i-CLL",
          "i-CLL",
          "i-CLL",
          "i-CLL",
          "i-CLL",
          "i-CLL",
          "i-CLL",
          "i-CLL",
          "i-CLL",
          "i-CLL",
          "i-CLL",
          "i-CLL",
          "i-CLL",
          "i-CLL",
          "i-CLL",
          "i-CLL",
          "i-CLL",
          "i-CLL",
          "i-CLL",
          "i-CLL",
          "i-CLL",
          "i-CLL",
          "i-CLL",
          "i-CLL",
          "i-CLL",
          "i-CLL",
          "i-CLL",
          "i-CLL",
          "i-CLL",
          "i-CLL",
          "i-CLL",
          "i-CLL",
          "i-CLL",
          "i-CLL",
          "i-CLL",
          "i-CLL",
          "i-CLL",
          "i-CLL",
          "i-CLL",
          "i-CLL",
          "i-CLL",
          "i-CLL",
          "i-CLL",
          "i-CLL",
          "i-CLL",
          "i-CLL",
          "i-CLL",
          "i-CLL",
          "i-CLL",
          "i-CLL",
          "i-CLL",
          "i-CLL",
          "i-CLL",
          "i-CLL",
          "i-CLL",
          "i-CLL",
          "i-CLL",
          "i-CLL",
          "i-CLL",
          "i-CLL",
          "i-CLL",
          "i-CLL",
          "i-CLL",
          "i-CLL",
          "i-CLL",
          "i-CLL",
          "i-CLL",
          "i-CLL",
          "i-CLL",
          "i-CLL",
          "i-CLL",
          "i-CLL",
          "i-CLL",
          "i-CLL",
          "i-CLL",
          "i-CLL",
          "i-CLL",
          "i-CLL",
          "i-CLL",
          "i-CLL",
          "i-CLL",
          "i-CLL",
          "i-CLL",
          "i-CLL",
          "i-CLL",
          "i-CLL",
          "i-CLL",
          "i-CLL",
          "i-CLL",
          "i-CLL",
          "i-CLL",
          "i-CLL",
          "i-CLL",
          "i-CLL",
          "i-CLL",
          "i-CLL",
          "i-CLL",
          "i-CLL",
          "i-CLL",
          "i-CLL",
          "i-CLL",
          "i-CLL",
          "i-CLL",
          "i-CLL",
          "i-CLL"
         ],
         "x0": " ",
         "xaxis": "x",
         "y": {
          "bdata": "AAAAAAAAUkAAAAAAAABOQAAAAAAAAE1AAAAAAACARkAAAAAAAABKQAAAAAAAAEJAAAAAAACATUAAAAAAAABKQAAAAAAAgEZAAAAAAAAAUEAAAAAAAIBJQAAAAAAAQFFAAAAAAAAASUAAAAAAAABGQAAAAAAAgElAAAAAAABAUUAAAAAAAABLQAAAAAAAgEhAAAAAAAAAUEAAAAAAAABRQAAAAAAAAEZAAAAAAACATUAAAAAAAABKQAAAAAAAAEhAAAAAAACARkAAAAAAAIBHQAAAAAAAwFJAAAAAAACAQ0AAAAAAAIBJQAAAAAAAgEtAAAAAAAAASEAAAAAAAABRQAAAAAAAgE1AAAAAAACAS0AAAAAAAABQQAAAAAAAAE9AAAAAAACATEAAAAAAAIBPQAAAAAAAgFBAAAAAAACAT0AAAAAAAIBOQAAAAAAAAEtAAAAAAACATkAAAAAAAIBDQAAAAAAAgFBAAAAAAACAT0AAAAAAAABJQAAAAAAAwFFAAAAAAAAASUAAAAAAAIBQQAAAAAAAAElAAAAAAACAS0AAAAAAAABMQAAAAAAAAEVAAAAAAAAATEAAAAAAAABMQAAAAAAAgE1AAAAAAABAUEAAAAAAAABNQAAAAAAAAEpAAAAAAACAT0AAAAAAAABPQAAAAAAAgE1AAAAAAAAAQkAAAAAAAABPQAAAAAAAgEdAAAAAAACAUEAAAAAAAABNQAAAAAAAAEdAAAAAAACASUAAAAAAAIBOQAAAAAAAgElAAAAAAACATkAAAAAAAIBKQAAAAAAAQFRAAAAAAAAAT0AAAAAAAEBSQAAAAAAAgEZAAAAAAAAAU0AAAAAAAIBIQAAAAAAAgFFAAAAAAABAUUAAAAAAAMBSQAAAAAAAAEhAAAAAAAAATUAAAAAAAIBQQAAAAAAAgE1AAAAAAAAASEAAAAAAAIBLQAAAAAAAwFBAAAAAAACASUAAAAAAAMBUQAAAAAAAgEdAAAAAAACASUAAAAAAAIBGQAAAAAAAAFJAAAAAAABAU0AAAAAAAABMQAAAAAAAgEtAAAAAAAAATkAAAAAAAABQQAAAAAAAAEdAAAAAAAAASEAAAAAAAABIQAAAAAAAAEZAAAAAAAAATkAAAAAAAIBRQAAAAAAAwFFAAAAAAAAAU0AAAAAAAEBRQAAAAAAAAE5AAAAAAAAAVEAAAAAAAIBPQAAAAAAAgFFAAAAAAABAU0AAAAAAAIBPQAAAAAAAAFJAAAAAAAAAQEAAAAAAAEBTQAAAAAAAgFFAAAAAAABAUkAAAAAAAIBIQAAAAAAAgEJAAAAAAACASUAAAAAAAIBKQAAAAAAAgEpAAAAAAACAVEAAAAAAAABLQAAAAAAAgEVAAAAAAAAAREAAAAAAAABRQAAAAAAAAEZAAAAAAAAAUkAAAAAAAIBNQA==",
          "dtype": "f8"
         },
         "y0": " ",
         "yaxis": "y"
        }
       ],
       "layout": {
        "boxmode": "overlay",
        "legend": {
         "title": {
          "text": "CLL_EPITYPE"
         },
         "tracegroupgap": 0
        },
        "template": {
         "data": {
          "bar": [
           {
            "error_x": {
             "color": "#2a3f5f"
            },
            "error_y": {
             "color": "#2a3f5f"
            },
            "marker": {
             "line": {
              "color": "white",
              "width": 0.5
             },
             "pattern": {
              "fillmode": "overlay",
              "size": 10,
              "solidity": 0.2
             }
            },
            "type": "bar"
           }
          ],
          "barpolar": [
           {
            "marker": {
             "line": {
              "color": "white",
              "width": 0.5
             },
             "pattern": {
              "fillmode": "overlay",
              "size": 10,
              "solidity": 0.2
             }
            },
            "type": "barpolar"
           }
          ],
          "carpet": [
           {
            "aaxis": {
             "endlinecolor": "#2a3f5f",
             "gridcolor": "#C8D4E3",
             "linecolor": "#C8D4E3",
             "minorgridcolor": "#C8D4E3",
             "startlinecolor": "#2a3f5f"
            },
            "baxis": {
             "endlinecolor": "#2a3f5f",
             "gridcolor": "#C8D4E3",
             "linecolor": "#C8D4E3",
             "minorgridcolor": "#C8D4E3",
             "startlinecolor": "#2a3f5f"
            },
            "type": "carpet"
           }
          ],
          "choropleth": [
           {
            "colorbar": {
             "outlinewidth": 0,
             "ticks": ""
            },
            "type": "choropleth"
           }
          ],
          "contour": [
           {
            "colorbar": {
             "outlinewidth": 0,
             "ticks": ""
            },
            "colorscale": [
             [
              0,
              "#0d0887"
             ],
             [
              0.1111111111111111,
              "#46039f"
             ],
             [
              0.2222222222222222,
              "#7201a8"
             ],
             [
              0.3333333333333333,
              "#9c179e"
             ],
             [
              0.4444444444444444,
              "#bd3786"
             ],
             [
              0.5555555555555556,
              "#d8576b"
             ],
             [
              0.6666666666666666,
              "#ed7953"
             ],
             [
              0.7777777777777778,
              "#fb9f3a"
             ],
             [
              0.8888888888888888,
              "#fdca26"
             ],
             [
              1,
              "#f0f921"
             ]
            ],
            "type": "contour"
           }
          ],
          "contourcarpet": [
           {
            "colorbar": {
             "outlinewidth": 0,
             "ticks": ""
            },
            "type": "contourcarpet"
           }
          ],
          "heatmap": [
           {
            "colorbar": {
             "outlinewidth": 0,
             "ticks": ""
            },
            "colorscale": [
             [
              0,
              "#0d0887"
             ],
             [
              0.1111111111111111,
              "#46039f"
             ],
             [
              0.2222222222222222,
              "#7201a8"
             ],
             [
              0.3333333333333333,
              "#9c179e"
             ],
             [
              0.4444444444444444,
              "#bd3786"
             ],
             [
              0.5555555555555556,
              "#d8576b"
             ],
             [
              0.6666666666666666,
              "#ed7953"
             ],
             [
              0.7777777777777778,
              "#fb9f3a"
             ],
             [
              0.8888888888888888,
              "#fdca26"
             ],
             [
              1,
              "#f0f921"
             ]
            ],
            "type": "heatmap"
           }
          ],
          "histogram": [
           {
            "marker": {
             "pattern": {
              "fillmode": "overlay",
              "size": 10,
              "solidity": 0.2
             }
            },
            "type": "histogram"
           }
          ],
          "histogram2d": [
           {
            "colorbar": {
             "outlinewidth": 0,
             "ticks": ""
            },
            "colorscale": [
             [
              0,
              "#0d0887"
             ],
             [
              0.1111111111111111,
              "#46039f"
             ],
             [
              0.2222222222222222,
              "#7201a8"
             ],
             [
              0.3333333333333333,
              "#9c179e"
             ],
             [
              0.4444444444444444,
              "#bd3786"
             ],
             [
              0.5555555555555556,
              "#d8576b"
             ],
             [
              0.6666666666666666,
              "#ed7953"
             ],
             [
              0.7777777777777778,
              "#fb9f3a"
             ],
             [
              0.8888888888888888,
              "#fdca26"
             ],
             [
              1,
              "#f0f921"
             ]
            ],
            "type": "histogram2d"
           }
          ],
          "histogram2dcontour": [
           {
            "colorbar": {
             "outlinewidth": 0,
             "ticks": ""
            },
            "colorscale": [
             [
              0,
              "#0d0887"
             ],
             [
              0.1111111111111111,
              "#46039f"
             ],
             [
              0.2222222222222222,
              "#7201a8"
             ],
             [
              0.3333333333333333,
              "#9c179e"
             ],
             [
              0.4444444444444444,
              "#bd3786"
             ],
             [
              0.5555555555555556,
              "#d8576b"
             ],
             [
              0.6666666666666666,
              "#ed7953"
             ],
             [
              0.7777777777777778,
              "#fb9f3a"
             ],
             [
              0.8888888888888888,
              "#fdca26"
             ],
             [
              1,
              "#f0f921"
             ]
            ],
            "type": "histogram2dcontour"
           }
          ],
          "mesh3d": [
           {
            "colorbar": {
             "outlinewidth": 0,
             "ticks": ""
            },
            "type": "mesh3d"
           }
          ],
          "parcoords": [
           {
            "line": {
             "colorbar": {
              "outlinewidth": 0,
              "ticks": ""
             }
            },
            "type": "parcoords"
           }
          ],
          "pie": [
           {
            "automargin": true,
            "type": "pie"
           }
          ],
          "scatter": [
           {
            "fillpattern": {
             "fillmode": "overlay",
             "size": 10,
             "solidity": 0.2
            },
            "type": "scatter"
           }
          ],
          "scatter3d": [
           {
            "line": {
             "colorbar": {
              "outlinewidth": 0,
              "ticks": ""
             }
            },
            "marker": {
             "colorbar": {
              "outlinewidth": 0,
              "ticks": ""
             }
            },
            "type": "scatter3d"
           }
          ],
          "scattercarpet": [
           {
            "marker": {
             "colorbar": {
              "outlinewidth": 0,
              "ticks": ""
             }
            },
            "type": "scattercarpet"
           }
          ],
          "scattergeo": [
           {
            "marker": {
             "colorbar": {
              "outlinewidth": 0,
              "ticks": ""
             }
            },
            "type": "scattergeo"
           }
          ],
          "scattergl": [
           {
            "marker": {
             "colorbar": {
              "outlinewidth": 0,
              "ticks": ""
             }
            },
            "type": "scattergl"
           }
          ],
          "scattermap": [
           {
            "marker": {
             "colorbar": {
              "outlinewidth": 0,
              "ticks": ""
             }
            },
            "type": "scattermap"
           }
          ],
          "scattermapbox": [
           {
            "marker": {
             "colorbar": {
              "outlinewidth": 0,
              "ticks": ""
             }
            },
            "type": "scattermapbox"
           }
          ],
          "scatterpolar": [
           {
            "marker": {
             "colorbar": {
              "outlinewidth": 0,
              "ticks": ""
             }
            },
            "type": "scatterpolar"
           }
          ],
          "scatterpolargl": [
           {
            "marker": {
             "colorbar": {
              "outlinewidth": 0,
              "ticks": ""
             }
            },
            "type": "scatterpolargl"
           }
          ],
          "scatterternary": [
           {
            "marker": {
             "colorbar": {
              "outlinewidth": 0,
              "ticks": ""
             }
            },
            "type": "scatterternary"
           }
          ],
          "surface": [
           {
            "colorbar": {
             "outlinewidth": 0,
             "ticks": ""
            },
            "colorscale": [
             [
              0,
              "#0d0887"
             ],
             [
              0.1111111111111111,
              "#46039f"
             ],
             [
              0.2222222222222222,
              "#7201a8"
             ],
             [
              0.3333333333333333,
              "#9c179e"
             ],
             [
              0.4444444444444444,
              "#bd3786"
             ],
             [
              0.5555555555555556,
              "#d8576b"
             ],
             [
              0.6666666666666666,
              "#ed7953"
             ],
             [
              0.7777777777777778,
              "#fb9f3a"
             ],
             [
              0.8888888888888888,
              "#fdca26"
             ],
             [
              1,
              "#f0f921"
             ]
            ],
            "type": "surface"
           }
          ],
          "table": [
           {
            "cells": {
             "fill": {
              "color": "#EBF0F8"
             },
             "line": {
              "color": "white"
             }
            },
            "header": {
             "fill": {
              "color": "#C8D4E3"
             },
             "line": {
              "color": "white"
             }
            },
            "type": "table"
           }
          ]
         },
         "layout": {
          "annotationdefaults": {
           "arrowcolor": "#2a3f5f",
           "arrowhead": 0,
           "arrowwidth": 1
          },
          "autotypenumbers": "strict",
          "coloraxis": {
           "colorbar": {
            "outlinewidth": 0,
            "ticks": ""
           }
          },
          "colorscale": {
           "diverging": [
            [
             0,
             "#8e0152"
            ],
            [
             0.1,
             "#c51b7d"
            ],
            [
             0.2,
             "#de77ae"
            ],
            [
             0.3,
             "#f1b6da"
            ],
            [
             0.4,
             "#fde0ef"
            ],
            [
             0.5,
             "#f7f7f7"
            ],
            [
             0.6,
             "#e6f5d0"
            ],
            [
             0.7,
             "#b8e186"
            ],
            [
             0.8,
             "#7fbc41"
            ],
            [
             0.9,
             "#4d9221"
            ],
            [
             1,
             "#276419"
            ]
           ],
           "sequential": [
            [
             0,
             "#0d0887"
            ],
            [
             0.1111111111111111,
             "#46039f"
            ],
            [
             0.2222222222222222,
             "#7201a8"
            ],
            [
             0.3333333333333333,
             "#9c179e"
            ],
            [
             0.4444444444444444,
             "#bd3786"
            ],
            [
             0.5555555555555556,
             "#d8576b"
            ],
            [
             0.6666666666666666,
             "#ed7953"
            ],
            [
             0.7777777777777778,
             "#fb9f3a"
            ],
            [
             0.8888888888888888,
             "#fdca26"
            ],
            [
             1,
             "#f0f921"
            ]
           ],
           "sequentialminus": [
            [
             0,
             "#0d0887"
            ],
            [
             0.1111111111111111,
             "#46039f"
            ],
            [
             0.2222222222222222,
             "#7201a8"
            ],
            [
             0.3333333333333333,
             "#9c179e"
            ],
            [
             0.4444444444444444,
             "#bd3786"
            ],
            [
             0.5555555555555556,
             "#d8576b"
            ],
            [
             0.6666666666666666,
             "#ed7953"
            ],
            [
             0.7777777777777778,
             "#fb9f3a"
            ],
            [
             0.8888888888888888,
             "#fdca26"
            ],
            [
             1,
             "#f0f921"
            ]
           ]
          },
          "colorway": [
           "#636efa",
           "#EF553B",
           "#00cc96",
           "#ab63fa",
           "#FFA15A",
           "#19d3f3",
           "#FF6692",
           "#B6E880",
           "#FF97FF",
           "#FECB52"
          ],
          "font": {
           "color": "#2a3f5f"
          },
          "geo": {
           "bgcolor": "white",
           "lakecolor": "white",
           "landcolor": "white",
           "showlakes": true,
           "showland": true,
           "subunitcolor": "#C8D4E3"
          },
          "hoverlabel": {
           "align": "left"
          },
          "hovermode": "closest",
          "mapbox": {
           "style": "light"
          },
          "paper_bgcolor": "white",
          "plot_bgcolor": "white",
          "polar": {
           "angularaxis": {
            "gridcolor": "#EBF0F8",
            "linecolor": "#EBF0F8",
            "ticks": ""
           },
           "bgcolor": "white",
           "radialaxis": {
            "gridcolor": "#EBF0F8",
            "linecolor": "#EBF0F8",
            "ticks": ""
           }
          },
          "scene": {
           "xaxis": {
            "backgroundcolor": "white",
            "gridcolor": "#DFE8F3",
            "gridwidth": 2,
            "linecolor": "#EBF0F8",
            "showbackground": true,
            "ticks": "",
            "zerolinecolor": "#EBF0F8"
           },
           "yaxis": {
            "backgroundcolor": "white",
            "gridcolor": "#DFE8F3",
            "gridwidth": 2,
            "linecolor": "#EBF0F8",
            "showbackground": true,
            "ticks": "",
            "zerolinecolor": "#EBF0F8"
           },
           "zaxis": {
            "backgroundcolor": "white",
            "gridcolor": "#DFE8F3",
            "gridwidth": 2,
            "linecolor": "#EBF0F8",
            "showbackground": true,
            "ticks": "",
            "zerolinecolor": "#EBF0F8"
           }
          },
          "shapedefaults": {
           "line": {
            "color": "#2a3f5f"
           }
          },
          "ternary": {
           "aaxis": {
            "gridcolor": "#DFE8F3",
            "linecolor": "#A2B1C6",
            "ticks": ""
           },
           "baxis": {
            "gridcolor": "#DFE8F3",
            "linecolor": "#A2B1C6",
            "ticks": ""
           },
           "bgcolor": "white",
           "caxis": {
            "gridcolor": "#DFE8F3",
            "linecolor": "#A2B1C6",
            "ticks": ""
           }
          },
          "title": {
           "x": 0.05
          },
          "xaxis": {
           "automargin": true,
           "gridcolor": "#EBF0F8",
           "linecolor": "#EBF0F8",
           "ticks": "",
           "title": {
            "standoff": 15
           },
           "zerolinecolor": "#EBF0F8",
           "zerolinewidth": 2
          },
          "yaxis": {
           "automargin": true,
           "gridcolor": "#EBF0F8",
           "linecolor": "#EBF0F8",
           "ticks": "",
           "title": {
            "standoff": 15
           },
           "zerolinecolor": "#EBF0F8",
           "zerolinewidth": 2
          }
         }
        },
        "title": {
         "text": "Age Distribution by CLL Epitype"
        },
        "xaxis": {
         "anchor": "y",
         "categoryarray": [
          "n-CLL",
          "m-CLL",
          "unclassified",
          "i-CLL"
         ],
         "categoryorder": "array",
         "domain": [
          0,
          1
         ],
         "title": {
          "text": "CLL_EPITYPE"
         }
        },
        "yaxis": {
         "anchor": "x",
         "domain": [
          0,
          1
         ],
         "title": {
          "text": "AGE"
         }
        }
       }
      }
     },
     "metadata": {},
     "output_type": "display_data"
    }
   ],
   "source": [
    "df_age = df.dropna(subset=['AGE', 'CLL_EPITYPE'])\n",
    "fig = px.box(df_age, x='CLL_EPITYPE', y='AGE', color='CLL_EPITYPE',\n",
    "             title='Age Distribution by CLL Epitype')\n",
    "fig.show()"
   ]
  },
  {
   "cell_type": "code",
   "execution_count": 437,
   "id": "a2896c0a",
   "metadata": {},
   "outputs": [
    {
     "data": {
      "application/vnd.plotly.v1+json": {
       "config": {
        "plotlyServerURL": "https://plot.ly"
       },
       "data": [
        {
         "alignmentgroup": "True",
         "hovertemplate": "IGHV_MUTATION_STATUS=%{x}<br>AGE=%{y}<extra></extra>",
         "legendgroup": "unmutated",
         "marker": {
          "color": "#636efa"
         },
         "name": "unmutated",
         "notched": false,
         "offsetgroup": "unmutated",
         "orientation": "v",
         "showlegend": true,
         "type": "box",
         "x": [
          "unmutated",
          "unmutated",
          "unmutated",
          "unmutated",
          "unmutated",
          "unmutated",
          "unmutated",
          "unmutated",
          "unmutated",
          "unmutated",
          "unmutated",
          "unmutated",
          "unmutated",
          "unmutated",
          "unmutated",
          "unmutated",
          "unmutated",
          "unmutated",
          "unmutated",
          "unmutated",
          "unmutated",
          "unmutated",
          "unmutated",
          "unmutated",
          "unmutated",
          "unmutated",
          "unmutated",
          "unmutated",
          "unmutated",
          "unmutated",
          "unmutated",
          "unmutated",
          "unmutated",
          "unmutated",
          "unmutated",
          "unmutated",
          "unmutated",
          "unmutated",
          "unmutated",
          "unmutated",
          "unmutated",
          "unmutated",
          "unmutated",
          "unmutated",
          "unmutated",
          "unmutated",
          "unmutated",
          "unmutated",
          "unmutated",
          "unmutated",
          "unmutated",
          "unmutated",
          "unmutated",
          "unmutated",
          "unmutated",
          "unmutated",
          "unmutated",
          "unmutated",
          "unmutated",
          "unmutated",
          "unmutated",
          "unmutated",
          "unmutated",
          "unmutated",
          "unmutated",
          "unmutated",
          "unmutated",
          "unmutated",
          "unmutated",
          "unmutated",
          "unmutated",
          "unmutated",
          "unmutated",
          "unmutated",
          "unmutated",
          "unmutated",
          "unmutated",
          "unmutated",
          "unmutated",
          "unmutated",
          "unmutated",
          "unmutated",
          "unmutated",
          "unmutated",
          "unmutated",
          "unmutated",
          "unmutated",
          "unmutated",
          "unmutated",
          "unmutated",
          "unmutated",
          "unmutated",
          "unmutated",
          "unmutated",
          "unmutated",
          "unmutated",
          "unmutated",
          "unmutated",
          "unmutated",
          "unmutated",
          "unmutated",
          "unmutated",
          "unmutated",
          "unmutated",
          "unmutated",
          "unmutated",
          "unmutated",
          "unmutated",
          "unmutated",
          "unmutated",
          "unmutated",
          "unmutated",
          "unmutated",
          "unmutated",
          "unmutated",
          "unmutated",
          "unmutated",
          "unmutated",
          "unmutated",
          "unmutated",
          "unmutated",
          "unmutated",
          "unmutated",
          "unmutated",
          "unmutated",
          "unmutated",
          "unmutated",
          "unmutated",
          "unmutated",
          "unmutated",
          "unmutated",
          "unmutated",
          "unmutated",
          "unmutated",
          "unmutated",
          "unmutated",
          "unmutated",
          "unmutated",
          "unmutated",
          "unmutated",
          "unmutated",
          "unmutated",
          "unmutated",
          "unmutated",
          "unmutated",
          "unmutated",
          "unmutated",
          "unmutated",
          "unmutated",
          "unmutated",
          "unmutated",
          "unmutated",
          "unmutated",
          "unmutated",
          "unmutated",
          "unmutated",
          "unmutated",
          "unmutated",
          "unmutated",
          "unmutated",
          "unmutated",
          "unmutated",
          "unmutated",
          "unmutated",
          "unmutated",
          "unmutated",
          "unmutated",
          "unmutated",
          "unmutated",
          "unmutated",
          "unmutated",
          "unmutated",
          "unmutated",
          "unmutated",
          "unmutated",
          "unmutated",
          "unmutated",
          "unmutated",
          "unmutated",
          "unmutated",
          "unmutated",
          "unmutated",
          "unmutated",
          "unmutated",
          "unmutated",
          "unmutated",
          "unmutated",
          "unmutated",
          "unmutated",
          "unmutated",
          "unmutated",
          "unmutated",
          "unmutated",
          "unmutated",
          "unmutated",
          "unmutated",
          "unmutated",
          "unmutated",
          "unmutated",
          "unmutated",
          "unmutated",
          "unmutated",
          "unmutated",
          "unmutated",
          "unmutated",
          "unmutated",
          "unmutated",
          "unmutated",
          "unmutated",
          "unmutated",
          "unmutated",
          "unmutated",
          "unmutated",
          "unmutated",
          "unmutated",
          "unmutated",
          "unmutated",
          "unmutated",
          "unmutated",
          "unmutated",
          "unmutated",
          "unmutated",
          "unmutated",
          "unmutated",
          "unmutated",
          "unmutated",
          "unmutated",
          "unmutated",
          "unmutated",
          "unmutated",
          "unmutated",
          "unmutated",
          "unmutated",
          "unmutated",
          "unmutated",
          "unmutated",
          "unmutated",
          "unmutated",
          "unmutated",
          "unmutated",
          "unmutated",
          "unmutated",
          "unmutated",
          "unmutated",
          "unmutated",
          "unmutated",
          "unmutated",
          "unmutated",
          "unmutated",
          "unmutated",
          "unmutated",
          "unmutated",
          "unmutated",
          "unmutated",
          "unmutated",
          "unmutated",
          "unmutated",
          "unmutated",
          "unmutated",
          "unmutated",
          "unmutated",
          "unmutated",
          "unmutated",
          "unmutated",
          "unmutated",
          "unmutated",
          "unmutated",
          "unmutated",
          "unmutated",
          "unmutated",
          "unmutated",
          "unmutated",
          "unmutated",
          "unmutated",
          "unmutated",
          "unmutated",
          "unmutated",
          "unmutated",
          "unmutated",
          "unmutated",
          "unmutated",
          "unmutated",
          "unmutated",
          "unmutated",
          "unmutated",
          "unmutated",
          "unmutated",
          "unmutated",
          "unmutated",
          "unmutated",
          "unmutated",
          "unmutated",
          "unmutated",
          "unmutated",
          "unmutated",
          "unmutated",
          "unmutated",
          "unmutated",
          "unmutated",
          "unmutated",
          "unmutated",
          "unmutated",
          "unmutated",
          "unmutated",
          "unmutated",
          "unmutated",
          "unmutated",
          "unmutated",
          "unmutated",
          "unmutated",
          "unmutated",
          "unmutated",
          "unmutated",
          "unmutated",
          "unmutated",
          "unmutated",
          "unmutated",
          "unmutated",
          "unmutated",
          "unmutated",
          "unmutated",
          "unmutated",
          "unmutated",
          "unmutated",
          "unmutated",
          "unmutated",
          "unmutated",
          "unmutated",
          "unmutated",
          "unmutated",
          "unmutated",
          "unmutated",
          "unmutated",
          "unmutated",
          "unmutated",
          "unmutated",
          "unmutated",
          "unmutated",
          "unmutated",
          "unmutated",
          "unmutated",
          "unmutated",
          "unmutated",
          "unmutated",
          "unmutated",
          "unmutated",
          "unmutated",
          "unmutated",
          "unmutated",
          "unmutated",
          "unmutated",
          "unmutated",
          "unmutated",
          "unmutated",
          "unmutated",
          "unmutated",
          "unmutated",
          "unmutated",
          "unmutated",
          "unmutated",
          "unmutated",
          "unmutated",
          "unmutated",
          "unmutated",
          "unmutated",
          "unmutated",
          "unmutated",
          "unmutated",
          "unmutated",
          "unmutated",
          "unmutated",
          "unmutated",
          "unmutated",
          "unmutated",
          "unmutated",
          "unmutated",
          "unmutated",
          "unmutated",
          "unmutated",
          "unmutated",
          "unmutated",
          "unmutated",
          "unmutated",
          "unmutated",
          "unmutated",
          "unmutated",
          "unmutated",
          "unmutated",
          "unmutated",
          "unmutated",
          "unmutated",
          "unmutated",
          "unmutated",
          "unmutated",
          "unmutated",
          "unmutated",
          "unmutated",
          "unmutated",
          "unmutated",
          "unmutated",
          "unmutated",
          "unmutated",
          "unmutated",
          "unmutated",
          "unmutated",
          "unmutated",
          "unmutated",
          "unmutated",
          "unmutated",
          "unmutated",
          "unmutated",
          "unmutated",
          "unmutated",
          "unmutated",
          "unmutated",
          "unmutated",
          "unmutated",
          "unmutated",
          "unmutated",
          "unmutated",
          "unmutated",
          "unmutated",
          "unmutated",
          "unmutated",
          "unmutated",
          "unmutated",
          "unmutated",
          "unmutated",
          "unmutated",
          "unmutated",
          "unmutated",
          "unmutated",
          "unmutated",
          "unmutated",
          "unmutated",
          "unmutated",
          "unmutated",
          "unmutated",
          "unmutated",
          "unmutated",
          "unmutated",
          "unmutated",
          "unmutated",
          "unmutated"
         ],
         "x0": " ",
         "xaxis": "x",
         "y": {
          "bdata": "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",
          "dtype": "f8"
         },
         "y0": " ",
         "yaxis": "y"
        },
        {
         "alignmentgroup": "True",
         "hovertemplate": "IGHV_MUTATION_STATUS=%{x}<br>AGE=%{y}<extra></extra>",
         "legendgroup": "mutated",
         "marker": {
          "color": "#EF553B"
         },
         "name": "mutated",
         "notched": false,
         "offsetgroup": "mutated",
         "orientation": "v",
         "showlegend": true,
         "type": "box",
         "x": [
          "mutated",
          "mutated",
          "mutated",
          "mutated",
          "mutated",
          "mutated",
          "mutated",
          "mutated",
          "mutated",
          "mutated",
          "mutated",
          "mutated",
          "mutated",
          "mutated",
          "mutated",
          "mutated",
          "mutated",
          "mutated",
          "mutated",
          "mutated",
          "mutated",
          "mutated",
          "mutated",
          "mutated",
          "mutated",
          "mutated",
          "mutated",
          "mutated",
          "mutated",
          "mutated",
          "mutated",
          "mutated",
          "mutated",
          "mutated",
          "mutated",
          "mutated",
          "mutated",
          "mutated",
          "mutated",
          "mutated",
          "mutated",
          "mutated",
          "mutated",
          "mutated",
          "mutated",
          "mutated",
          "mutated",
          "mutated",
          "mutated",
          "mutated",
          "mutated",
          "mutated",
          "mutated",
          "mutated",
          "mutated",
          "mutated",
          "mutated",
          "mutated",
          "mutated",
          "mutated",
          "mutated",
          "mutated",
          "mutated",
          "mutated",
          "mutated",
          "mutated",
          "mutated",
          "mutated",
          "mutated",
          "mutated",
          "mutated",
          "mutated",
          "mutated",
          "mutated",
          "mutated",
          "mutated",
          "mutated",
          "mutated",
          "mutated",
          "mutated",
          "mutated",
          "mutated",
          "mutated",
          "mutated",
          "mutated",
          "mutated",
          "mutated",
          "mutated",
          "mutated",
          "mutated",
          "mutated",
          "mutated",
          "mutated",
          "mutated",
          "mutated",
          "mutated",
          "mutated",
          "mutated",
          "mutated",
          "mutated",
          "mutated",
          "mutated",
          "mutated",
          "mutated",
          "mutated",
          "mutated",
          "mutated",
          "mutated",
          "mutated",
          "mutated",
          "mutated",
          "mutated",
          "mutated",
          "mutated",
          "mutated",
          "mutated",
          "mutated",
          "mutated",
          "mutated",
          "mutated",
          "mutated",
          "mutated",
          "mutated",
          "mutated",
          "mutated",
          "mutated",
          "mutated",
          "mutated",
          "mutated",
          "mutated",
          "mutated",
          "mutated",
          "mutated",
          "mutated",
          "mutated",
          "mutated",
          "mutated",
          "mutated",
          "mutated",
          "mutated",
          "mutated",
          "mutated",
          "mutated",
          "mutated",
          "mutated",
          "mutated",
          "mutated",
          "mutated",
          "mutated",
          "mutated",
          "mutated",
          "mutated",
          "mutated",
          "mutated",
          "mutated",
          "mutated",
          "mutated",
          "mutated",
          "mutated",
          "mutated",
          "mutated",
          "mutated",
          "mutated",
          "mutated",
          "mutated",
          "mutated",
          "mutated",
          "mutated",
          "mutated",
          "mutated",
          "mutated",
          "mutated",
          "mutated",
          "mutated",
          "mutated",
          "mutated",
          "mutated",
          "mutated",
          "mutated",
          "mutated",
          "mutated",
          "mutated",
          "mutated",
          "mutated",
          "mutated",
          "mutated",
          "mutated",
          "mutated",
          "mutated",
          "mutated",
          "mutated",
          "mutated",
          "mutated",
          "mutated",
          "mutated",
          "mutated",
          "mutated",
          "mutated",
          "mutated",
          "mutated",
          "mutated",
          "mutated",
          "mutated",
          "mutated",
          "mutated",
          "mutated",
          "mutated",
          "mutated",
          "mutated",
          "mutated",
          "mutated",
          "mutated",
          "mutated",
          "mutated",
          "mutated",
          "mutated",
          "mutated",
          "mutated",
          "mutated",
          "mutated",
          "mutated",
          "mutated",
          "mutated",
          "mutated",
          "mutated",
          "mutated",
          "mutated",
          "mutated",
          "mutated",
          "mutated",
          "mutated",
          "mutated",
          "mutated",
          "mutated",
          "mutated",
          "mutated",
          "mutated",
          "mutated",
          "mutated",
          "mutated",
          "mutated",
          "mutated",
          "mutated",
          "mutated",
          "mutated",
          "mutated",
          "mutated",
          "mutated",
          "mutated",
          "mutated",
          "mutated",
          "mutated",
          "mutated",
          "mutated",
          "mutated",
          "mutated",
          "mutated",
          "mutated",
          "mutated",
          "mutated",
          "mutated",
          "mutated",
          "mutated",
          "mutated",
          "mutated",
          "mutated",
          "mutated",
          "mutated",
          "mutated",
          "mutated",
          "mutated",
          "mutated",
          "mutated",
          "mutated",
          "mutated",
          "mutated",
          "mutated",
          "mutated",
          "mutated",
          "mutated",
          "mutated",
          "mutated",
          "mutated",
          "mutated",
          "mutated",
          "mutated",
          "mutated",
          "mutated",
          "mutated",
          "mutated",
          "mutated",
          "mutated",
          "mutated",
          "mutated",
          "mutated",
          "mutated",
          "mutated",
          "mutated",
          "mutated",
          "mutated",
          "mutated",
          "mutated",
          "mutated",
          "mutated",
          "mutated",
          "mutated",
          "mutated",
          "mutated",
          "mutated",
          "mutated",
          "mutated",
          "mutated",
          "mutated",
          "mutated",
          "mutated",
          "mutated",
          "mutated",
          "mutated",
          "mutated",
          "mutated",
          "mutated",
          "mutated",
          "mutated",
          "mutated",
          "mutated",
          "mutated",
          "mutated",
          "mutated",
          "mutated",
          "mutated",
          "mutated",
          "mutated",
          "mutated",
          "mutated",
          "mutated",
          "mutated",
          "mutated",
          "mutated",
          "mutated",
          "mutated",
          "mutated",
          "mutated",
          "mutated",
          "mutated",
          "mutated",
          "mutated",
          "mutated",
          "mutated",
          "mutated",
          "mutated",
          "mutated",
          "mutated",
          "mutated",
          "mutated",
          "mutated",
          "mutated",
          "mutated",
          "mutated",
          "mutated",
          "mutated",
          "mutated",
          "mutated",
          "mutated",
          "mutated",
          "mutated",
          "mutated",
          "mutated",
          "mutated",
          "mutated",
          "mutated",
          "mutated",
          "mutated",
          "mutated",
          "mutated",
          "mutated",
          "mutated",
          "mutated",
          "mutated",
          "mutated",
          "mutated",
          "mutated",
          "mutated",
          "mutated",
          "mutated",
          "mutated",
          "mutated",
          "mutated",
          "mutated",
          "mutated",
          "mutated",
          "mutated",
          "mutated",
          "mutated",
          "mutated",
          "mutated",
          "mutated",
          "mutated",
          "mutated",
          "mutated",
          "mutated",
          "mutated",
          "mutated",
          "mutated",
          "mutated",
          "mutated",
          "mutated",
          "mutated",
          "mutated",
          "mutated",
          "mutated",
          "mutated",
          "mutated",
          "mutated",
          "mutated",
          "mutated",
          "mutated",
          "mutated",
          "mutated",
          "mutated",
          "mutated",
          "mutated",
          "mutated",
          "mutated",
          "mutated",
          "mutated",
          "mutated",
          "mutated",
          "mutated",
          "mutated",
          "mutated",
          "mutated",
          "mutated",
          "mutated",
          "mutated",
          "mutated",
          "mutated",
          "mutated",
          "mutated",
          "mutated",
          "mutated",
          "mutated",
          "mutated",
          "mutated",
          "mutated",
          "mutated",
          "mutated",
          "mutated",
          "mutated",
          "mutated",
          "mutated",
          "mutated",
          "mutated",
          "mutated",
          "mutated",
          "mutated",
          "mutated",
          "mutated",
          "mutated",
          "mutated",
          "mutated",
          "mutated",
          "mutated",
          "mutated",
          "mutated",
          "mutated",
          "mutated",
          "mutated",
          "mutated",
          "mutated",
          "mutated",
          "mutated",
          "mutated",
          "mutated",
          "mutated",
          "mutated",
          "mutated",
          "mutated",
          "mutated",
          "mutated",
          "mutated",
          "mutated",
          "mutated",
          "mutated",
          "mutated",
          "mutated",
          "mutated",
          "mutated",
          "mutated",
          "mutated",
          "mutated",
          "mutated",
          "mutated",
          "mutated",
          "mutated",
          "mutated",
          "mutated",
          "mutated",
          "mutated",
          "mutated",
          "mutated",
          "mutated",
          "mutated",
          "mutated",
          "mutated"
         ],
         "x0": " ",
         "xaxis": "x",
         "y": {
          "bdata": "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",
          "dtype": "f8"
         },
         "y0": " ",
         "yaxis": "y"
        }
       ],
       "layout": {
        "boxmode": "overlay",
        "legend": {
         "title": {
          "text": "IGHV_MUTATION_STATUS"
         },
         "tracegroupgap": 0
        },
        "template": {
         "data": {
          "bar": [
           {
            "error_x": {
             "color": "#2a3f5f"
            },
            "error_y": {
             "color": "#2a3f5f"
            },
            "marker": {
             "line": {
              "color": "white",
              "width": 0.5
             },
             "pattern": {
              "fillmode": "overlay",
              "size": 10,
              "solidity": 0.2
             }
            },
            "type": "bar"
           }
          ],
          "barpolar": [
           {
            "marker": {
             "line": {
              "color": "white",
              "width": 0.5
             },
             "pattern": {
              "fillmode": "overlay",
              "size": 10,
              "solidity": 0.2
             }
            },
            "type": "barpolar"
           }
          ],
          "carpet": [
           {
            "aaxis": {
             "endlinecolor": "#2a3f5f",
             "gridcolor": "#C8D4E3",
             "linecolor": "#C8D4E3",
             "minorgridcolor": "#C8D4E3",
             "startlinecolor": "#2a3f5f"
            },
            "baxis": {
             "endlinecolor": "#2a3f5f",
             "gridcolor": "#C8D4E3",
             "linecolor": "#C8D4E3",
             "minorgridcolor": "#C8D4E3",
             "startlinecolor": "#2a3f5f"
            },
            "type": "carpet"
           }
          ],
          "choropleth": [
           {
            "colorbar": {
             "outlinewidth": 0,
             "ticks": ""
            },
            "type": "choropleth"
           }
          ],
          "contour": [
           {
            "colorbar": {
             "outlinewidth": 0,
             "ticks": ""
            },
            "colorscale": [
             [
              0,
              "#0d0887"
             ],
             [
              0.1111111111111111,
              "#46039f"
             ],
             [
              0.2222222222222222,
              "#7201a8"
             ],
             [
              0.3333333333333333,
              "#9c179e"
             ],
             [
              0.4444444444444444,
              "#bd3786"
             ],
             [
              0.5555555555555556,
              "#d8576b"
             ],
             [
              0.6666666666666666,
              "#ed7953"
             ],
             [
              0.7777777777777778,
              "#fb9f3a"
             ],
             [
              0.8888888888888888,
              "#fdca26"
             ],
             [
              1,
              "#f0f921"
             ]
            ],
            "type": "contour"
           }
          ],
          "contourcarpet": [
           {
            "colorbar": {
             "outlinewidth": 0,
             "ticks": ""
            },
            "type": "contourcarpet"
           }
          ],
          "heatmap": [
           {
            "colorbar": {
             "outlinewidth": 0,
             "ticks": ""
            },
            "colorscale": [
             [
              0,
              "#0d0887"
             ],
             [
              0.1111111111111111,
              "#46039f"
             ],
             [
              0.2222222222222222,
              "#7201a8"
             ],
             [
              0.3333333333333333,
              "#9c179e"
             ],
             [
              0.4444444444444444,
              "#bd3786"
             ],
             [
              0.5555555555555556,
              "#d8576b"
             ],
             [
              0.6666666666666666,
              "#ed7953"
             ],
             [
              0.7777777777777778,
              "#fb9f3a"
             ],
             [
              0.8888888888888888,
              "#fdca26"
             ],
             [
              1,
              "#f0f921"
             ]
            ],
            "type": "heatmap"
           }
          ],
          "histogram": [
           {
            "marker": {
             "pattern": {
              "fillmode": "overlay",
              "size": 10,
              "solidity": 0.2
             }
            },
            "type": "histogram"
           }
          ],
          "histogram2d": [
           {
            "colorbar": {
             "outlinewidth": 0,
             "ticks": ""
            },
            "colorscale": [
             [
              0,
              "#0d0887"
             ],
             [
              0.1111111111111111,
              "#46039f"
             ],
             [
              0.2222222222222222,
              "#7201a8"
             ],
             [
              0.3333333333333333,
              "#9c179e"
             ],
             [
              0.4444444444444444,
              "#bd3786"
             ],
             [
              0.5555555555555556,
              "#d8576b"
             ],
             [
              0.6666666666666666,
              "#ed7953"
             ],
             [
              0.7777777777777778,
              "#fb9f3a"
             ],
             [
              0.8888888888888888,
              "#fdca26"
             ],
             [
              1,
              "#f0f921"
             ]
            ],
            "type": "histogram2d"
           }
          ],
          "histogram2dcontour": [
           {
            "colorbar": {
             "outlinewidth": 0,
             "ticks": ""
            },
            "colorscale": [
             [
              0,
              "#0d0887"
             ],
             [
              0.1111111111111111,
              "#46039f"
             ],
             [
              0.2222222222222222,
              "#7201a8"
             ],
             [
              0.3333333333333333,
              "#9c179e"
             ],
             [
              0.4444444444444444,
              "#bd3786"
             ],
             [
              0.5555555555555556,
              "#d8576b"
             ],
             [
              0.6666666666666666,
              "#ed7953"
             ],
             [
              0.7777777777777778,
              "#fb9f3a"
             ],
             [
              0.8888888888888888,
              "#fdca26"
             ],
             [
              1,
              "#f0f921"
             ]
            ],
            "type": "histogram2dcontour"
           }
          ],
          "mesh3d": [
           {
            "colorbar": {
             "outlinewidth": 0,
             "ticks": ""
            },
            "type": "mesh3d"
           }
          ],
          "parcoords": [
           {
            "line": {
             "colorbar": {
              "outlinewidth": 0,
              "ticks": ""
             }
            },
            "type": "parcoords"
           }
          ],
          "pie": [
           {
            "automargin": true,
            "type": "pie"
           }
          ],
          "scatter": [
           {
            "fillpattern": {
             "fillmode": "overlay",
             "size": 10,
             "solidity": 0.2
            },
            "type": "scatter"
           }
          ],
          "scatter3d": [
           {
            "line": {
             "colorbar": {
              "outlinewidth": 0,
              "ticks": ""
             }
            },
            "marker": {
             "colorbar": {
              "outlinewidth": 0,
              "ticks": ""
             }
            },
            "type": "scatter3d"
           }
          ],
          "scattercarpet": [
           {
            "marker": {
             "colorbar": {
              "outlinewidth": 0,
              "ticks": ""
             }
            },
            "type": "scattercarpet"
           }
          ],
          "scattergeo": [
           {
            "marker": {
             "colorbar": {
              "outlinewidth": 0,
              "ticks": ""
             }
            },
            "type": "scattergeo"
           }
          ],
          "scattergl": [
           {
            "marker": {
             "colorbar": {
              "outlinewidth": 0,
              "ticks": ""
             }
            },
            "type": "scattergl"
           }
          ],
          "scattermap": [
           {
            "marker": {
             "colorbar": {
              "outlinewidth": 0,
              "ticks": ""
             }
            },
            "type": "scattermap"
           }
          ],
          "scattermapbox": [
           {
            "marker": {
             "colorbar": {
              "outlinewidth": 0,
              "ticks": ""
             }
            },
            "type": "scattermapbox"
           }
          ],
          "scatterpolar": [
           {
            "marker": {
             "colorbar": {
              "outlinewidth": 0,
              "ticks": ""
             }
            },
            "type": "scatterpolar"
           }
          ],
          "scatterpolargl": [
           {
            "marker": {
             "colorbar": {
              "outlinewidth": 0,
              "ticks": ""
             }
            },
            "type": "scatterpolargl"
           }
          ],
          "scatterternary": [
           {
            "marker": {
             "colorbar": {
              "outlinewidth": 0,
              "ticks": ""
             }
            },
            "type": "scatterternary"
           }
          ],
          "surface": [
           {
            "colorbar": {
             "outlinewidth": 0,
             "ticks": ""
            },
            "colorscale": [
             [
              0,
              "#0d0887"
             ],
             [
              0.1111111111111111,
              "#46039f"
             ],
             [
              0.2222222222222222,
              "#7201a8"
             ],
             [
              0.3333333333333333,
              "#9c179e"
             ],
             [
              0.4444444444444444,
              "#bd3786"
             ],
             [
              0.5555555555555556,
              "#d8576b"
             ],
             [
              0.6666666666666666,
              "#ed7953"
             ],
             [
              0.7777777777777778,
              "#fb9f3a"
             ],
             [
              0.8888888888888888,
              "#fdca26"
             ],
             [
              1,
              "#f0f921"
             ]
            ],
            "type": "surface"
           }
          ],
          "table": [
           {
            "cells": {
             "fill": {
              "color": "#EBF0F8"
             },
             "line": {
              "color": "white"
             }
            },
            "header": {
             "fill": {
              "color": "#C8D4E3"
             },
             "line": {
              "color": "white"
             }
            },
            "type": "table"
           }
          ]
         },
         "layout": {
          "annotationdefaults": {
           "arrowcolor": "#2a3f5f",
           "arrowhead": 0,
           "arrowwidth": 1
          },
          "autotypenumbers": "strict",
          "coloraxis": {
           "colorbar": {
            "outlinewidth": 0,
            "ticks": ""
           }
          },
          "colorscale": {
           "diverging": [
            [
             0,
             "#8e0152"
            ],
            [
             0.1,
             "#c51b7d"
            ],
            [
             0.2,
             "#de77ae"
            ],
            [
             0.3,
             "#f1b6da"
            ],
            [
             0.4,
             "#fde0ef"
            ],
            [
             0.5,
             "#f7f7f7"
            ],
            [
             0.6,
             "#e6f5d0"
            ],
            [
             0.7,
             "#b8e186"
            ],
            [
             0.8,
             "#7fbc41"
            ],
            [
             0.9,
             "#4d9221"
            ],
            [
             1,
             "#276419"
            ]
           ],
           "sequential": [
            [
             0,
             "#0d0887"
            ],
            [
             0.1111111111111111,
             "#46039f"
            ],
            [
             0.2222222222222222,
             "#7201a8"
            ],
            [
             0.3333333333333333,
             "#9c179e"
            ],
            [
             0.4444444444444444,
             "#bd3786"
            ],
            [
             0.5555555555555556,
             "#d8576b"
            ],
            [
             0.6666666666666666,
             "#ed7953"
            ],
            [
             0.7777777777777778,
             "#fb9f3a"
            ],
            [
             0.8888888888888888,
             "#fdca26"
            ],
            [
             1,
             "#f0f921"
            ]
           ],
           "sequentialminus": [
            [
             0,
             "#0d0887"
            ],
            [
             0.1111111111111111,
             "#46039f"
            ],
            [
             0.2222222222222222,
             "#7201a8"
            ],
            [
             0.3333333333333333,
             "#9c179e"
            ],
            [
             0.4444444444444444,
             "#bd3786"
            ],
            [
             0.5555555555555556,
             "#d8576b"
            ],
            [
             0.6666666666666666,
             "#ed7953"
            ],
            [
             0.7777777777777778,
             "#fb9f3a"
            ],
            [
             0.8888888888888888,
             "#fdca26"
            ],
            [
             1,
             "#f0f921"
            ]
           ]
          },
          "colorway": [
           "#636efa",
           "#EF553B",
           "#00cc96",
           "#ab63fa",
           "#FFA15A",
           "#19d3f3",
           "#FF6692",
           "#B6E880",
           "#FF97FF",
           "#FECB52"
          ],
          "font": {
           "color": "#2a3f5f"
          },
          "geo": {
           "bgcolor": "white",
           "lakecolor": "white",
           "landcolor": "white",
           "showlakes": true,
           "showland": true,
           "subunitcolor": "#C8D4E3"
          },
          "hoverlabel": {
           "align": "left"
          },
          "hovermode": "closest",
          "mapbox": {
           "style": "light"
          },
          "paper_bgcolor": "white",
          "plot_bgcolor": "white",
          "polar": {
           "angularaxis": {
            "gridcolor": "#EBF0F8",
            "linecolor": "#EBF0F8",
            "ticks": ""
           },
           "bgcolor": "white",
           "radialaxis": {
            "gridcolor": "#EBF0F8",
            "linecolor": "#EBF0F8",
            "ticks": ""
           }
          },
          "scene": {
           "xaxis": {
            "backgroundcolor": "white",
            "gridcolor": "#DFE8F3",
            "gridwidth": 2,
            "linecolor": "#EBF0F8",
            "showbackground": true,
            "ticks": "",
            "zerolinecolor": "#EBF0F8"
           },
           "yaxis": {
            "backgroundcolor": "white",
            "gridcolor": "#DFE8F3",
            "gridwidth": 2,
            "linecolor": "#EBF0F8",
            "showbackground": true,
            "ticks": "",
            "zerolinecolor": "#EBF0F8"
           },
           "zaxis": {
            "backgroundcolor": "white",
            "gridcolor": "#DFE8F3",
            "gridwidth": 2,
            "linecolor": "#EBF0F8",
            "showbackground": true,
            "ticks": "",
            "zerolinecolor": "#EBF0F8"
           }
          },
          "shapedefaults": {
           "line": {
            "color": "#2a3f5f"
           }
          },
          "ternary": {
           "aaxis": {
            "gridcolor": "#DFE8F3",
            "linecolor": "#A2B1C6",
            "ticks": ""
           },
           "baxis": {
            "gridcolor": "#DFE8F3",
            "linecolor": "#A2B1C6",
            "ticks": ""
           },
           "bgcolor": "white",
           "caxis": {
            "gridcolor": "#DFE8F3",
            "linecolor": "#A2B1C6",
            "ticks": ""
           }
          },
          "title": {
           "x": 0.05
          },
          "xaxis": {
           "automargin": true,
           "gridcolor": "#EBF0F8",
           "linecolor": "#EBF0F8",
           "ticks": "",
           "title": {
            "standoff": 15
           },
           "zerolinecolor": "#EBF0F8",
           "zerolinewidth": 2
          },
          "yaxis": {
           "automargin": true,
           "gridcolor": "#EBF0F8",
           "linecolor": "#EBF0F8",
           "ticks": "",
           "title": {
            "standoff": 15
           },
           "zerolinecolor": "#EBF0F8",
           "zerolinewidth": 2
          }
         }
        },
        "title": {
         "text": "Age Distribution by CLL Epitype"
        },
        "xaxis": {
         "anchor": "y",
         "categoryarray": [
          "unmutated",
          "mutated"
         ],
         "categoryorder": "array",
         "domain": [
          0,
          1
         ],
         "title": {
          "text": "IGHV_MUTATION_STATUS"
         }
        },
        "yaxis": {
         "anchor": "x",
         "domain": [
          0,
          1
         ],
         "title": {
          "text": "AGE"
         }
        }
       }
      }
     },
     "metadata": {},
     "output_type": "display_data"
    }
   ],
   "source": [
    "df_age = df.dropna(subset=['AGE', 'IGHV_MUTATION_STATUS'])\n",
    "fig = px.box(df_age, x='IGHV_MUTATION_STATUS', y='AGE', color='IGHV_MUTATION_STATUS',\n",
    "             title='Age Distribution by CLL Epitype')\n",
    "fig.show()"
   ]
  },
  {
   "cell_type": "code",
   "execution_count": 438,
   "id": "490d14d4",
   "metadata": {},
   "outputs": [
    {
     "data": {
      "text/html": [
       "<div>\n",
       "<style scoped>\n",
       "    .dataframe tbody tr th:only-of-type {\n",
       "        vertical-align: middle;\n",
       "    }\n",
       "\n",
       "    .dataframe tbody tr th {\n",
       "        vertical-align: top;\n",
       "    }\n",
       "\n",
       "    .dataframe thead th {\n",
       "        text-align: right;\n",
       "    }\n",
       "</style>\n",
       "<table border=\"1\" class=\"dataframe\">\n",
       "  <thead>\n",
       "    <tr style=\"text-align: right;\">\n",
       "      <th></th>\n",
       "      <th>Sample Count</th>\n",
       "      <th>Missing % (OS_STATUS)</th>\n",
       "    </tr>\n",
       "  </thead>\n",
       "  <tbody>\n",
       "    <tr>\n",
       "      <th>SEX</th>\n",
       "      <td>410</td>\n",
       "      <td>13.7</td>\n",
       "    </tr>\n",
       "    <tr>\n",
       "      <th>CLL_EPITYPE</th>\n",
       "      <td>141</td>\n",
       "      <td>50.4</td>\n",
       "    </tr>\n",
       "    <tr>\n",
       "      <th>TUMOR_MOLECULAR_SUBTYPE</th>\n",
       "      <td>476</td>\n",
       "      <td>14.5</td>\n",
       "    </tr>\n",
       "  </tbody>\n",
       "</table>\n",
       "</div>"
      ],
      "text/plain": [
       "                        Sample Count Missing % (OS_STATUS)\n",
       "SEX                              410                  13.7\n",
       "CLL_EPITYPE                      141                  50.4\n",
       "TUMOR_MOLECULAR_SUBTYPE          476                  14.5"
      ]
     },
     "metadata": {},
     "output_type": "display_data"
    }
   ],
   "source": [
    "groups = ['SEX', 'CLL_EPITYPE', 'TUMOR_MOLECULAR_SUBTYPE']\n",
    "risk_matrix = pd.DataFrame(index=groups, columns=['Sample Count', 'Missing % (OS_STATUS)'])\n",
    "\n",
    "for g in groups:\n",
    "    subset = df.groupby(g)\n",
    "    counts = subset.size()\n",
    "    missing = subset['OS_STATUS'].apply(lambda x: x.isna().mean())\n",
    "    risk_matrix.loc[g] = [counts.min(), round(missing.max() * 100, 1)]\n",
    "\n",
    "display(risk_matrix)"
   ]
  },
  {
   "cell_type": "code",
   "execution_count": 439,
   "id": "cc9dcd09",
   "metadata": {},
   "outputs": [
    {
     "ename": "ModuleNotFoundError",
     "evalue": "No module named 'sklearn'",
     "output_type": "error",
     "traceback": [
      "\u001b[0;31m---------------------------------------------------------------------------\u001b[0m",
      "\u001b[0;31mModuleNotFoundError\u001b[0m                       Traceback (most recent call last)",
      "Cell \u001b[0;32mIn[439], line 1\u001b[0m\n\u001b[0;32m----> 1\u001b[0m \u001b[38;5;28;01mfrom\u001b[39;00m\u001b[38;5;250m \u001b[39m\u001b[38;5;21;01msklearn\u001b[39;00m\u001b[38;5;21;01m.\u001b[39;00m\u001b[38;5;21;01mpreprocessing\u001b[39;00m\u001b[38;5;250m \u001b[39m\u001b[38;5;28;01mimport\u001b[39;00m StandardScaler\n\u001b[1;32m      2\u001b[0m \u001b[38;5;28;01mfrom\u001b[39;00m\u001b[38;5;250m \u001b[39m\u001b[38;5;21;01msklearn\u001b[39;00m\u001b[38;5;21;01m.\u001b[39;00m\u001b[38;5;21;01mmanifold\u001b[39;00m\u001b[38;5;250m \u001b[39m\u001b[38;5;28;01mimport\u001b[39;00m TSNE\n\u001b[1;32m      3\u001b[0m \u001b[38;5;28;01mimport\u001b[39;00m\u001b[38;5;250m \u001b[39m\u001b[38;5;21;01mumap\u001b[39;00m\n",
      "\u001b[0;31mModuleNotFoundError\u001b[0m: No module named 'sklearn'"
     ]
    }
   ],
   "source": [
    "from sklearn.preprocessing import StandardScaler\n",
    "from sklearn.manifold import TSNE\n",
    "import umap\n",
    "\n",
    "features = ['MUTATION_COUNT', 'TMB_NONSYNONYMOUS', 'AGE']\n",
    "df_umap = df.dropna(subset=features + ['IGHV_MUTATION_STATUS'])\n",
    "X = StandardScaler().fit_transform(df_umap[features])\n",
    "\n",
    "embedding = umap.UMAP(n_neighbors=15, min_dist=0.1).fit_transform(X)\n",
    "df_umap['UMAP_1'], df_umap['UMAP_2'] = embedding[:, 0], embedding[:, 1]\n",
    "\n",
    "fig = px.scatter(df_umap, x='UMAP_1', y='UMAP_2', color='IGHV_MUTATION_STATUS',\n",
    "                 title='UMAP Projection by IGHV Mutation Status')\n",
    "fig.show()"
   ]
  },
  {
   "cell_type": "code",
   "execution_count": null,
   "id": "fb133bd4",
   "metadata": {},
   "outputs": [
    {
     "ename": "ModuleNotFoundError",
     "evalue": "No module named 'lifelines'",
     "output_type": "error",
     "traceback": [
      "\u001b[0;31m---------------------------------------------------------------------------\u001b[0m",
      "\u001b[0;31mModuleNotFoundError\u001b[0m                       Traceback (most recent call last)",
      "Cell \u001b[0;32mIn[370], line 1\u001b[0m\n\u001b[0;32m----> 1\u001b[0m \u001b[38;5;28;01mfrom\u001b[39;00m\u001b[38;5;250m \u001b[39m\u001b[38;5;21;01mlifelines\u001b[39;00m\u001b[38;5;250m \u001b[39m\u001b[38;5;28;01mimport\u001b[39;00m KaplanMeierFitter\n\u001b[1;32m      2\u001b[0m \u001b[38;5;28;01mimport\u001b[39;00m\u001b[38;5;250m \u001b[39m\u001b[38;5;21;01mmatplotlib\u001b[39;00m\u001b[38;5;21;01m.\u001b[39;00m\u001b[38;5;21;01mpyplot\u001b[39;00m\u001b[38;5;250m \u001b[39m\u001b[38;5;28;01mas\u001b[39;00m\u001b[38;5;250m \u001b[39m\u001b[38;5;21;01mplt\u001b[39;00m\n\u001b[1;32m      4\u001b[0m kmf \u001b[38;5;241m=\u001b[39m KaplanMeierFitter()\n",
      "\u001b[0;31mModuleNotFoundError\u001b[0m: No module named 'lifelines'"
     ]
    }
   ],
   "source": [
    "from lifelines import KaplanMeierFitter\n",
    "import matplotlib.pyplot as plt\n",
    "\n",
    "kmf = KaplanMeierFitter()\n",
    "plt.figure(figsize=(8,6))\n",
    "\n",
    "for epitype in df['CLL_EPITYPE'].dropna().unique():\n",
    "    sub = df[df['CLL_EPITYPE'] == epitype]\n",
    "    if sub['OS_MONTHS'].notna().sum() > 20:\n",
    "        kmf.fit(sub['OS_MONTHS'], sub['OS_STATUS'], label=epitype)\n",
    "        kmf.plot_survival_function()\n",
    "\n",
    "plt.title('Survival by CLL Epitype')\n",
    "plt.xlabel(\"Months\")\n",
    "plt.ylabel(\"Survival Probability\")\n",
    "plt.grid(True)\n",
    "plt.show()"
   ]
  },
  {
   "cell_type": "markdown",
   "id": "2cd54119",
   "metadata": {},
   "source": [
    "### Extra"
   ]
  },
  {
   "cell_type": "code",
   "execution_count": null,
   "id": "1edfc397",
   "metadata": {},
   "outputs": [
    {
     "data": {
      "text/plain": [
       "originId\n",
       "5    55\n",
       "3    24\n",
       "1    24\n",
       "2    20\n",
       "6     4\n",
       "8     4\n",
       "4     2\n",
       "9     2\n",
       "Name: count, dtype: int64"
      ]
     },
     "execution_count": 355,
     "metadata": {},
     "output_type": "execute_result"
    }
   ],
   "source": [
    "df[df['CLL_EPITYPE'] == 'unclassified']['originId'].value_counts()"
   ]
  },
  {
   "cell_type": "code",
   "execution_count": null,
   "id": "5a55e1ad",
   "metadata": {},
   "outputs": [
    {
     "data": {
      "text/html": [
       "<div>\n",
       "<style scoped>\n",
       "    .dataframe tbody tr th:only-of-type {\n",
       "        vertical-align: middle;\n",
       "    }\n",
       "\n",
       "    .dataframe tbody tr th {\n",
       "        vertical-align: top;\n",
       "    }\n",
       "\n",
       "    .dataframe thead th {\n",
       "        text-align: right;\n",
       "    }\n",
       "</style>\n",
       "<table border=\"1\" class=\"dataframe\">\n",
       "  <thead>\n",
       "    <tr style=\"text-align: right;\">\n",
       "      <th></th>\n",
       "      <th>patientId</th>\n",
       "      <th>sampleId</th>\n",
       "      <th>TUMOR_MOLECULAR_SUBTYPE</th>\n",
       "      <th>IGHV_MUTATION_STATUS</th>\n",
       "    </tr>\n",
       "  </thead>\n",
       "  <tbody>\n",
       "    <tr>\n",
       "      <th>23</th>\n",
       "      <td>P-CRC-0020</td>\n",
       "      <td>DFCI-5053</td>\n",
       "      <td>M-CLL</td>\n",
       "      <td>unmutated</td>\n",
       "    </tr>\n",
       "    <tr>\n",
       "      <th>32</th>\n",
       "      <td>P-DFCI-5002</td>\n",
       "      <td>DFCI-5002</td>\n",
       "      <td>M-CLL</td>\n",
       "      <td>unmutated</td>\n",
       "    </tr>\n",
       "    <tr>\n",
       "      <th>38</th>\n",
       "      <td>P-DFCI-5018</td>\n",
       "      <td>DFCI-5018</td>\n",
       "      <td>M-CLL</td>\n",
       "      <td>unmutated</td>\n",
       "    </tr>\n",
       "    <tr>\n",
       "      <th>45</th>\n",
       "      <td>P-DFCI-5035</td>\n",
       "      <td>DFCI-5035</td>\n",
       "      <td>M-CLL</td>\n",
       "      <td>unmutated</td>\n",
       "    </tr>\n",
       "    <tr>\n",
       "      <th>51</th>\n",
       "      <td>P-DFCI-5045</td>\n",
       "      <td>DFCI-5045</td>\n",
       "      <td>M-CLL</td>\n",
       "      <td>unmutated</td>\n",
       "    </tr>\n",
       "    <tr>\n",
       "      <th>...</th>\n",
       "      <td>...</td>\n",
       "      <td>...</td>\n",
       "      <td>...</td>\n",
       "      <td>...</td>\n",
       "    </tr>\n",
       "    <tr>\n",
       "      <th>981</th>\n",
       "      <td>P-SCLL-0334</td>\n",
       "      <td>SCLL-0334</td>\n",
       "      <td>M-CLL</td>\n",
       "      <td>unmutated</td>\n",
       "    </tr>\n",
       "    <tr>\n",
       "      <th>988</th>\n",
       "      <td>P-SCLL-0341</td>\n",
       "      <td>SCLL-0341</td>\n",
       "      <td>M-CLL</td>\n",
       "      <td>unmutated</td>\n",
       "    </tr>\n",
       "    <tr>\n",
       "      <th>997</th>\n",
       "      <td>P-SCLL-0350</td>\n",
       "      <td>SCLL-0350</td>\n",
       "      <td>M-CLL</td>\n",
       "      <td>unmutated</td>\n",
       "    </tr>\n",
       "    <tr>\n",
       "      <th>1000</th>\n",
       "      <td>P-SCLL-0353</td>\n",
       "      <td>SCLL-0353</td>\n",
       "      <td>M-CLL</td>\n",
       "      <td>unmutated</td>\n",
       "    </tr>\n",
       "    <tr>\n",
       "      <th>1005</th>\n",
       "      <td>P-SCLL-0358</td>\n",
       "      <td>SCLL-0358</td>\n",
       "      <td>M-CLL</td>\n",
       "      <td>unmutated</td>\n",
       "    </tr>\n",
       "  </tbody>\n",
       "</table>\n",
       "<p>248 rows × 4 columns</p>\n",
       "</div>"
      ],
      "text/plain": [
       "        patientId   sampleId TUMOR_MOLECULAR_SUBTYPE IGHV_MUTATION_STATUS\n",
       "23     P-CRC-0020  DFCI-5053                   M-CLL            unmutated\n",
       "32    P-DFCI-5002  DFCI-5002                   M-CLL            unmutated\n",
       "38    P-DFCI-5018  DFCI-5018                   M-CLL            unmutated\n",
       "45    P-DFCI-5035  DFCI-5035                   M-CLL            unmutated\n",
       "51    P-DFCI-5045  DFCI-5045                   M-CLL            unmutated\n",
       "...           ...        ...                     ...                  ...\n",
       "981   P-SCLL-0334  SCLL-0334                   M-CLL            unmutated\n",
       "988   P-SCLL-0341  SCLL-0341                   M-CLL            unmutated\n",
       "997   P-SCLL-0350  SCLL-0350                   M-CLL            unmutated\n",
       "1000  P-SCLL-0353  SCLL-0353                   M-CLL            unmutated\n",
       "1005  P-SCLL-0358  SCLL-0358                   M-CLL            unmutated\n",
       "\n",
       "[248 rows x 4 columns]"
      ]
     },
     "execution_count": 356,
     "metadata": {},
     "output_type": "execute_result"
    }
   ],
   "source": [
    "# FIND rows where TUMOR_MOLECULAR_SUBTYPE is M-CLL and IGHV_MUTATION_STATUS iS NOT mutated\n",
    "df[(df['TUMOR_MOLECULAR_SUBTYPE'] == 'M-CLL') & (df['IGHV_MUTATION_STATUS'] == 'unmutated')][['patientId', 'sampleId', 'TUMOR_MOLECULAR_SUBTYPE', 'IGHV_MUTATION_STATUS']]"
   ]
  },
  {
   "cell_type": "code",
   "execution_count": null,
   "id": "a37db74b",
   "metadata": {},
   "outputs": [
    {
     "data": {
      "text/html": [
       "<div>\n",
       "<style scoped>\n",
       "    .dataframe tbody tr th:only-of-type {\n",
       "        vertical-align: middle;\n",
       "    }\n",
       "\n",
       "    .dataframe tbody tr th {\n",
       "        vertical-align: top;\n",
       "    }\n",
       "\n",
       "    .dataframe thead th {\n",
       "        text-align: right;\n",
       "    }\n",
       "</style>\n",
       "<table border=\"1\" class=\"dataframe\">\n",
       "  <thead>\n",
       "    <tr style=\"text-align: right;\">\n",
       "      <th></th>\n",
       "      <th>patientId</th>\n",
       "      <th>sampleId</th>\n",
       "      <th>TUMOR_MOLECULAR_SUBTYPE</th>\n",
       "      <th>IGHV_MUTATION_STATUS</th>\n",
       "    </tr>\n",
       "  </thead>\n",
       "  <tbody>\n",
       "    <tr>\n",
       "      <th>7</th>\n",
       "      <td>P-CRC-0007</td>\n",
       "      <td>DFCI-5193</td>\n",
       "      <td>U-CLL</td>\n",
       "      <td>mutated</td>\n",
       "    </tr>\n",
       "    <tr>\n",
       "      <th>10</th>\n",
       "      <td>P-CRC-0009</td>\n",
       "      <td>JB-0010</td>\n",
       "      <td>U-CLL</td>\n",
       "      <td>mutated</td>\n",
       "    </tr>\n",
       "    <tr>\n",
       "      <th>26</th>\n",
       "      <td>P-CRC-0028</td>\n",
       "      <td>CRC-0028</td>\n",
       "      <td>U-CLL</td>\n",
       "      <td>mutated</td>\n",
       "    </tr>\n",
       "    <tr>\n",
       "      <th>42</th>\n",
       "      <td>P-DFCI-5027</td>\n",
       "      <td>DFCI-5027</td>\n",
       "      <td>U-CLL</td>\n",
       "      <td>mutated</td>\n",
       "    </tr>\n",
       "    <tr>\n",
       "      <th>44</th>\n",
       "      <td>P-DFCI-5034</td>\n",
       "      <td>DFCI-5034</td>\n",
       "      <td>U-CLL</td>\n",
       "      <td>mutated</td>\n",
       "    </tr>\n",
       "    <tr>\n",
       "      <th>...</th>\n",
       "      <td>...</td>\n",
       "      <td>...</td>\n",
       "      <td>...</td>\n",
       "      <td>...</td>\n",
       "    </tr>\n",
       "    <tr>\n",
       "      <th>983</th>\n",
       "      <td>P-SCLL-0336</td>\n",
       "      <td>SCLL-0336</td>\n",
       "      <td>U-CLL</td>\n",
       "      <td>mutated</td>\n",
       "    </tr>\n",
       "    <tr>\n",
       "      <th>991</th>\n",
       "      <td>P-SCLL-0344</td>\n",
       "      <td>SCLL-0344</td>\n",
       "      <td>U-CLL</td>\n",
       "      <td>mutated</td>\n",
       "    </tr>\n",
       "    <tr>\n",
       "      <th>992</th>\n",
       "      <td>P-SCLL-0345</td>\n",
       "      <td>SCLL-0345</td>\n",
       "      <td>U-CLL</td>\n",
       "      <td>mutated</td>\n",
       "    </tr>\n",
       "    <tr>\n",
       "      <th>1001</th>\n",
       "      <td>P-SCLL-0354</td>\n",
       "      <td>SCLL-0354</td>\n",
       "      <td>U-CLL</td>\n",
       "      <td>mutated</td>\n",
       "    </tr>\n",
       "    <tr>\n",
       "      <th>1006</th>\n",
       "      <td>P-SCLL-0359</td>\n",
       "      <td>SCLL-0359</td>\n",
       "      <td>U-CLL</td>\n",
       "      <td>mutated</td>\n",
       "    </tr>\n",
       "  </tbody>\n",
       "</table>\n",
       "<p>205 rows × 4 columns</p>\n",
       "</div>"
      ],
      "text/plain": [
       "        patientId   sampleId TUMOR_MOLECULAR_SUBTYPE IGHV_MUTATION_STATUS\n",
       "7      P-CRC-0007  DFCI-5193                   U-CLL              mutated\n",
       "10     P-CRC-0009    JB-0010                   U-CLL              mutated\n",
       "26     P-CRC-0028   CRC-0028                   U-CLL              mutated\n",
       "42    P-DFCI-5027  DFCI-5027                   U-CLL              mutated\n",
       "44    P-DFCI-5034  DFCI-5034                   U-CLL              mutated\n",
       "...           ...        ...                     ...                  ...\n",
       "983   P-SCLL-0336  SCLL-0336                   U-CLL              mutated\n",
       "991   P-SCLL-0344  SCLL-0344                   U-CLL              mutated\n",
       "992   P-SCLL-0345  SCLL-0345                   U-CLL              mutated\n",
       "1001  P-SCLL-0354  SCLL-0354                   U-CLL              mutated\n",
       "1006  P-SCLL-0359  SCLL-0359                   U-CLL              mutated\n",
       "\n",
       "[205 rows x 4 columns]"
      ]
     },
     "execution_count": 357,
     "metadata": {},
     "output_type": "execute_result"
    }
   ],
   "source": [
    "# FIND rows where TUMOR_MOLECULAR_SUBTYPE is M-CLL and IGHV_MUTATION_STATUS iS NOT mutated\n",
    "df[(df['TUMOR_MOLECULAR_SUBTYPE'] == 'U-CLL') & (df['IGHV_MUTATION_STATUS'] == 'mutated')][['patientId', 'sampleId', 'TUMOR_MOLECULAR_SUBTYPE', 'IGHV_MUTATION_STATUS']]"
   ]
  },
  {
   "cell_type": "code",
   "execution_count": null,
   "id": "3bfcb633",
   "metadata": {},
   "outputs": [
    {
     "name": "stdout",
     "output_type": "stream",
     "text": [
      "Checking differences for patientId: P-CRC-0007\n"
     ]
    },
    {
     "data": {
      "text/html": [
       "<div>\n",
       "<style scoped>\n",
       "    .dataframe tbody tr th:only-of-type {\n",
       "        vertical-align: middle;\n",
       "    }\n",
       "\n",
       "    .dataframe tbody tr th {\n",
       "        vertical-align: top;\n",
       "    }\n",
       "\n",
       "    .dataframe thead th {\n",
       "        text-align: right;\n",
       "    }\n",
       "</style>\n",
       "<table border=\"1\" class=\"dataframe\">\n",
       "  <thead>\n",
       "    <tr style=\"text-align: right;\">\n",
       "      <th></th>\n",
       "      <th>sampleId</th>\n",
       "      <th>TUMOR_MOLECULAR_SUBTYPE</th>\n",
       "      <th>IGHV_MUTATION_STATUS</th>\n",
       "      <th>TUMOR_MOLECULAR_SUBTYPE</th>\n",
       "    </tr>\n",
       "  </thead>\n",
       "  <tbody>\n",
       "    <tr>\n",
       "      <th>6</th>\n",
       "      <td>CRC-0007</td>\n",
       "      <td>M-CLL</td>\n",
       "      <td>mutated</td>\n",
       "      <td>M-CLL</td>\n",
       "    </tr>\n",
       "    <tr>\n",
       "      <th>7</th>\n",
       "      <td>DFCI-5193</td>\n",
       "      <td>U-CLL</td>\n",
       "      <td>mutated</td>\n",
       "      <td>U-CLL</td>\n",
       "    </tr>\n",
       "  </tbody>\n",
       "</table>\n",
       "</div>"
      ],
      "text/plain": [
       "    sampleId TUMOR_MOLECULAR_SUBTYPE IGHV_MUTATION_STATUS  \\\n",
       "6   CRC-0007                   M-CLL              mutated   \n",
       "7  DFCI-5193                   U-CLL              mutated   \n",
       "\n",
       "  TUMOR_MOLECULAR_SUBTYPE  \n",
       "6                   M-CLL  \n",
       "7                   U-CLL  "
      ]
     },
     "metadata": {},
     "output_type": "display_data"
    },
    {
     "name": "stdout",
     "output_type": "stream",
     "text": [
      "Checking differences for patientId: P-CRC-0009\n"
     ]
    },
    {
     "data": {
      "text/html": [
       "<div>\n",
       "<style scoped>\n",
       "    .dataframe tbody tr th:only-of-type {\n",
       "        vertical-align: middle;\n",
       "    }\n",
       "\n",
       "    .dataframe tbody tr th {\n",
       "        vertical-align: top;\n",
       "    }\n",
       "\n",
       "    .dataframe thead th {\n",
       "        text-align: right;\n",
       "    }\n",
       "</style>\n",
       "<table border=\"1\" class=\"dataframe\">\n",
       "  <thead>\n",
       "    <tr style=\"text-align: right;\">\n",
       "      <th></th>\n",
       "      <th>sampleId</th>\n",
       "      <th>TUMOR_MOLECULAR_SUBTYPE</th>\n",
       "      <th>IGHV_MUTATION_STATUS</th>\n",
       "      <th>TUMOR_MOLECULAR_SUBTYPE</th>\n",
       "    </tr>\n",
       "  </thead>\n",
       "  <tbody>\n",
       "    <tr>\n",
       "      <th>9</th>\n",
       "      <td>CRC-0009</td>\n",
       "      <td>M-CLL</td>\n",
       "      <td>mutated</td>\n",
       "      <td>M-CLL</td>\n",
       "    </tr>\n",
       "    <tr>\n",
       "      <th>10</th>\n",
       "      <td>JB-0010</td>\n",
       "      <td>U-CLL</td>\n",
       "      <td>mutated</td>\n",
       "      <td>U-CLL</td>\n",
       "    </tr>\n",
       "  </tbody>\n",
       "</table>\n",
       "</div>"
      ],
      "text/plain": [
       "    sampleId TUMOR_MOLECULAR_SUBTYPE IGHV_MUTATION_STATUS  \\\n",
       "9   CRC-0009                   M-CLL              mutated   \n",
       "10   JB-0010                   U-CLL              mutated   \n",
       "\n",
       "   TUMOR_MOLECULAR_SUBTYPE  \n",
       "9                    M-CLL  \n",
       "10                   U-CLL  "
      ]
     },
     "metadata": {},
     "output_type": "display_data"
    },
    {
     "name": "stdout",
     "output_type": "stream",
     "text": [
      "Checking differences for patientId: P-CRC-0011\n"
     ]
    },
    {
     "data": {
      "text/html": [
       "<div>\n",
       "<style scoped>\n",
       "    .dataframe tbody tr th:only-of-type {\n",
       "        vertical-align: middle;\n",
       "    }\n",
       "\n",
       "    .dataframe tbody tr th {\n",
       "        vertical-align: top;\n",
       "    }\n",
       "\n",
       "    .dataframe thead th {\n",
       "        text-align: right;\n",
       "    }\n",
       "</style>\n",
       "<table border=\"1\" class=\"dataframe\">\n",
       "  <thead>\n",
       "    <tr style=\"text-align: right;\">\n",
       "      <th></th>\n",
       "      <th>sampleId</th>\n",
       "      <th>IGHV_MUTATION_STATUS</th>\n",
       "      <th>TUMOR_MOLECULAR_SUBTYPE</th>\n",
       "    </tr>\n",
       "  </thead>\n",
       "  <tbody>\n",
       "    <tr>\n",
       "      <th>12</th>\n",
       "      <td>CRC-0011</td>\n",
       "      <td>unmutated</td>\n",
       "      <td>U-CLL</td>\n",
       "    </tr>\n",
       "    <tr>\n",
       "      <th>13</th>\n",
       "      <td>DFCI-5170</td>\n",
       "      <td>unmutated</td>\n",
       "      <td>U-CLL</td>\n",
       "    </tr>\n",
       "  </tbody>\n",
       "</table>\n",
       "</div>"
      ],
      "text/plain": [
       "     sampleId IGHV_MUTATION_STATUS TUMOR_MOLECULAR_SUBTYPE\n",
       "12   CRC-0011            unmutated                   U-CLL\n",
       "13  DFCI-5170            unmutated                   U-CLL"
      ]
     },
     "metadata": {},
     "output_type": "display_data"
    },
    {
     "name": "stdout",
     "output_type": "stream",
     "text": [
      "Checking differences for patientId: P-CRC-0020\n"
     ]
    },
    {
     "data": {
      "text/html": [
       "<div>\n",
       "<style scoped>\n",
       "    .dataframe tbody tr th:only-of-type {\n",
       "        vertical-align: middle;\n",
       "    }\n",
       "\n",
       "    .dataframe tbody tr th {\n",
       "        vertical-align: top;\n",
       "    }\n",
       "\n",
       "    .dataframe thead th {\n",
       "        text-align: right;\n",
       "    }\n",
       "</style>\n",
       "<table border=\"1\" class=\"dataframe\">\n",
       "  <thead>\n",
       "    <tr style=\"text-align: right;\">\n",
       "      <th></th>\n",
       "      <th>sampleId</th>\n",
       "      <th>TUMOR_MOLECULAR_SUBTYPE</th>\n",
       "      <th>U1_STATUS</th>\n",
       "      <th>IGHV_MUTATION_STATUS</th>\n",
       "      <th>TUMOR_MOLECULAR_SUBTYPE</th>\n",
       "    </tr>\n",
       "  </thead>\n",
       "  <tbody>\n",
       "    <tr>\n",
       "      <th>22</th>\n",
       "      <td>CRC-0020</td>\n",
       "      <td>U-CLL</td>\n",
       "      <td>WT</td>\n",
       "      <td>unmutated</td>\n",
       "      <td>U-CLL</td>\n",
       "    </tr>\n",
       "    <tr>\n",
       "      <th>23</th>\n",
       "      <td>DFCI-5053</td>\n",
       "      <td>M-CLL</td>\n",
       "      <td>MUT</td>\n",
       "      <td>unmutated</td>\n",
       "      <td>M-CLL</td>\n",
       "    </tr>\n",
       "  </tbody>\n",
       "</table>\n",
       "</div>"
      ],
      "text/plain": [
       "     sampleId TUMOR_MOLECULAR_SUBTYPE U1_STATUS IGHV_MUTATION_STATUS  \\\n",
       "22   CRC-0020                   U-CLL        WT            unmutated   \n",
       "23  DFCI-5053                   M-CLL       MUT            unmutated   \n",
       "\n",
       "   TUMOR_MOLECULAR_SUBTYPE  \n",
       "22                   U-CLL  \n",
       "23                   M-CLL  "
      ]
     },
     "metadata": {},
     "output_type": "display_data"
    },
    {
     "name": "stdout",
     "output_type": "stream",
     "text": [
      "Checking differences for patientId: P-CRC-0035\n"
     ]
    },
    {
     "data": {
      "text/html": [
       "<div>\n",
       "<style scoped>\n",
       "    .dataframe tbody tr th:only-of-type {\n",
       "        vertical-align: middle;\n",
       "    }\n",
       "\n",
       "    .dataframe tbody tr th {\n",
       "        vertical-align: top;\n",
       "    }\n",
       "\n",
       "    .dataframe thead th {\n",
       "        text-align: right;\n",
       "    }\n",
       "</style>\n",
       "<table border=\"1\" class=\"dataframe\">\n",
       "  <thead>\n",
       "    <tr style=\"text-align: right;\">\n",
       "      <th></th>\n",
       "      <th>sampleId</th>\n",
       "      <th>TUMOR_MOLECULAR_SUBTYPE</th>\n",
       "      <th>IGHV_MUTATION_STATUS</th>\n",
       "      <th>TUMOR_MOLECULAR_SUBTYPE</th>\n",
       "    </tr>\n",
       "  </thead>\n",
       "  <tbody>\n",
       "    <tr>\n",
       "      <th>29</th>\n",
       "      <td>CRC-0035</td>\n",
       "      <td>U-CLL</td>\n",
       "      <td>NaN</td>\n",
       "      <td>U-CLL</td>\n",
       "    </tr>\n",
       "    <tr>\n",
       "      <th>30</th>\n",
       "      <td>DFCI-5088</td>\n",
       "      <td>M-CLL</td>\n",
       "      <td>NaN</td>\n",
       "      <td>M-CLL</td>\n",
       "    </tr>\n",
       "  </tbody>\n",
       "</table>\n",
       "</div>"
      ],
      "text/plain": [
       "     sampleId TUMOR_MOLECULAR_SUBTYPE IGHV_MUTATION_STATUS  \\\n",
       "29   CRC-0035                   U-CLL                  NaN   \n",
       "30  DFCI-5088                   M-CLL                  NaN   \n",
       "\n",
       "   TUMOR_MOLECULAR_SUBTYPE  \n",
       "29                   U-CLL  \n",
       "30                   M-CLL  "
      ]
     },
     "metadata": {},
     "output_type": "display_data"
    },
    {
     "name": "stdout",
     "output_type": "stream",
     "text": [
      "Checking differences for patientId: P-NHLBI-0073\n"
     ]
    },
    {
     "data": {
      "text/html": [
       "<div>\n",
       "<style scoped>\n",
       "    .dataframe tbody tr th:only-of-type {\n",
       "        vertical-align: middle;\n",
       "    }\n",
       "\n",
       "    .dataframe tbody tr th {\n",
       "        vertical-align: top;\n",
       "    }\n",
       "\n",
       "    .dataframe thead th {\n",
       "        text-align: right;\n",
       "    }\n",
       "</style>\n",
       "<table border=\"1\" class=\"dataframe\">\n",
       "  <thead>\n",
       "    <tr style=\"text-align: right;\">\n",
       "      <th></th>\n",
       "      <th>sampleId</th>\n",
       "      <th>TUMOR_MOLECULAR_SUBTYPE</th>\n",
       "      <th>IGHV_MUTATION_STATUS</th>\n",
       "      <th>TUMOR_MOLECULAR_SUBTYPE</th>\n",
       "    </tr>\n",
       "  </thead>\n",
       "  <tbody>\n",
       "    <tr>\n",
       "      <th>633</th>\n",
       "      <td>NHLBI-0052</td>\n",
       "      <td>U-CLL</td>\n",
       "      <td>mutated</td>\n",
       "      <td>U-CLL</td>\n",
       "    </tr>\n",
       "    <tr>\n",
       "      <th>634</th>\n",
       "      <td>NHLBI-0073</td>\n",
       "      <td>M-CLL</td>\n",
       "      <td>mutated</td>\n",
       "      <td>M-CLL</td>\n",
       "    </tr>\n",
       "  </tbody>\n",
       "</table>\n",
       "</div>"
      ],
      "text/plain": [
       "       sampleId TUMOR_MOLECULAR_SUBTYPE IGHV_MUTATION_STATUS  \\\n",
       "633  NHLBI-0052                   U-CLL              mutated   \n",
       "634  NHLBI-0073                   M-CLL              mutated   \n",
       "\n",
       "    TUMOR_MOLECULAR_SUBTYPE  \n",
       "633                   U-CLL  \n",
       "634                   M-CLL  "
      ]
     },
     "metadata": {},
     "output_type": "display_data"
    }
   ],
   "source": [
    "#  there are 2 rows in df[df['patientId'] == 'P-CRC-0007'], find where they differ\n",
    "def check_patient_differences(patientId):\n",
    "    dupl = df[df['patientId'] == patientId]\n",
    "    diff_columns = dupl.columns[dupl.nunique() > 1]\n",
    "    # append ['IGHV_MUTATION_STATUS', 'TUMOR_MOLECULAR_SUBTYPE'] to diff_columns\n",
    "    diff_columns = diff_columns.append(pd.Index(['IGHV_MUTATION_STATUS', 'TUMOR_MOLECULAR_SUBTYPE']))\n",
    "    display(dupl[diff_columns])\n",
    "    return df[df['patientId'] == patientId]\n",
    "\n",
    "# print rows with duplicate patient IDs\n",
    "duplicates = df[df.duplicated(subset=['patientId'], keep=False)]\n",
    "for patientId in duplicates['patientId'].unique():\n",
    "    print(f\"Checking differences for patientId: {patientId}\")\n",
    "    check_patient_differences(patientId)"
   ]
  },
  {
   "cell_type": "code",
   "execution_count": null,
   "id": "272a728a",
   "metadata": {},
   "outputs": [],
   "source": []
  }
 ],
 "metadata": {
  "kernelspec": {
   "display_name": "mscthesis",
   "language": "python",
   "name": "python3"
  },
  "language_info": {
   "codemirror_mode": {
    "name": "ipython",
    "version": 3
   },
   "file_extension": ".py",
   "mimetype": "text/x-python",
   "name": "python",
   "nbconvert_exporter": "python",
   "pygments_lexer": "ipython3",
   "version": "3.9.21"
  }
 },
 "nbformat": 4,
 "nbformat_minor": 5
}
